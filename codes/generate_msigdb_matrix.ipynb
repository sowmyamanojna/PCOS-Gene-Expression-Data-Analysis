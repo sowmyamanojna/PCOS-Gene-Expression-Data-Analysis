{
 "cells": [
  {
   "cell_type": "markdown",
   "metadata": {},
   "source": [
    "# Processing MSigDB Gene Sets into Binary Matrix\n",
    "\n",
    "This notebook loads the full MSigDB gene set `.gmt` file (version 6.1) and outputs a binary, gene by gene set matrix indicating gene membership in the given gene set.\n",
    "\n",
    "**Note that we exclude gene sets with restrictive licences (KEGG, Biocarta, and The AAAS/STKE Cell Signaling Database)**"
   ]
  },
  {
   "cell_type": "code",
   "execution_count": 1,
   "metadata": {},
   "outputs": [],
   "source": [
    "import os\n",
    "import csv\n",
    "import numpy as np\n",
    "import pandas as pd"
   ]
  },
  {
   "cell_type": "code",
   "execution_count": 2,
   "metadata": {},
   "outputs": [],
   "source": [
    "def make_template_matrix(msigdb_file, blacklist, checkblacklist=True):\n",
    "    \"\"\"\n",
    "    Retrieve all genes and pathways from given msigdb .gmt file\n",
    "    \n",
    "    Output:\n",
    "    sorted gene by pathways pandas dataframe. Entries indicate membership\n",
    "    \"\"\"\n",
    "    all_db_pathways = []\n",
    "    all_db_genes = []\n",
    "\n",
    "    # Get a set of all genes and all pathways in MSigDB (not blacklisted)\n",
    "    with open(msigdb_file, 'r') as msigdb_fh:\n",
    "        msigdb_reader = csv.reader(msigdb_fh, delimiter='\\t')\n",
    "\n",
    "        for row in msigdb_reader:\n",
    "            signature_name = row[0]\n",
    "            signature_genes = row[2:]\n",
    "            \n",
    "            if checkblacklist:\n",
    "                if signature_name.startswith(blacklist):\n",
    "                    continue\n",
    "\n",
    "            all_db_pathways.append(signature_name)\n",
    "            all_db_genes += signature_genes\n",
    "        \n",
    "    big_msigdb_df = pd.DataFrame(0, index=set(all_db_genes), columns=all_db_pathways)\n",
    "    big_msigdb_df = big_msigdb_df.sort_index()\n",
    "    big_msigdb_df = big_msigdb_df.T.sort_index().T\n",
    "    \n",
    "    # Loop through file again to populate dataframe. This is a fast implementation\n",
    "    with open(msigdb_file, 'r') as msigdb_fh:\n",
    "        msigdb_reader = csv.reader(msigdb_fh, delimiter='\\t')\n",
    "        for row in msigdb_reader:\n",
    "            signature_name = row[0]\n",
    "            signature_genes = row[2:]\n",
    "            if checkblacklist:\n",
    "                if signature_name.startswith(blacklist):\n",
    "                    continue\n",
    "\n",
    "            for gene in signature_genes:\n",
    "                big_msigdb_df.at[gene, signature_name] = 1\n",
    "\n",
    "    return big_msigdb_df"
   ]
  },
  {
   "cell_type": "code",
   "execution_count": 3,
   "metadata": {},
   "outputs": [],
   "source": [
    "# Store .gmt files\n",
    "full_msigdb_file = os.path.join('data', 'msigdb.v6.1.entrez.gmt')\n",
    "\n",
    "# Resources with restrictive licenses\n",
    "blacklist = ('KEGG', 'BIOCARTA', 'ST_')"
   ]
  },
  {
   "cell_type": "markdown",
   "metadata": {},
   "source": [
    "## Process MSigDB gmt files into large matrix"
   ]
  },
  {
   "cell_type": "code",
   "execution_count": 4,
   "metadata": {},
   "outputs": [
    {
     "name": "stdout",
     "output_type": "stream",
     "text": [
      "(0, 85)\n",
      "CPU times: user 5.66 ms, sys: 0 ns, total: 5.66 ms\n",
      "Wall time: 5.08 ms\n"
     ]
    }
   ],
   "source": [
    "%%time\n",
    "full_msigdb_df = make_template_matrix(full_msigdb_file, blacklist, checkblacklist=True)\n",
    "print(full_msigdb_df.shape)"
   ]
  },
  {
   "cell_type": "code",
   "execution_count": 5,
   "metadata": {},
   "outputs": [
    {
     "name": "stdout",
     "output_type": "stream",
     "text": [
      "CPU times: user 6.16 ms, sys: 2.75 ms, total: 8.91 ms\n",
      "Wall time: 8.15 ms\n"
     ]
    }
   ],
   "source": [
    "%%time\n",
    "full_msigdb_file = os.path.join('data', 'full_msigdb_binary_matrix.tsv.bz2')\n",
    "full_msigdb_df.to_csv(full_msigdb_file, sep='\\t', compression='bz2')"
   ]
  },
  {
   "cell_type": "code",
   "execution_count": 6,
   "metadata": {},
   "outputs": [
    {
     "data": {
      "text/html": [
       "<div>\n",
       "<style scoped>\n",
       "    .dataframe tbody tr th:only-of-type {\n",
       "        vertical-align: middle;\n",
       "    }\n",
       "\n",
       "    .dataframe tbody tr th {\n",
       "        vertical-align: top;\n",
       "    }\n",
       "\n",
       "    .dataframe thead th {\n",
       "        text-align: right;\n",
       "    }\n",
       "</style>\n",
       "<table border=\"1\" class=\"dataframe\">\n",
       "  <thead>\n",
       "    <tr style=\"text-align: right;\">\n",
       "      <th></th>\n",
       "      <th>&lt;img src=\"images/BroadLogo.png\" width=\"131\" height=\"33\" border=\"0\" style=\"padding-left: 5px;\" /&gt;</th>\n",
       "      <th>&lt;img src=\"images/UCSDlogo.png\" width=\"146\" height=\"33\" border=\"0\" style=\"padding-left: 5px; padding-right: 5px;\" /&gt;</th>\n",
       "      <th>&lt;/span&gt;</th>\n",
       "      <th>&lt;input id=\"password\" type=\"hidden\" name=\"j_password\" value=\"password\"/&gt;&lt;/td&gt;</th>\n",
       "      <th>&lt;span style=\"float: right\"&gt;</th>\n",
       "      <th>&lt;td colspan=\"2\" align=\"left\"&gt;Items marked with &lt;font color=\"red\"&gt;*&lt;/font&gt; are required.&lt;/td&gt;</th>\n",
       "      <th>&lt;td colspan=\"2\"&gt;&amp;nbsp;&lt;/td&gt;</th>\n",
       "      <th>&lt;td&gt;&amp;nbsp;&lt;/td&gt;</th>\n",
       "      <th>&lt;td&gt;&lt;h3&gt;Email:&amp;nbsp;&lt;font color=\"red\"&gt;*&lt;/font&gt;&amp;nbsp;&lt;/h3&gt;&lt;/td&gt;</th>\n",
       "      <th>&lt;td&gt;&lt;input id=\"email\" type=\"text\" name=\"j_username\" value=''/&gt;</th>\n",
       "      <th>...</th>\n",
       "      <th>&lt;!-- start content wrapper --&gt;</th>\n",
       "      <th>&lt;!DOCTYPE html PUBLIC \"-//W3C//DTD XHTML 1.0 Transitional//EN\" \"http://www.w3.org/TR/xhtml1/DTD/xhtml1-transitional.dtd\"&gt;</th>\n",
       "      <th>&lt;/body&gt;</th>\n",
       "      <th>&lt;/div&gt;</th>\n",
       "      <th>&lt;/div&gt;  &lt;!--wrapper ends here --&gt;</th>\n",
       "      <th>&lt;/head&gt;</th>\n",
       "      <th>&lt;/html&gt;</th>\n",
       "      <th>&lt;body&gt;</th>\n",
       "      <th>&lt;div id=\"contentwrapper\"&gt;</th>\n",
       "      <th>&lt;html xmlns=\"http://www.w3.org/1999/xhtml\"&gt;</th>\n",
       "    </tr>\n",
       "  </thead>\n",
       "  <tbody>\n",
       "  </tbody>\n",
       "</table>\n",
       "<p>0 rows × 85 columns</p>\n",
       "</div>"
      ],
      "text/plain": [
       "Empty DataFrame\n",
       "Columns: [                <img src=\"images/BroadLogo.png\" width=\"131\" height=\"33\" border=\"0\" style=\"padding-left: 5px;\" />,                 <img src=\"images/UCSDlogo.png\" width=\"146\" height=\"33\" border=\"0\" style=\"padding-left: 5px; padding-right: 5px;\" />,               </span>,               <input id=\"password\" type=\"hidden\" name=\"j_password\" value=\"password\"/></td>,               <span style=\"float: right\">,               <td colspan=\"2\" align=\"left\">Items marked with <font color=\"red\">*</font> are required.</td>,               <td colspan=\"2\">&nbsp;</td>,               <td>&nbsp;</td>,               <td><h3>Email:&nbsp;<font color=\"red\">*</font>&nbsp;</h3></td>,               <td><input id=\"email\" type=\"text\" name=\"j_username\" value=''/>,               <td><input type=\"button\" name=\"login\" value=\"login\" style=\"margin-top:10px;\" onclick=\"validateForm()\"/></td>,               alert(\"Please enter an email address.\");,               document.loginForm.email.select();,               return false;,             </h1>,             </tr>,             </tr>,             </tr>,             </tr>,             <a href=\"register.jsp\"/>Click here</a> to register to view the MSigDB gene sets and/or download the GSEA software. This helps us track and better serve our user community.<br/><br/>,             <h1>Login to GSEA/MSigDB,             <h2>Login</h2>,             <tr>,             <tr>,             <tr>,             <tr>,             If you have already registered for GSEA or MSigDB please enter your registration email address below.<br/><br/>,             document.loginForm.submit();,             if (!getEmail()) {,             if (str == null) return null;,             return (\"\" == str) ? null : str;,             return email;,             str = str.replace(/^\\s*((?:[\\S\\s]*\\S)?)\\s*$/, '$1');,             var email = trimToNull(emailElt.value);,             var emailElt = document.getElementById('email');,             },           </table>,           <table border=\"0\" class=\"bodyfont\" cellpadding=\"5\" cellspacing=\"5\">,           function getEmail() {,           function trimToNull(str) {,           function validateForm() {,           },           },           },         </form>,         </script>,         <form id=\"loginForm\" name=\"loginForm\" action=\"j_spring_security_check\" method=\"POST\">,         <li><a href=\"contact.jsp\" rel=\"nofollow\"  target=\"_parent\">Contact</a></li>,         <li><a href=\"downloads.jsp\" rel=\"nofollow\"  target=\"_parent\">Downloads</a></li>,         <li><a href=\"https://software.broadinstitute.org/cancer/software/gsea/wiki/index.php/Main_Page\" target=\"_parent\">Documentation</a></li>,         <li><a href=\"index.jsp\" rel=\"nofollow\"  target=\"_parent\">GSEA Home</a></li>,         <li><a href=\"msigdb/index.jsp\"  target=\"_parent\">Molecular Signatures Database</a></li>,         <li><a href=\"team.jsp\" rel=\"nofollow\"  target=\"_parent\">Team</a></li>,         <script type=\"text/javascript\">,       </ul>,       <ul>,     </div>,     <base href=\"/gsea/\" />,     <div id=\"breadcrumbs\"><a href=\"login.jsp\" target=\"_parent\">login</a><br/><a href=\"register.jsp\" target=\"_parent\">register</a></div>,     <div id=\"search\"> </div>,     <div id=\"topnavs\"> <!-- top horizontal nav bar -->,     <link href=\"css/style.css\" rel=\"stylesheet\" type=\"text/css\" />,     <link href=\"images/icon_32x32.png\" rel=\"icon\" />,     <meta http-equiv=\"Content-Type\" content=\"text/html; charset=ISO-8859-1\" />,     <meta name=\"verify-v1\" content=\"/23Jlayki9tnRqU7DcCYrbFI7zPmHJ3HfeZltM6mK5Q=\" />,     <title>GSEA | Login</title>,     Copyright (c) 2004-2020 Broad Institute, Inc., Massachusetts Institute of Technology, and Regents of the University of California.  All rights reserved.,   </div>,   </div>,   <div align=\"left\" id=\"footer\" style=\"padding-right: 5%; padding-left:5%;\">,   <div id=\"content_full\">,   <div id=\"logo\"><a href=\"index.jsp\" target=\"_parent\"><img src=\"images/GSEA-logo.gif\" border=\"0\" /></a></div>,   <div id=\"wrapper\">,   <head>, <!-- Copyright (c) 2013-2020 Broad Institute, Inc., Massachusetts Institute of Technology, and Regents of the University of California.  All rights reserved. -->, <!-- start content wrapper -->, <!DOCTYPE html PUBLIC \"-//W3C//DTD XHTML 1.0 Transitional//EN\" \"http://www.w3.org/TR/xhtml1/DTD/xhtml1-transitional.dtd\">, </body>, </div>, </div>  <!--wrapper ends here -->, </head>, </html>, <body>, <div id=\"contentwrapper\">, <html xmlns=\"http://www.w3.org/1999/xhtml\">]\n",
       "Index: []\n",
       "\n",
       "[0 rows x 85 columns]"
      ]
     },
     "execution_count": 6,
     "metadata": {},
     "output_type": "execute_result"
    }
   ],
   "source": [
    "full_msigdb_df"
   ]
  },
  {
   "cell_type": "code",
   "execution_count": null,
   "metadata": {},
   "outputs": [],
   "source": []
  }
 ],
 "metadata": {
  "kernelspec": {
   "display_name": "Python 3",
   "language": "python",
   "name": "python3"
  },
  "language_info": {
   "codemirror_mode": {
    "name": "ipython",
    "version": 3
   },
   "file_extension": ".py",
   "mimetype": "text/x-python",
   "name": "python",
   "nbconvert_exporter": "python",
   "pygments_lexer": "ipython3",
   "version": "3.8.5"
  }
 },
 "nbformat": 4,
 "nbformat_minor": 2
}
