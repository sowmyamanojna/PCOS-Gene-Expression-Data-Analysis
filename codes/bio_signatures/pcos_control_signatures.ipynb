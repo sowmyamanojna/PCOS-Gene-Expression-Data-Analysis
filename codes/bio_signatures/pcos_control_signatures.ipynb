{
  "nbformat": 4,
  "nbformat_minor": 0,
  "metadata": {
    "colab": {
      "name": "pcos-control-signatures.ipynb",
      "provenance": []
    },
    "kernelspec": {
      "name": "python3",
      "display_name": "Python 3"
    }
  },
  "cells": [
    {
      "cell_type": "code",
      "metadata": {
        "id": "omvkCz-sbvc0"
      },
      "source": [
        "import numpy as np\r\n",
        "import pandas as pd\r\n",
        "import pickle as pkl\r\n",
        "\r\n",
        "import time\r\n",
        "import matplotlib.pyplot as plt\r\n",
        "import seaborn as sns\r\n",
        "from tqdm import tqdm\r\n",
        "\r\n",
        "from scipy.stats import ttest_ind, ttest_rel\r\n",
        "\r\n",
        "import warnings\r\n",
        "warnings.filterwarnings(\"ignore\")"
      ],
      "execution_count": 1,
      "outputs": []
    },
    {
      "cell_type": "code",
      "metadata": {
        "colab": {
          "base_uri": "https://localhost:8080/"
        },
        "id": "9BUMzM5WcpCk",
        "outputId": "09924c65-d291-4089-d93a-3a6cffc858a8"
      },
      "source": [
        "from google.colab import drive\r\n",
        "drive.mount(\"/content/drive/\")"
      ],
      "execution_count": 2,
      "outputs": [
        {
          "output_type": "stream",
          "text": [
            "Mounted at /content/drive/\n"
          ],
          "name": "stdout"
        }
      ]
    },
    {
      "cell_type": "code",
      "metadata": {
        "id": "N13RMMUghKDx"
      },
      "source": [
        "common_norm_df = pd.read_csv('/content/drive/MyDrive/aacb_project/datasets/common_normalized.csv', index_col=0)\r\n",
        "df_new = pd.read_csv(\"/content/drive/MyDrive/aacb_project/datasets/control_pcos_celltype_mapping.csv\")\r\n",
        "\r\n",
        "normal = [\"control\", \"obese\", \"pioglitazone\", \"lean\", \"valproic\"]\r\n",
        "pcos = [\"PCOS\", \"PCOS_lean\", \"PCOS_obese\", \"PCOS_insulin_res\"]\r\n",
        "replacement = {}\r\n",
        "for i in normal:\r\n",
        "    replacement[i] = 0\r\n",
        "for i in pcos:\r\n",
        "    replacement[i] = 1\r\n",
        "\r\n",
        "position = []\r\n",
        "values = list(df_new[\"sample_id\"])\r\n",
        "for i,j in enumerate(common_norm_df[\"sample_id\"]):\r\n",
        "    position.append(values.index(j))\r\n",
        "\r\n",
        "df_new = df_new.loc[position]\r\n",
        "df_new = df_new.reset_index()\r\n",
        "df_new = df_new.drop(\"index\", axis=1)\r\n",
        "\r\n",
        "result = pd.merge(common_norm_df, df_new[df_new.columns[:-1]], how='inner', on='sample_id')\r\n",
        "gene_feature_ids = result.columns[1:-3]\r\n",
        "\r\n",
        "result[\"PCOS\"] = df_new[\"PCOS/Control\"]\r\n",
        "result.drop([\"PCOS/Control\"], axis=1, inplace=True)\r\n",
        "result.replace({\"PCOS\":replacement}, inplace=True)\r\n",
        "\r\n",
        "gene_feature_ids = result.columns[1:-3]"
      ],
      "execution_count": 3,
      "outputs": []
    },
    {
      "cell_type": "code",
      "metadata": {
        "colab": {
          "base_uri": "https://localhost:8080/"
        },
        "id": "RJokCvqtcFv7",
        "outputId": "e465a19a-1189-46b9-86e0-edd4eaf276f7"
      },
      "source": [
        "# Setting up the possible latent dimensions\r\n",
        "# A total of 27 latent dimensions are taken under consideration\r\n",
        "\r\n",
        "k_list = []\r\n",
        "k_list.extend(list(range(2, 10)))\r\n",
        "k_list.extend(list(range(10, 20, 2)))\r\n",
        "k_list.extend(list(range(20, 50, 5)))\r\n",
        "k_list.extend(list(range(50, 61, 10)))\r\n",
        "k_list.append(78)\r\n",
        "k_list.extend(list(range(80, 100, 10)))\r\n",
        "k_list.extend(list(range(100, 176, 25)))\r\n",
        "\r\n",
        "print(\"Latent dimensions:\")\r\n",
        "print(k_list)\r\n",
        "\r\n",
        "model_list = [\"pca\", \"ica\", \"nmf\", \"dae\", \"vae\"]\r\n",
        "print(model_list)"
      ],
      "execution_count": 4,
      "outputs": [
        {
          "output_type": "stream",
          "text": [
            "Latent dimensions:\n",
            "[2, 3, 4, 5, 6, 7, 8, 9, 10, 12, 14, 16, 18, 20, 25, 30, 35, 40, 45, 50, 60, 78, 80, 90, 100, 125, 150, 175]\n",
            "['pca', 'ica', 'nmf', 'dae', 'vae']\n"
          ],
          "name": "stdout"
        }
      ]
    },
    {
      "cell_type": "code",
      "metadata": {
        "id": "_v08pNO3cKM4"
      },
      "source": [
        "f1 = open('/content/drive/MyDrive/aacb_project/datasets/z_dict_pcos.p', 'rb')\r\n",
        "z_dict_pcos = pkl.load(f1)\r\n",
        "f1.close()\r\n",
        "f2 = open('/content/drive/MyDrive/aacb_project/datasets/z_dict_control.p', 'rb')\r\n",
        "z_dict_control = pkl.load(f2)\r\n",
        "f2.close()"
      ],
      "execution_count": 5,
      "outputs": []
    },
    {
      "cell_type": "code",
      "metadata": {
        "id": "35aF477xcL0g"
      },
      "source": [
        "def ttest_difference(a_activation, b_activation):\r\n",
        "    t_stat, t_p = ttest_ind(a_activation, b_activation, equal_var=False)\r\n",
        "    return([t_stat, t_p])\r\n",
        "\r\n",
        "def get_ttest_results(model_list, k_list, group_a, group_b):\r\n",
        "    full_results = []\r\n",
        "    for model in model_list:\r\n",
        "        print(\"Model:\", model)\r\n",
        "        time.sleep(1)\r\n",
        "        a_recon = group_a[model]\r\n",
        "        b_recon = group_b[model]\r\n",
        "        for z_dim in tqdm(k_list):\r\n",
        "            a_recon_z = np.array(a_recon[z_dim]).transpose()\r\n",
        "            b_recon_z = np.array(b_recon[z_dim]).transpose()\r\n",
        "            for i in range(len(gene_feature_ids)):\r\n",
        "                feature_num = gene_feature_ids[i]\r\n",
        "                if i < len(a_recon_z):\r\n",
        "                  a_act = a_recon_z[i]\r\n",
        "                else:\r\n",
        "                  a_act = []\r\n",
        "                if i < len(b_recon_z):\r\n",
        "                  b_act = b_recon_z[i]\r\n",
        "                else:\r\n",
        "                  b_act = []\r\n",
        "                t_stat, t_p = ttest_difference(a_act, b_act)\r\n",
        "\r\n",
        "                result_df = pd.DataFrame({'t_stat': [t_stat], 't_p': [t_p], 'algorithm': [model], 'feature_num': feature_num, 'z_dim': z_dim}).fillna(1)\r\n",
        "                full_results.append(result_df)\r\n",
        "\r\n",
        "    full_results_df = pd.concat(full_results)\r\n",
        "    full_results_df = full_results_df.assign(neg_log_p=-np.log10(full_results_df.t_p + 1e-300))\r\n",
        "    full_results_df = full_results_df.sort_values(by='neg_log_p', ascending=False)\r\n",
        "    full_results_df = full_results_df.reset_index(drop=True)\r\n",
        "    return full_results_df"
      ],
      "execution_count": 6,
      "outputs": []
    },
    {
      "cell_type": "code",
      "metadata": {
        "colab": {
          "base_uri": "https://localhost:8080/"
        },
        "id": "0JXSFg3ocOJ8",
        "outputId": "d7b97e3b-6ff9-47c2-b654-6fc7da3ae5bc"
      },
      "source": [
        "pcos_vs_control_ttest_df = get_ttest_results(model_list, k_list, z_dict_pcos, z_dict_control)"
      ],
      "execution_count": 7,
      "outputs": [
        {
          "output_type": "stream",
          "text": [
            "Model: pca\n"
          ],
          "name": "stdout"
        },
        {
          "output_type": "stream",
          "text": [
            "100%|██████████| 28/28 [01:17<00:00,  2.76s/it]\n"
          ],
          "name": "stderr"
        },
        {
          "output_type": "stream",
          "text": [
            "Model: ica\n"
          ],
          "name": "stdout"
        },
        {
          "output_type": "stream",
          "text": [
            "100%|██████████| 28/28 [01:18<00:00,  2.80s/it]\n"
          ],
          "name": "stderr"
        },
        {
          "output_type": "stream",
          "text": [
            "Model: nmf\n"
          ],
          "name": "stdout"
        },
        {
          "output_type": "stream",
          "text": [
            "100%|██████████| 28/28 [01:19<00:00,  2.83s/it]\n"
          ],
          "name": "stderr"
        },
        {
          "output_type": "stream",
          "text": [
            "Model: dae\n"
          ],
          "name": "stdout"
        },
        {
          "output_type": "stream",
          "text": [
            "100%|██████████| 28/28 [01:19<00:00,  2.83s/it]\n"
          ],
          "name": "stderr"
        },
        {
          "output_type": "stream",
          "text": [
            "Model: vae\n"
          ],
          "name": "stdout"
        },
        {
          "output_type": "stream",
          "text": [
            "100%|██████████| 28/28 [01:20<00:00,  2.87s/it]\n"
          ],
          "name": "stderr"
        }
      ]
    },
    {
      "cell_type": "code",
      "metadata": {
        "colab": {
          "base_uri": "https://localhost:8080/"
        },
        "id": "fSdlPECtlrjw",
        "outputId": "8c702f82-3d6b-48a0-b769-d44ef769af6a"
      },
      "source": [
        "print(pcos_vs_control_ttest_df.head(20))\r\n",
        "print(pcos_vs_control_ttest_df.shape)"
      ],
      "execution_count": 8,
      "outputs": [
        {
          "output_type": "stream",
          "text": [
            "      t_stat       t_p algorithm feature_num  z_dim  neg_log_p\n",
            "0  -5.262154  0.000002       pca      148753     30   5.665022\n",
            "1  -5.307754  0.000003       pca      148753     25   5.502522\n",
            "2  -4.529234  0.000021       ica        2350     40   4.676669\n",
            "3   4.144507  0.000064       pca         389     60   4.190564\n",
            "4  -5.846541  0.000069       ica        4801      8   4.158072\n",
            "5   4.445492  0.000100       pca         949     18   3.999575\n",
            "6   4.017238  0.000106       ica      254359     60   3.973541\n",
            "7  -4.065977  0.000117       ica       10465     40   3.932611\n",
            "8   3.851503  0.000191       pca        8085     60   3.718171\n",
            "9   4.178219  0.000195       pca       23360     18   3.709140\n",
            "10  4.432373  0.000217       pca       60485     12   3.663171\n",
            "11  3.951323  0.000254       ica       83715     25   3.594646\n",
            "12  6.349668  0.000286       pca        3831      5   3.543849\n",
            "13  4.145593  0.000292       pca        2987     16   3.535346\n",
            "14  4.748202  0.000318       pca       51150      8   3.497757\n",
            "15 -3.959898  0.000319       ica       51388     20   3.496484\n",
            "16  3.740767  0.000349       pca        8085     40   3.457368\n",
            "17  4.261166  0.000364       pca       54849     12   3.438994\n",
            "18  4.247317  0.000372       pca       79091     12   3.429563\n",
            "19 -4.771892  0.000405       ica       56889      8   3.392628\n",
            "(233240, 6)\n"
          ],
          "name": "stdout"
        }
      ]
    },
    {
      "cell_type": "code",
      "metadata": {
        "colab": {
          "base_uri": "https://localhost:8080/"
        },
        "id": "b3z2xg2pcRYa",
        "outputId": "28def1db-e4ae-4aa7-f1dd-61f3f535a688"
      },
      "source": [
        "pc = pcos_vs_control_ttest_df.iloc[0]\r\n",
        "print(\"PCOS vs Control:\", pc['algorithm'], pc['feature_num'], pc['z_dim'], pc['neg_log_p'])"
      ],
      "execution_count": 9,
      "outputs": [
        {
          "output_type": "stream",
          "text": [
            "PCOS vs Control: pca 148753 30 5.665021548207784\n"
          ],
          "name": "stdout"
        }
      ]
    },
    {
      "cell_type": "code",
      "metadata": {
        "id": "Sqj8TqaFcTdg",
        "colab": {
          "base_uri": "https://localhost:8080/"
        },
        "outputId": "5369c616-ebda-409b-d176-e9885519621a"
      },
      "source": [
        "# pcos vs control\r\n",
        "pcos_control_df = [pd.DataFrame(y) for x, y in pcos_vs_control_ttest_df.groupby(['z_dim', 'algorithm'], as_index=False)]\r\n",
        "top_features_per_algo_across_k = dict(zip(model_list, [[] for _ in range(len(model_list))]))\r\n",
        "for pcdf in pcos_control_df:\r\n",
        "    pcdf = pcdf.sort_values(by='neg_log_p', ascending=False)\r\n",
        "    top_df = pcdf.iloc[0]\r\n",
        "    if top_df['neg_log_p'] > 0:\r\n",
        "      top_features_per_algo_across_k[top_df['algorithm']].append([top_df['feature_num'], top_df['z_dim'], top_df['neg_log_p']])"
      ],
      "execution_count": 12,
      "outputs": [
        {
          "output_type": "stream",
          "text": [
            "dae 10327 2 1.7473211397499748\n",
            "ica 28981 2 3.3236896825488693\n",
            "nmf 55709 2 1.6774338790455985\n",
            "pca 116285 2 1.94147720030355\n",
            "vae 53942 2 1.7869873852500566\n",
            "dae 6327 3 1.0003267688822395\n",
            "ica 118987 3 2.1629921327093644\n",
            "nmf 582 3 1.5018846984371432\n",
            "pca 54849 3 2.1235936424169477\n",
            "vae 23127 3 1.8003078938287542\n",
            "dae 2327 4 0.7029559297786552\n",
            "ica 55002 4 2.563599287382292\n",
            "nmf 54494 4 1.21964907753736\n",
            "pca 64793 4 3.181202729377233\n",
            "vae 7802 4 1.2763951798964492\n",
            "dae 7804 5 0.6341263819533319\n",
            "ica 26515 5 1.5666203131228151\n",
            "nmf 26263 5 0.8258080666513179\n",
            "pca 3831 5 3.543849032186791\n",
            "vae 4170 5 1.8787546179325756\n",
            "dae 953 6 0.4583952933405657\n",
            "ica 8030 6 1.374368302698144\n",
            "nmf 582 6 0.7223322595847103\n",
            "pca 833 6 3.0405714940498716\n",
            "vae 55775 6 1.234035316807778\n",
            "dae 54407 7 0.5874706285107756\n",
            "ica 2971 7 2.490531652813629\n",
            "nmf 54715 7 0.8044348660734463\n",
            "pca 23385 7 3.167844280058426\n",
            "vae 51317 7 1.8365781950169486\n",
            "dae 7112 8 0.5613305400703406\n",
            "ica 4801 8 4.158072376452397\n",
            "nmf 54715 8 0.9837239727370687\n",
            "pca 51150 8 3.4977569290758628\n",
            "vae 9802 8 1.5282584971064568\n",
            "dae 79814 9 0.7955123835652917\n",
            "ica 51501 9 1.9041241912303777\n",
            "nmf 10352 9 0.8192139779911387\n",
            "pca 2590 9 3.2184556023938695\n",
            "vae 11214 9 1.6256219329025063\n",
            "dae 29915 10 0.859803020199366\n",
            "ica 63901 10 3.227169961154271\n",
            "nmf 10352 10 0.9545391525863907\n",
            "pca 54849 10 2.9188986509301285\n",
            "vae 55635 10 1.6350527203294223\n",
            "dae 64400 12 0.5715692993009782\n",
            "ica 10450 12 3.0515726569719583\n",
            "nmf 4522 12 0.9925896420473057\n",
            "pca 60485 12 3.663170689402972\n",
            "vae 4520 12 1.8104060623553606\n",
            "dae 4324 14 0.6122345854580835\n",
            "ica 149111 14 3.1177596112480144\n",
            "nmf 54715 14 0.9069492644117346\n",
            "pca 23475 14 3.0655218761764322\n",
            "vae 4520 14 1.7193609071292875\n",
            "dae 57538 16 0.8180600418741003\n",
            "ica 1378 16 2.441117242787472\n",
            "nmf 7112 16 1.1222844789473492\n",
            "pca 2987 16 3.535346197952573\n",
            "vae 4775 16 1.0407868513773164\n",
            "dae 404636_55855 18 0.7379980979642433\n",
            "ica 22941 18 3.3830571974845167\n",
            "nmf 582 18 1.311190954726961\n",
            "pca 949 18 3.999574696341146\n",
            "vae 55218 18 0.917350054035419\n",
            "dae 54626 20 0.5995872645157198\n",
            "ica 51388 20 3.4964843721996437\n",
            "nmf 7112 20 1.4947754135181421\n",
            "pca 148753 20 3.247529243673694\n",
            "vae 55218 20 1.0860192687771195\n",
            "dae 10450 25 0.46556093591477843\n",
            "ica 83715 25 3.5946460070999824\n",
            "nmf 81539 25 1.4833098044881683\n",
            "pca 148753 25 5.502521603002882\n",
            "vae 55218 25 0.7587598582686572\n",
            "dae 92558 30 0.6072652820136233\n",
            "ica 9019 30 3.0811425783628037\n",
            "nmf 54715 30 1.934072384852482\n",
            "pca 148753 30 5.665021548207784\n",
            "vae 55218 30 0.8529787027797189\n",
            "dae 51463_653519 35 0.5097634408737288\n",
            "ica 79838 35 3.1161526688697507\n",
            "nmf 27345 35 2.322323303565288\n",
            "pca 23499 35 3.358559164556108\n",
            "vae 55218 35 0.7309266367709804\n",
            "dae 55238 40 0.4247079381732024\n",
            "ica 2350 40 4.676669202677028\n",
            "nmf 1770 40 1.8417230250259802\n",
            "pca 8085 40 3.457368476620645\n",
            "vae 4093 40 0.6340456253197803\n",
            "dae 254531 45 0.5610861462353682\n",
            "ica 78990 45 3.1985320015162704\n",
            "nmf 27345 45 2.0515942546545873\n",
            "pca 8085 45 3.3687507496593163\n",
            "vae 55218 45 0.5443556437880006\n",
            "dae 60676 50 0.6279078969111388\n",
            "ica 4939 50 2.756066016209341\n",
            "nmf 7112 50 2.051819096887714\n",
            "pca 51559 50 3.2194344631192173\n",
            "vae 55218 50 0.6206498955068475\n",
            "dae 9617 60 0.6230639643955158\n",
            "ica 254359 60 3.973541251554193\n",
            "nmf 6277 60 2.4505669159536465\n",
            "pca 389 60 4.190563878847418\n",
            "vae 2903 60 0.5988911749483499\n"
          ],
          "name": "stdout"
        }
      ]
    },
    {
      "cell_type": "code",
      "metadata": {
        "colab": {
          "base_uri": "https://localhost:8080/"
        },
        "id": "vzKH-tBYLUgO",
        "outputId": "7fa6b0bc-63ca-4897-efbe-5f873e4d4c76"
      },
      "source": [
        "for model in model_list:\r\n",
        "  feat_df = top_features_per_algo_across_k[model]\r\n",
        "  feature = [x[0] for x in feat_df]\r\n",
        "  dim = [x[1] for x in feat_df]\r\n",
        "  nlp = [x[2] for x in feat_df]\r\n",
        "  max_sep_ind = nlp.index(max(nlp))\r\n",
        "  print(\"{}: feature {}, dimension {}, negLogP {}\".format(model, feature[max_sep_ind], dim[max_sep_ind], nlp[max_sep_ind]))"
      ],
      "execution_count": 14,
      "outputs": [
        {
          "output_type": "stream",
          "text": [
            "pca: feature 148753, dimension 30, negLogP 5.665021548207784\n",
            "ica: feature 2350, dimension 40, negLogP 4.676669202677028\n",
            "nmf: feature 6277, dimension 60, negLogP 2.4505669159536465\n",
            "dae: feature 10327, dimension 2, negLogP 1.7473211397499748\n",
            "vae: feature 4170, dimension 5, negLogP 1.8787546179325756\n"
          ],
          "name": "stdout"
        }
      ]
    },
    {
      "cell_type": "code",
      "metadata": {
        "colab": {
          "base_uri": "https://localhost:8080/",
          "height": 295
        },
        "id": "YWwJde7xmwNe",
        "outputId": "cb022350-11b5-4efb-91d2-373da4228ae2"
      },
      "source": [
        "plt.figure()\r\n",
        "for model in model_list:\r\n",
        "  feat_df = top_features_per_algo_across_k[model]\r\n",
        "  dim = [x[1] for x in feat_df]\r\n",
        "  nlp = [x[2] for x in feat_df]\r\n",
        "  plt.plot(dim, nlp, label=model)\r\n",
        "plt.legend()\r\n",
        "plt.grid()\r\n",
        "plt.xlabel('Number of latent dimensions')\r\n",
        "plt.ylabel('Negative log10P value')\r\n",
        "plt.title('PCOS vs Control')\r\n",
        "plt.savefig('/content/drive/MyDrive/aacb_project/images/PCOS_vs_Control_t_test_new.png')"
      ],
      "execution_count": 13,
      "outputs": [
        {
          "output_type": "display_data",
          "data": {
            "image/png": "[encoded data removed]",
            "text/plain": [
              "<Figure size 432x288 with 1 Axes>"
            ]
          },
          "metadata": {
            "tags": [],
            "needs_background": "light"
          }
        }
      ]
    },
    {
      "cell_type": "code",
      "metadata": {
        "id": "M1-q256DmztC"
      },
      "source": [
        ""
      ],
      "execution_count": null,
      "outputs": []
    }
  ]
}