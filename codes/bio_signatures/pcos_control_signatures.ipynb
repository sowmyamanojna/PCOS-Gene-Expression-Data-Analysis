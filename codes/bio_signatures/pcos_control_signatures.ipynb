{
  "nbformat": 4,
  "nbformat_minor": 0,
  "metadata": {
    "colab": {
      "name": "pcos-control-signatures.ipynb",
      "provenance": []
    },
    "kernelspec": {
      "name": "python3",
      "display_name": "Python 3"
    }
  },
  "cells": [
    {
      "cell_type": "code",
      "metadata": {
        "id": "omvkCz-sbvc0"
      },
      "source": [
        "import numpy as np\r\n",
        "import pandas as pd\r\n",
        "import pickle as pkl\r\n",
        "\r\n",
        "import time\r\n",
        "import matplotlib.pyplot as plt\r\n",
        "import seaborn as sns\r\n",
        "from tqdm import tqdm\r\n",
        "\r\n",
        "from scipy.stats import ttest_ind, ttest_rel\r\n",
        "\r\n",
        "import warnings\r\n",
        "warnings.filterwarnings(\"ignore\")"
      ],
      "execution_count": 1,
      "outputs": []
    },
    {
      "cell_type": "code",
      "metadata": {
        "colab": {
          "base_uri": "https://localhost:8080/"
        },
        "id": "9BUMzM5WcpCk",
        "outputId": "3b9f3fca-9348-4058-80aa-76725a7d541b"
      },
      "source": [
        "from google.colab import drive\r\n",
        "drive.mount(\"/content/drive/\")"
      ],
      "execution_count": 2,
      "outputs": [
        {
          "output_type": "stream",
          "text": [
            "Drive already mounted at /content/drive/; to attempt to forcibly remount, call drive.mount(\"/content/drive/\", force_remount=True).\n"
          ],
          "name": "stdout"
        }
      ]
    },
    {
      "cell_type": "code",
      "metadata": {
        "id": "N13RMMUghKDx"
      },
      "source": [
        "common_norm_df = pd.read_csv('/content/drive/MyDrive/aacb_project/datasets/common_normalized.csv', index_col=0)\r\n",
        "df_new = pd.read_csv(\"/content/drive/MyDrive/aacb_project/datasets/control_pcos_celltype_mapping.csv\")\r\n",
        "\r\n",
        "normal = [\"control\", \"obese\", \"pioglitazone\", \"lean\", \"valproic\"]\r\n",
        "pcos = [\"PCOS\", \"PCOS_lean\", \"PCOS_obese\", \"PCOS_insulin_res\"]\r\n",
        "replacement = {}\r\n",
        "for i in normal:\r\n",
        "    replacement[i] = 0\r\n",
        "for i in pcos:\r\n",
        "    replacement[i] = 1\r\n",
        "\r\n",
        "position = []\r\n",
        "values = list(df_new[\"sample_id\"])\r\n",
        "for i,j in enumerate(common_norm_df[\"sample_id\"]):\r\n",
        "    position.append(values.index(j))\r\n",
        "\r\n",
        "df_new = df_new.loc[position]\r\n",
        "df_new = df_new.reset_index()\r\n",
        "df_new = df_new.drop(\"index\", axis=1)\r\n",
        "\r\n",
        "result = pd.merge(common_norm_df, df_new[df_new.columns[:-1]], how='inner', on='sample_id')\r\n",
        "gene_feature_ids = result.columns[1:-3]\r\n",
        "\r\n",
        "result[\"PCOS\"] = df_new[\"PCOS/Control\"]\r\n",
        "result.drop([\"PCOS/Control\"], axis=1, inplace=True)\r\n",
        "result.replace({\"PCOS\":replacement}, inplace=True)\r\n",
        "\r\n",
        "gene_feature_ids = result.columns[1:-3]"
      ],
      "execution_count": 3,
      "outputs": []
    },
    {
      "cell_type": "code",
      "metadata": {
        "colab": {
          "base_uri": "https://localhost:8080/"
        },
        "id": "RJokCvqtcFv7",
        "outputId": "c521fed0-7f99-4873-d89d-af745535adbe"
      },
      "source": [
        "# Setting up the possible latent dimensions\r\n",
        "# A total of 27 latent dimensions are taken under consideration\r\n",
        "\r\n",
        "k_list = []\r\n",
        "k_list.extend(list(range(2, 10)))\r\n",
        "k_list.extend(list(range(10, 20, 2)))\r\n",
        "k_list.extend(list(range(20, 50, 5)))\r\n",
        "k_list.extend(list(range(50, 61, 10)))\r\n",
        "k_list.append(78)\r\n",
        "k_list.extend(list(range(80, 100, 10)))\r\n",
        "k_list.extend(list(range(100, 176, 25)))\r\n",
        "\r\n",
        "print(\"Latent dimensions:\")\r\n",
        "print(k_list)\r\n",
        "\r\n",
        "model_list = [\"pca\", \"ica\", \"nmf\", \"dae\", \"vae\"]\r\n",
        "print(model_list)"
      ],
      "execution_count": 4,
      "outputs": [
        {
          "output_type": "stream",
          "text": [
            "Latent dimensions:\n",
            "[2, 3, 4, 5, 6, 7, 8, 9, 10, 12, 14, 16, 18, 20, 25, 30, 35, 40, 45, 50, 60, 78, 80, 90, 100, 125, 150, 175]\n",
            "['pca', 'ica', 'nmf', 'dae', 'vae']\n"
          ],
          "name": "stdout"
        }
      ]
    },
    {
      "cell_type": "code",
      "metadata": {
        "id": "_v08pNO3cKM4"
      },
      "source": [
        "f1 = open('/content/drive/MyDrive/aacb_project/datasets/z_dict_pcos.p', 'rb')\r\n",
        "z_dict_pcos = pkl.load(f1)\r\n",
        "f1.close()\r\n",
        "f2 = open('/content/drive/MyDrive/aacb_project/datasets/z_dict_control.p', 'rb')\r\n",
        "z_dict_control = pkl.load(f2)\r\n",
        "f2.close()"
      ],
      "execution_count": 5,
      "outputs": []
    },
    {
      "cell_type": "code",
      "metadata": {
        "id": "35aF477xcL0g"
      },
      "source": [
        "def ttest_difference(a_activation, b_activation):\r\n",
        "    t_stat, t_p = ttest_ind(a_activation, b_activation, equal_var=False)\r\n",
        "    return([t_stat, t_p])\r\n",
        "\r\n",
        "def get_ttest_results(model_list, k_list, group_a, group_b):\r\n",
        "    full_results = []\r\n",
        "    for model in model_list:\r\n",
        "        print(\"Model:\", model)\r\n",
        "        time.sleep(1)\r\n",
        "        a_recon = group_a[model]\r\n",
        "        b_recon = group_b[model]\r\n",
        "        for z_dim in tqdm(k_list):\r\n",
        "            a_recon_z = np.array(a_recon[z_dim]).transpose()\r\n",
        "            b_recon_z = np.array(b_recon[z_dim]).transpose()\r\n",
        "            for i in range(len(gene_feature_ids)):\r\n",
        "                feature_num = gene_feature_ids[i]\r\n",
        "                if i < len(a_recon_z):\r\n",
        "                  a_act = a_recon_z[i]\r\n",
        "                else:\r\n",
        "                  a_act = []\r\n",
        "                if i < len(b_recon_z):\r\n",
        "                  b_act = b_recon_z[i]\r\n",
        "                else:\r\n",
        "                  b_act = []\r\n",
        "                t_stat, t_p = ttest_difference(a_act, b_act)\r\n",
        "\r\n",
        "                result_df = pd.DataFrame({'t_stat': [t_stat], 't_p': [t_p], 'algorithm': [model], 'feature_num': feature_num, 'z_dim': z_dim}).fillna(1)\r\n",
        "                full_results.append(result_df)\r\n",
        "\r\n",
        "    full_results_df = pd.concat(full_results)\r\n",
        "    full_results_df = full_results_df.assign(neg_log_p=-np.log10(full_results_df.t_p + 1e-300))\r\n",
        "    full_results_df = full_results_df.sort_values(by='neg_log_p', ascending=False)\r\n",
        "    full_results_df = full_results_df.reset_index(drop=True)\r\n",
        "    return full_results_df"
      ],
      "execution_count": 6,
      "outputs": []
    },
    {
      "cell_type": "code",
      "metadata": {
        "colab": {
          "base_uri": "https://localhost:8080/"
        },
        "id": "0JXSFg3ocOJ8",
        "outputId": "6493b9d4-c3ef-435a-9082-aa086c574af3"
      },
      "source": [
        "pcos_vs_control_ttest_df = get_ttest_results(model_list, k_list, z_dict_pcos, z_dict_control)"
      ],
      "execution_count": 7,
      "outputs": [
        {
          "output_type": "stream",
          "text": [
            "Model: pca\n"
          ],
          "name": "stdout"
        },
        {
          "output_type": "stream",
          "text": [
            "100%|██████████| 28/28 [01:15<00:00,  2.71s/it]\n"
          ],
          "name": "stderr"
        },
        {
          "output_type": "stream",
          "text": [
            "Model: ica\n"
          ],
          "name": "stdout"
        },
        {
          "output_type": "stream",
          "text": [
            "100%|██████████| 28/28 [01:17<00:00,  2.75s/it]\n"
          ],
          "name": "stderr"
        },
        {
          "output_type": "stream",
          "text": [
            "Model: nmf\n"
          ],
          "name": "stdout"
        },
        {
          "output_type": "stream",
          "text": [
            "100%|██████████| 28/28 [01:16<00:00,  2.71s/it]\n"
          ],
          "name": "stderr"
        },
        {
          "output_type": "stream",
          "text": [
            "Model: dae\n"
          ],
          "name": "stdout"
        },
        {
          "output_type": "stream",
          "text": [
            "100%|██████████| 28/28 [01:16<00:00,  2.73s/it]\n"
          ],
          "name": "stderr"
        },
        {
          "output_type": "stream",
          "text": [
            "Model: vae\n"
          ],
          "name": "stdout"
        },
        {
          "output_type": "stream",
          "text": [
            "100%|██████████| 28/28 [01:18<00:00,  2.82s/it]\n"
          ],
          "name": "stderr"
        }
      ]
    },
    {
      "cell_type": "code",
      "metadata": {
        "colab": {
          "base_uri": "https://localhost:8080/"
        },
        "id": "fSdlPECtlrjw",
        "outputId": "93f1447e-cc75-4d68-b56a-541744aa39e1"
      },
      "source": [
        "print(pcos_vs_control_ttest_df.head(20))\r\n",
        "print(pcos_vs_control_ttest_df.shape)"
      ],
      "execution_count": 8,
      "outputs": [
        {
          "output_type": "stream",
          "text": [
            "      t_stat       t_p algorithm feature_num  z_dim  neg_log_p\n",
            "0  -5.262154  0.000002       pca      148753     30   5.665022\n",
            "1  -5.307754  0.000003       pca      148753     25   5.502522\n",
            "2  -4.529234  0.000021       ica        2350     40   4.676669\n",
            "3   4.144507  0.000064       pca         389     60   4.190564\n",
            "4  -5.846541  0.000069       ica        4801      8   4.158072\n",
            "5   4.445492  0.000100       pca         949     18   3.999575\n",
            "6   4.017238  0.000106       ica      254359     60   3.973541\n",
            "7  -4.065977  0.000117       ica       10465     40   3.932611\n",
            "8   3.851503  0.000191       pca        8085     60   3.718171\n",
            "9   4.178219  0.000195       pca       23360     18   3.709140\n",
            "10  4.432373  0.000217       pca       60485     12   3.663171\n",
            "11  3.951323  0.000254       ica       83715     25   3.594646\n",
            "12  6.349668  0.000286       pca        3831      5   3.543849\n",
            "13  4.145593  0.000292       pca        2987     16   3.535346\n",
            "14  4.748202  0.000318       pca       51150      8   3.497757\n",
            "15 -3.959898  0.000319       ica       51388     20   3.496484\n",
            "16  3.740767  0.000349       pca        8085     40   3.457368\n",
            "17  4.261166  0.000364       pca       54849     12   3.438994\n",
            "18  4.247317  0.000372       pca       79091     12   3.429563\n",
            "19 -4.771892  0.000405       ica       56889      8   3.392628\n",
            "(233240, 6)\n"
          ],
          "name": "stdout"
        }
      ]
    },
    {
      "cell_type": "code",
      "metadata": {
        "colab": {
          "base_uri": "https://localhost:8080/"
        },
        "id": "b3z2xg2pcRYa",
        "outputId": "70a936d3-735a-4bfb-bc90-f2e56bb187ce"
      },
      "source": [
        "pc = pcos_vs_control_ttest_df.iloc[0]\r\n",
        "print(\"PCOS vs Control:\", pc['algorithm'], pc['feature_num'], pc['z_dim'], pc['neg_log_p'])"
      ],
      "execution_count": 9,
      "outputs": [
        {
          "output_type": "stream",
          "text": [
            "PCOS vs Control: pca 148753 30 5.665021548207784\n"
          ],
          "name": "stdout"
        }
      ]
    },
    {
      "cell_type": "code",
      "metadata": {
        "id": "Sqj8TqaFcTdg"
      },
      "source": [
        "# pcos vs control\r\n",
        "pcos_control_df = [pd.DataFrame(y) for x, y in pcos_vs_control_ttest_df.groupby(['z_dim', 'algorithm'], as_index=False)]\r\n",
        "top_features_per_algo_across_k = dict(zip(model_list, [[] for _ in range(len(model_list))]))\r\n",
        "for pcdf in pcos_control_df:\r\n",
        "    pcdf = pcdf.sort_values(by='neg_log_p', ascending=False)\r\n",
        "    top_df = pcdf.iloc[0]\r\n",
        "    top_features_per_algo_across_k[top_df['algorithm']].append([top_df['feature_num'], top_df['z_dim'], top_df['neg_log_p']])"
      ],
      "execution_count": 10,
      "outputs": []
    },
    {
      "cell_type": "code",
      "metadata": {
        "colab": {
          "base_uri": "https://localhost:8080/",
          "height": 295
        },
        "id": "YWwJde7xmwNe",
        "outputId": "768679c1-5d3f-48bb-90fd-b9cd82a1a0c9"
      },
      "source": [
        "plt.figure()\r\n",
        "for model in model_list:\r\n",
        "  feat_df = top_features_per_algo_across_k[model]\r\n",
        "  dim = [x[1] for x in feat_df]\r\n",
        "  nlp = [x[2] for x in feat_df]\r\n",
        "  plt.plot(dim, nlp, label=model)\r\n",
        "plt.legend()\r\n",
        "plt.grid()\r\n",
        "plt.xlabel('Number of latent dimensions')\r\n",
        "plt.ylabel('Negative log10P value')\r\n",
        "plt.title('PCOS vs Control')\r\n",
        "plt.savefig('/content/drive/MyDrive/aacb_project/images/PCOS_vs_Control_t_test.png')"
      ],
      "execution_count": 15,
      "outputs": [
        {
          "output_type": "display_data",
          "data": {
            "image/png": "[encoded data removed]",
            "text/plain": [
              "<Figure size 432x288 with 1 Axes>"
            ]
          },
          "metadata": {
            "tags": [],
            "needs_background": "light"
          }
        }
      ]
    },
    {
      "cell_type": "code",
      "metadata": {
        "id": "M1-q256DmztC"
      },
      "source": [
        ""
      ],
      "execution_count": null,
      "outputs": []
    }
  ]
}