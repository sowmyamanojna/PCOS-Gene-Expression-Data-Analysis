{
  "nbformat": 4,
  "nbformat_minor": 0,
  "metadata": {
    "colab": {
      "name": "analyse-stability-across-z.ipynb",
      "provenance": [],
      "collapsed_sections": []
    },
    "kernelspec": {
      "name": "python3",
      "display_name": "Python 3"
    }
  },
  "cells": [
    {
      "cell_type": "code",
      "metadata": {
        "id": "6ltz9Cdb8FFH"
      },
      "source": [
        "import numpy as np\r\n",
        "import pandas as pd\r\n",
        "import pickle as pkl\r\n",
        "\r\n",
        "import time\r\n",
        "import matplotlib.pyplot as plt\r\n",
        "import seaborn as sns\r\n",
        "from tqdm import tqdm\r\n",
        "\r\n",
        "import warnings\r\n",
        "warnings.filterwarnings(\"ignore\")"
      ],
      "execution_count": 1,
      "outputs": []
    },
    {
      "cell_type": "code",
      "metadata": {
        "colab": {
          "base_uri": "https://localhost:8080/"
        },
        "id": "G5PiJiQpwsvJ",
        "outputId": "2d70264f-5e80-4cb7-d6ee-3c99591b748f"
      },
      "source": [
        "from google.colab import drive\r\n",
        "drive.mount(\"/content/drive/\")"
      ],
      "execution_count": 2,
      "outputs": [
        {
          "output_type": "stream",
          "text": [
            "Mounted at /content/drive/\n"
          ],
          "name": "stdout"
        }
      ]
    },
    {
      "cell_type": "code",
      "metadata": {
        "colab": {
          "base_uri": "https://localhost:8080/"
        },
        "id": "eCU2b9fw8Sp4",
        "outputId": "027111eb-36f6-4f6c-a723-4943eb63c8e9"
      },
      "source": [
        "# Setting up the possible latent dimensions\r\n",
        "# A total of 27 latent dimensions are taken under consideration\r\n",
        "\r\n",
        "k_list = []\r\n",
        "k_list.extend(list(range(2, 10)))\r\n",
        "k_list.extend(list(range(10, 20, 2)))\r\n",
        "k_list.extend(list(range(20, 50, 5)))\r\n",
        "k_list.extend(list(range(50, 61, 10)))\r\n",
        "k_list.append(78)\r\n",
        "k_list.extend(list(range(80, 100, 10)))\r\n",
        "k_list.extend(list(range(100, 176, 25)))\r\n",
        "\r\n",
        "print(\"Latent dimensions:\")\r\n",
        "print(k_list)\r\n",
        "\r\n",
        "# list of algorithms/models\r\n",
        "model_list = [\"pca\", \"ica\", \"nmf\", \"vae\", \"dae\"]\r\n",
        "print(model_list)"
      ],
      "execution_count": 3,
      "outputs": [
        {
          "output_type": "stream",
          "text": [
            "Latent dimensions:\n",
            "[2, 3, 4, 5, 6, 7, 8, 9, 10, 12, 14, 16, 18, 20, 25, 30, 35, 40, 45, 50, 60, 78, 80, 90, 100, 125, 150, 175]\n",
            "['pca', 'ica', 'nmf', 'vae', 'dae']\n"
          ],
          "name": "stdout"
        }
      ]
    },
    {
      "cell_type": "code",
      "metadata": {
        "id": "d72uzMwy8pni"
      },
      "source": [
        "num_cca_trials = 5\r\n",
        "epsilon = 1e-6\r\n",
        "threshold = 1e-6\r\n",
        "\r\n",
        "def positivedef_matrix_sqrt(array):\r\n",
        "  w, v = np.linalg.eigh(array)\r\n",
        "  wsqrt = np.sqrt(w)\r\n",
        "  sqrtarray = np.dot(v, np.dot(np.diag(wsqrt), np.conj(v).T))\r\n",
        "  return sqrtarray\r\n",
        "\r\n",
        "def remove_small(sigma_xx, sigma_xy, sigma_yx, sigma_yy, threshold=1e-6):\r\n",
        "  x_diag = np.abs(np.diagonal(sigma_xx))\r\n",
        "  y_diag = np.abs(np.diagonal(sigma_yy))\r\n",
        "  x_idxs = (x_diag >= threshold)\r\n",
        "  y_idxs = (y_diag >= threshold)\r\n",
        "\r\n",
        "  sigma_xx_crop = sigma_xx[x_idxs][:, x_idxs]\r\n",
        "  sigma_xy_crop = sigma_xy[x_idxs][:, y_idxs]\r\n",
        "  sigma_yx_crop = sigma_yx[y_idxs][:, x_idxs]\r\n",
        "  sigma_yy_crop = sigma_yy[y_idxs][:, y_idxs]\r\n",
        "\r\n",
        "  return (sigma_xx_crop, sigma_xy_crop, sigma_yx_crop, sigma_yy_crop, x_idxs, y_idxs)\r\n",
        "\r\n",
        "\r\n",
        "def compute_ccas(sigma_xx, sigma_xy, sigma_yx, sigma_yy, verbose=True):\r\n",
        "  (sigma_xx, sigma_xy, sigma_yx, sigma_yy, x_idxs, y_idxs) = remove_small(sigma_xx, sigma_xy, sigma_yx, sigma_yy)\r\n",
        "\r\n",
        "  numx = sigma_xx.shape[0]\r\n",
        "  numy = sigma_yy.shape[0]\r\n",
        "\r\n",
        "  if numx == 0 or numy == 0:\r\n",
        "    return ([0, 0, 0], [0, 0, 0], np.zeros_like(sigma_xx),\r\n",
        "            np.zeros_like(sigma_yy), x_idxs, y_idxs)\r\n",
        "\r\n",
        "  if verbose:\r\n",
        "    print(\"adding eps to diagonal and taking inverse\")\r\n",
        "  sigma_xx +=epsilon * np.eye(numx)\r\n",
        "  sigma_yy +=epsilon * np.eye(numy)\r\n",
        "  inv_xx = np.linalg.pinv(sigma_xx)\r\n",
        "  inv_yy = np.linalg.pinv(sigma_yy)\r\n",
        "\r\n",
        "  if verbose:\r\n",
        "    print(\"taking square root\")\r\n",
        "  invsqrt_xx = positivedef_matrix_sqrt(inv_xx)\r\n",
        "  invsqrt_yy = positivedef_matrix_sqrt(inv_yy)\r\n",
        "\r\n",
        "  if verbose:\r\n",
        "    print(\"dot products...\")\r\n",
        "  arr_x = np.dot(sigma_yx, invsqrt_xx)\r\n",
        "  arr_x = np.dot(inv_yy, arr_x)\r\n",
        "  arr_x = np.dot(invsqrt_xx, np.dot(sigma_xy, arr_x))\r\n",
        "  arr_y = np.dot(sigma_xy, invsqrt_yy)\r\n",
        "  arr_y = np.dot(inv_xx, arr_y)\r\n",
        "  arr_y = np.dot(invsqrt_yy, np.dot(sigma_yx, arr_y))\r\n",
        "\r\n",
        "  if verbose:\r\n",
        "    print(\"trying to take final svd\")\r\n",
        "  arr_x_stable = arr_x + epsilon * np.eye(arr_x.shape[0])\r\n",
        "  arr_y_stable = arr_y + epsilon * np.eye(arr_y.shape[0])\r\n",
        "  try:\r\n",
        "      ux, sx, vx = np.linalg.svd(arr_x_stable)\r\n",
        "      uy, sy, vy = np.linalg.svd(arr_y_stable)\r\n",
        "  except:\r\n",
        "      return [0, 0, 0], [0, 0, 0], 0, 0, 0, 0\r\n",
        "  sx = np.sqrt(np.abs(sx))\r\n",
        "  sy = np.sqrt(np.abs(sy))\r\n",
        "  if verbose:\r\n",
        "    print(\"computed everything!\")\r\n",
        "\r\n",
        "  return [ux, sx, vx], [uy, sy, vy], invsqrt_xx, invsqrt_yy, x_idxs, y_idxs\r\n",
        "\r\n",
        "\r\n",
        "def sum_threshold(array, threshold):\r\n",
        "  assert (threshold >= 0) and (threshold <= 1), \"print incorrect threshold\"\r\n",
        "\r\n",
        "  for i in range(len(array)):\r\n",
        "    if np.sum(array[:i]) / np.sum(array) >= threshold:\r\n",
        "      return i\r\n",
        "\r\n",
        "\r\n",
        "def create_zero_dict(compute_dirns, dimension):\r\n",
        "  return_dict = {}\r\n",
        "  return_dict[\"mean\"] = (np.asarray(0), np.asarray(0))\r\n",
        "  return_dict[\"sum\"] = (np.asarray(0), np.asarray(0))\r\n",
        "  return_dict[\"cca_coef1\"] = np.asarray(0)\r\n",
        "  return_dict[\"cca_coef2\"] = np.asarray(0)\r\n",
        "  return_dict[\"idx1\"] = 0\r\n",
        "  return_dict[\"idx2\"] = 0\r\n",
        "\r\n",
        "  if compute_dirns:\r\n",
        "    return_dict[\"cca_dirns1\"] = np.zeros((1, dimension))\r\n",
        "    return_dict[\"cca_dirns2\"] = np.zeros((1, dimension))\r\n",
        "\r\n",
        "  return return_dict\r\n",
        "\r\n",
        "\r\n",
        "def get_cca_similarity(acts1, acts2, threshold=0.98, compute_dirns=True, verbose=True):\r\n",
        "  # assert dimensionality equal\r\n",
        "  assert acts1.shape[1] == acts2.shape[1], \"dimensions don't match\"\r\n",
        "  # check that acts1, acts2 are transposition\r\n",
        "  assert acts1.shape[0] < acts1.shape[1], (\"input must be number of neurons by datapoints\")\r\n",
        "  return_dict = {}\r\n",
        "\r\n",
        "  # compute covariance with numpy function for extra stability\r\n",
        "  numx = acts1.shape[0]\r\n",
        "\r\n",
        "  covariance = np.cov(acts1, acts2)\r\n",
        "  sigmaxx = covariance[:numx, :numx]\r\n",
        "  sigmaxy = covariance[:numx, numx:]\r\n",
        "  sigmayx = covariance[numx:, :numx]\r\n",
        "  sigmayy = covariance[numx:, numx:]\r\n",
        "\r\n",
        "  # rescale covariance to make cca computation more stable\r\n",
        "  xmax = np.max(np.abs(sigmaxx))\r\n",
        "  ymax = np.max(np.abs(sigmayy))\r\n",
        "  sigmaxx /= xmax\r\n",
        "  sigmayy /= ymax\r\n",
        "  sigmaxy /= np.sqrt(xmax * ymax)\r\n",
        "  sigmayx /= np.sqrt(xmax * ymax)\r\n",
        "\r\n",
        "  ([_, sx, vx], [_, sy, vy], invsqrt_xx, invsqrt_yy, x_idxs,\r\n",
        "   y_idxs) = compute_ccas(sigmaxx, sigmaxy, sigmayx, sigmayy,\r\n",
        "                          verbose)\r\n",
        "\r\n",
        "  # if x_idxs or y_idxs is all false, return_dict has zero entries\r\n",
        "  if (not np.any(x_idxs)) or (not np.any(y_idxs)):\r\n",
        "    return create_zero_dict(compute_dirns, acts1.shape[1])\r\n",
        "\r\n",
        "  if compute_dirns:\r\n",
        "    # orthonormal directions that are CCA directions\r\n",
        "    cca_dirns1 = np.dot(vx, np.dot(invsqrt_xx, acts1[x_idxs]))\r\n",
        "    cca_dirns2 = np.dot(vy, np.dot(invsqrt_yy, acts2[y_idxs]))\r\n",
        "\r\n",
        "  # get rid of trailing zeros in the cca coefficients\r\n",
        "  idx1 = sum_threshold(sx, threshold)\r\n",
        "  idx2 = sum_threshold(sy, threshold)\r\n",
        "\r\n",
        "  return_dict[\"neuron_coeffs1\"] = np.dot(vx, invsqrt_xx)\r\n",
        "  return_dict[\"neuron_coeffs2\"] = np.dot(vy, invsqrt_yy)\r\n",
        "  return_dict[\"cca_coef1\"] = sx\r\n",
        "  return_dict[\"cca_coef2\"] = sy\r\n",
        "  return_dict[\"x_idxs\"] = x_idxs\r\n",
        "  return_dict[\"y_idxs\"] = y_idxs\r\n",
        "  # summary statistics\r\n",
        "  return_dict[\"mean\"] = (np.mean(sx[:idx1]), np.mean(sy[:idx2]))\r\n",
        "  return_dict[\"sum\"] = (np.sum(sx), np.sum(sy))\r\n",
        "\r\n",
        "  if compute_dirns:\r\n",
        "    return_dict[\"cca_dirns1\"] = cca_dirns1\r\n",
        "    return_dict[\"cca_dirns2\"] = cca_dirns2\r\n",
        "\r\n",
        "  return return_dict\r\n",
        "\r\n",
        "\r\n",
        "def robust_cca_similarity(acts1, acts2, threshold=0.98, compute_dirns=True, verbose=False):\r\n",
        "  for trial in range(num_cca_trials):\r\n",
        "    try:\r\n",
        "      return_dict = get_cca_similarity(acts1, acts2, threshold, compute_dirns, verbose=verbose)\r\n",
        "    except np.LinAlgError:\r\n",
        "      acts1 = acts1 * 1e-1 + np.random.normal(size=acts1.shape) * epsilon\r\n",
        "      acts2 = acts2 * 1e-1 + np.random.normal(size=acts1.shape) * epsilon\r\n",
        "      if trial + 1 == num_cca_trials:\r\n",
        "        raise\r\n",
        "\r\n",
        "  return return_dict"
      ],
      "execution_count": 4,
      "outputs": []
    },
    {
      "cell_type": "code",
      "metadata": {
        "id": "t4lRgq2l-_fy"
      },
      "source": [
        "def get_svcca_across_z_stability(z_dict_a, z_dict_b, threshold=0.98):\r\n",
        "    output_list = []\r\n",
        "    result = robust_cca_similarity(z_dict_a, z_dict_b, verbose=False, threshold=threshold)\r\n",
        "    output_list.append(np.mean(result[\"cca_coef1\"]))\r\n",
        "\r\n",
        "    # Convert output to pandas dataframe\r\n",
        "    return pd.DataFrame(output_list, columns=[\"svcca_mean_similarity\"])"
      ],
      "execution_count": 5,
      "outputs": []
    },
    {
      "cell_type": "code",
      "metadata": {
        "id": "bKdhsPffVIXy"
      },
      "source": [
        "f1 = open('/content/drive/MyDrive/aacb_project/datasets/z_dict_vae.p', 'rb')\r\n",
        "vae_z_dict = pkl.load(f1)\r\n",
        "f1.close()\r\n",
        "\r\n",
        "f2 = open('/content/drive/MyDrive/aacb_project/datasets/z_dict_dae.p', 'rb')\r\n",
        "dae_z_dict = pkl.load(f2)\r\n",
        "f2.close()\r\n",
        "\r\n",
        "f3 = open('/content/drive/MyDrive/aacb_project/datasets/z_dict_pca_ica_nmf.p', 'rb')\r\n",
        "pca_ica_nmf_z_dict = pkl.load(f3)\r\n",
        "f3.close()"
      ],
      "execution_count": 6,
      "outputs": []
    },
    {
      "cell_type": "code",
      "metadata": {
        "id": "Vgxae0u0z1TB"
      },
      "source": [
        "z_dict = {}\r\n",
        "for k in k_list:\r\n",
        "  z_dict[k] = {'vae': vae_z_dict[k], 'dae': dae_z_dict[k], 'pca': pca_ica_nmf_z_dict[k]['pca'], \r\n",
        "                  'ica': pca_ica_nmf_z_dict[k]['ica'], 'nmf': pca_ica_nmf_z_dict[k]['nmf']}"
      ],
      "execution_count": 7,
      "outputs": []
    },
    {
      "cell_type": "code",
      "metadata": {
        "colab": {
          "base_uri": "https://localhost:8080/"
        },
        "id": "qJfI2rhn9SCh",
        "outputId": "3aeb8d77-3546-4c93-b75a-b8900ce046b0"
      },
      "source": [
        "dataset_svcca_results_list = []\r\n",
        "for algorithm in model_list:\r\n",
        "    print(\"Model:\", algorithm)\r\n",
        "    time.sleep(1)\r\n",
        "    for z_a in tqdm(k_list):\r\n",
        "        z_dict_a = z_dict[z_a][algorithm]\r\n",
        "        z_bs = [x for x in k_list if x > z_a]\r\n",
        "        for z_b in z_bs:\r\n",
        "            z_dict_b = z_dict[z_b][algorithm]\r\n",
        "            svcca_out = get_svcca_across_z_stability(z_dict_a, z_dict_b)\r\n",
        "            svcca_out = svcca_out.assign(algorithm=algorithm, z_dim_a=z_a, z_dim_b=z_b)\r\n",
        "            dataset_svcca_results_list.append(svcca_out)"
      ],
      "execution_count": 8,
      "outputs": [
        {
          "output_type": "stream",
          "text": [
            "Model: pca\n"
          ],
          "name": "stdout"
        },
        {
          "output_type": "stream",
          "text": [
            "100%|██████████| 28/28 [00:24<00:00,  1.15it/s]\n"
          ],
          "name": "stderr"
        },
        {
          "output_type": "stream",
          "text": [
            "Model: ica\n"
          ],
          "name": "stdout"
        },
        {
          "output_type": "stream",
          "text": [
            "100%|██████████| 28/28 [00:28<00:00,  1.02s/it]\n"
          ],
          "name": "stderr"
        },
        {
          "output_type": "stream",
          "text": [
            "Model: nmf\n"
          ],
          "name": "stdout"
        },
        {
          "output_type": "stream",
          "text": [
            "100%|██████████| 28/28 [00:30<00:00,  1.08s/it]\n"
          ],
          "name": "stderr"
        },
        {
          "output_type": "stream",
          "text": [
            "Model: vae\n"
          ],
          "name": "stdout"
        },
        {
          "output_type": "stream",
          "text": [
            "100%|██████████| 28/28 [00:30<00:00,  1.09s/it]\n"
          ],
          "name": "stderr"
        },
        {
          "output_type": "stream",
          "text": [
            "Model: dae\n"
          ],
          "name": "stdout"
        },
        {
          "output_type": "stream",
          "text": [
            "100%|██████████| 28/28 [00:31<00:00,  1.14s/it]\n"
          ],
          "name": "stderr"
        }
      ]
    },
    {
      "cell_type": "code",
      "metadata": {
        "colab": {
          "base_uri": "https://localhost:8080/",
          "height": 355
        },
        "id": "YNV33PWl8_MS",
        "outputId": "7ed034b6-ee5a-49bf-d5bd-34e129ebd597"
      },
      "source": [
        "svcca_results_df = pd.concat(dataset_svcca_results_list).reset_index(drop=True)\r\n",
        "svcca_results_df.columns = ['svcca_mean_similarity', 'algorithm', 'z_dim_a', 'z_dim_b']\r\n",
        "svcca_results_df.head(10)"
      ],
      "execution_count": 9,
      "outputs": [
        {
          "output_type": "execute_result",
          "data": {
            "text/html": [
              "<div>\n",
              "<style scoped>\n",
              "    .dataframe tbody tr th:only-of-type {\n",
              "        vertical-align: middle;\n",
              "    }\n",
              "\n",
              "    .dataframe tbody tr th {\n",
              "        vertical-align: top;\n",
              "    }\n",
              "\n",
              "    .dataframe thead th {\n",
              "        text-align: right;\n",
              "    }\n",
              "</style>\n",
              "<table border=\"1\" class=\"dataframe\">\n",
              "  <thead>\n",
              "    <tr style=\"text-align: right;\">\n",
              "      <th></th>\n",
              "      <th>svcca_mean_similarity</th>\n",
              "      <th>algorithm</th>\n",
              "      <th>z_dim_a</th>\n",
              "      <th>z_dim_b</th>\n",
              "    </tr>\n",
              "  </thead>\n",
              "  <tbody>\n",
              "    <tr>\n",
              "      <th>0</th>\n",
              "      <td>0.999999</td>\n",
              "      <td>pca</td>\n",
              "      <td>2</td>\n",
              "      <td>3</td>\n",
              "    </tr>\n",
              "    <tr>\n",
              "      <th>1</th>\n",
              "      <td>0.999999</td>\n",
              "      <td>pca</td>\n",
              "      <td>2</td>\n",
              "      <td>4</td>\n",
              "    </tr>\n",
              "    <tr>\n",
              "      <th>2</th>\n",
              "      <td>0.999999</td>\n",
              "      <td>pca</td>\n",
              "      <td>2</td>\n",
              "      <td>5</td>\n",
              "    </tr>\n",
              "    <tr>\n",
              "      <th>3</th>\n",
              "      <td>0.999999</td>\n",
              "      <td>pca</td>\n",
              "      <td>2</td>\n",
              "      <td>6</td>\n",
              "    </tr>\n",
              "    <tr>\n",
              "      <th>4</th>\n",
              "      <td>0.999999</td>\n",
              "      <td>pca</td>\n",
              "      <td>2</td>\n",
              "      <td>7</td>\n",
              "    </tr>\n",
              "    <tr>\n",
              "      <th>5</th>\n",
              "      <td>0.999999</td>\n",
              "      <td>pca</td>\n",
              "      <td>2</td>\n",
              "      <td>8</td>\n",
              "    </tr>\n",
              "    <tr>\n",
              "      <th>6</th>\n",
              "      <td>0.999999</td>\n",
              "      <td>pca</td>\n",
              "      <td>2</td>\n",
              "      <td>9</td>\n",
              "    </tr>\n",
              "    <tr>\n",
              "      <th>7</th>\n",
              "      <td>0.999999</td>\n",
              "      <td>pca</td>\n",
              "      <td>2</td>\n",
              "      <td>10</td>\n",
              "    </tr>\n",
              "    <tr>\n",
              "      <th>8</th>\n",
              "      <td>0.999999</td>\n",
              "      <td>pca</td>\n",
              "      <td>2</td>\n",
              "      <td>12</td>\n",
              "    </tr>\n",
              "    <tr>\n",
              "      <th>9</th>\n",
              "      <td>0.999999</td>\n",
              "      <td>pca</td>\n",
              "      <td>2</td>\n",
              "      <td>14</td>\n",
              "    </tr>\n",
              "  </tbody>\n",
              "</table>\n",
              "</div>"
            ],
            "text/plain": [
              "   svcca_mean_similarity algorithm  z_dim_a  z_dim_b\n",
              "0               0.999999       pca        2        3\n",
              "1               0.999999       pca        2        4\n",
              "2               0.999999       pca        2        5\n",
              "3               0.999999       pca        2        6\n",
              "4               0.999999       pca        2        7\n",
              "5               0.999999       pca        2        8\n",
              "6               0.999999       pca        2        9\n",
              "7               0.999999       pca        2       10\n",
              "8               0.999999       pca        2       12\n",
              "9               0.999999       pca        2       14"
            ]
          },
          "metadata": {
            "tags": []
          },
          "execution_count": 9
        }
      ]
    },
    {
      "cell_type": "code",
      "metadata": {
        "id": "Ee3trT7Iiy9-"
      },
      "source": [
        "svcca_results_df.to_csv('/content/drive/MyDrive/aacb_project/datasets/svcca_across_z.csv')"
      ],
      "execution_count": 10,
      "outputs": []
    },
    {
      "cell_type": "code",
      "metadata": {
        "id": "m1JUL-cqB9sT"
      },
      "source": [
        "mydf = svcca_results_df.copy(deep=True)\r\n",
        "ans = [pd.DataFrame(y) for x, y in mydf.groupby('algorithm', as_index=False)]"
      ],
      "execution_count": 11,
      "outputs": []
    },
    {
      "cell_type": "code",
      "metadata": {
        "id": "QNl4Ydm-093y"
      },
      "source": [
        "algo_wise_dict = {'dae': ans[0].drop('algorithm', axis=1), 'ica': ans[1].drop('algorithm', axis=1), \r\n",
        "                  'nmf': ans[2].drop('algorithm', axis=1), 'pca': ans[3].drop('algorithm', axis=1),\r\n",
        "                  'vae': ans[4].drop('algorithm', axis=1)}"
      ],
      "execution_count": 12,
      "outputs": []
    },
    {
      "cell_type": "code",
      "metadata": {
        "id": "u9JbkeWZEXMw"
      },
      "source": [
        "k_pairs = []\r\n",
        "for z_a in k_list:\r\n",
        "    z_bs = [x for x in k_list if x > z_a]\r\n",
        "    for z_b in z_bs:\r\n",
        "        k_pairs.append((z_a, z_b))"
      ],
      "execution_count": 13,
      "outputs": []
    },
    {
      "cell_type": "code",
      "metadata": {
        "colab": {
          "base_uri": "https://localhost:8080/",
          "height": 523
        },
        "id": "fTEe90P_1gO3",
        "outputId": "8550a164-858a-4c2f-9e59-cf3850b69185"
      },
      "source": [
        "fig, axs = plt.subplots(2, 3, sharex=True, sharey=True, figsize=(15,8))\r\n",
        "axs[-1, -1].axis('off')\r\n",
        "\r\n",
        "for i in range(2):\r\n",
        "  for j in range(3):\r\n",
        "    if i*3 + j < len(model_list):\r\n",
        "      algo = model_list[i*3 + j]\r\n",
        "      ans_algo = [pd.DataFrame(y) for x, y in algo_wise_dict[algo].groupby(['z_dim_a', 'z_dim_b'], as_index=False)]\r\n",
        "      algo_across_k = [x.groupby(['z_dim_a','z_dim_b']).mean().reset_index() for x in ans_algo]\r\n",
        "      algo_across_k = pd.concat(algo_across_k)\r\n",
        "      f = sns.heatmap(algo_across_k.pivot('z_dim_a', 'z_dim_b', 'svcca_mean_similarity'), \r\n",
        "                      linewidths=.5, \r\n",
        "                      ax=axs[i,j])\r\n",
        "  \r\n",
        "      f.set_title('{}'.format(algo.upper()))\r\n",
        "\r\n",
        "for ax in axs.flat:\r\n",
        "    ax.label_outer()\r\n",
        "\r\n",
        "# fig.suptitle('Stability (SVCCA means) across latent dimensions')\r\n",
        "# fig.tight_layout(rect=[0, 0, 1.5, 1.5])\r\n",
        "plt.savefig('/content/drive/MyDrive/aacb_project/images/stability_across_latent_dimensions.png')\r\n",
        "\r\n",
        "  "
      ],
      "execution_count": 18,
      "outputs": [
        {
          "output_type": "display_data",
          "data": {
            "image/png": "[encoded data removed]",
            "text/plain": [
              "<Figure size 1080x576 with 11 Axes>"
            ]
          },
          "metadata": {
            "tags": [],
            "needs_background": "light"
          }
        }
      ]
    },
    {
      "cell_type": "code",
      "metadata": {
        "id": "EHGEcBOlMVvT"
      },
      "source": [
        ""
      ],
      "execution_count": null,
      "outputs": []
    }
  ]
}