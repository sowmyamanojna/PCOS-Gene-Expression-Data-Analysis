{
  "nbformat": 4,
  "nbformat_minor": 0,
  "metadata": {
    "colab": {
      "name": "analyse-stability-within-z.ipynb",
      "provenance": [],
      "collapsed_sections": []
    },
    "kernelspec": {
      "name": "python3",
      "display_name": "Python 3"
    }
  },
  "cells": [
    {
      "cell_type": "code",
      "metadata": {
        "id": "NF_rz7siT8ND"
      },
      "source": [
        "import numpy as np\r\n",
        "import pandas as pd\r\n",
        "import pickle as pkl\r\n",
        "\r\n",
        "import time\r\n",
        "import matplotlib.pyplot as plt\r\n",
        "import seaborn as sns\r\n",
        "from tqdm import tqdm\r\n",
        "\r\n",
        "import warnings\r\n",
        "warnings.filterwarnings(\"ignore\")"
      ],
      "execution_count": 1,
      "outputs": []
    },
    {
      "cell_type": "code",
      "metadata": {
        "colab": {
          "base_uri": "https://localhost:8080/"
        },
        "id": "b_UzdOOLvlcZ",
        "outputId": "b8d793c9-b82b-487f-954c-e33a766bccf3"
      },
      "source": [
        "from google.colab import drive\r\n",
        "drive.mount(\"/content/drive/\")"
      ],
      "execution_count": 2,
      "outputs": [
        {
          "output_type": "stream",
          "text": [
            "Mounted at /content/drive/\n"
          ],
          "name": "stdout"
        }
      ]
    },
    {
      "cell_type": "code",
      "metadata": {
        "colab": {
          "base_uri": "https://localhost:8080/"
        },
        "id": "E851of4adW9p",
        "outputId": "361805e0-d211-4518-e00e-a6a95b94e6ac"
      },
      "source": [
        "# Setting up the possible latent dimensions\r\n",
        "# A total of 27 latent dimensions are taken under consideration\r\n",
        "\r\n",
        "k_list = []\r\n",
        "k_list.extend(list(range(2, 10)))\r\n",
        "k_list.extend(list(range(10, 20, 2)))\r\n",
        "k_list.extend(list(range(20, 50, 5)))\r\n",
        "k_list.extend(list(range(50, 61, 10)))\r\n",
        "k_list.append(78)\r\n",
        "k_list.extend(list(range(80, 100, 10)))\r\n",
        "k_list.extend(list(range(100, 175, 25)))\r\n",
        "\r\n",
        "print(\"Latent dimensions:\")\r\n",
        "print(k_list)\r\n",
        "\r\n",
        "# list of algorithms/models\r\n",
        "model_list = [\"pca\", \"ica\", \"nmf\", \"vae\", \"dae\"]\r\n",
        "print(model_list)"
      ],
      "execution_count": 3,
      "outputs": [
        {
          "output_type": "stream",
          "text": [
            "Latent dimensions:\n",
            "[2, 3, 4, 5, 6, 7, 8, 9, 10, 12, 14, 16, 18, 20, 25, 30, 35, 40, 45, 50, 60, 78, 80, 90, 100, 125, 150]\n",
            "['pca', 'ica', 'nmf', 'vae', 'dae']\n"
          ],
          "name": "stdout"
        }
      ]
    },
    {
      "cell_type": "code",
      "metadata": {
        "id": "-FaLftQS0PBm"
      },
      "source": [
        "num_cca_trials = 5\r\n",
        "epsilon = 1e-6\r\n",
        "threshold = 1e-6\r\n",
        "\r\n",
        "def positivedef_matrix_sqrt(array):\r\n",
        "  w, v = np.linalg.eigh(array)\r\n",
        "  wsqrt = np.sqrt(w)\r\n",
        "  sqrtarray = np.dot(v, np.dot(np.diag(wsqrt), np.conj(v).T))\r\n",
        "  return sqrtarray\r\n",
        "\r\n",
        "def remove_small(sigma_xx, sigma_xy, sigma_yx, sigma_yy, threshold=1e-6):\r\n",
        "  x_diag = np.abs(np.diagonal(sigma_xx))\r\n",
        "  y_diag = np.abs(np.diagonal(sigma_yy))\r\n",
        "  x_idxs = (x_diag >= threshold)\r\n",
        "  y_idxs = (y_diag >= threshold)\r\n",
        "\r\n",
        "  sigma_xx_crop = sigma_xx[x_idxs][:, x_idxs]\r\n",
        "  sigma_xy_crop = sigma_xy[x_idxs][:, y_idxs]\r\n",
        "  sigma_yx_crop = sigma_yx[y_idxs][:, x_idxs]\r\n",
        "  sigma_yy_crop = sigma_yy[y_idxs][:, y_idxs]\r\n",
        "\r\n",
        "  return (sigma_xx_crop, sigma_xy_crop, sigma_yx_crop, sigma_yy_crop, x_idxs, y_idxs)\r\n",
        "\r\n",
        "\r\n",
        "def compute_ccas(sigma_xx, sigma_xy, sigma_yx, sigma_yy, verbose=True):\r\n",
        "  (sigma_xx, sigma_xy, sigma_yx, sigma_yy, x_idxs, y_idxs) = remove_small(sigma_xx, sigma_xy, sigma_yx, sigma_yy)\r\n",
        "\r\n",
        "  numx = sigma_xx.shape[0]\r\n",
        "  numy = sigma_yy.shape[0]\r\n",
        "\r\n",
        "  if numx == 0 or numy == 0:\r\n",
        "    return ([0, 0, 0], [0, 0, 0], np.zeros_like(sigma_xx),\r\n",
        "            np.zeros_like(sigma_yy), x_idxs, y_idxs)\r\n",
        "\r\n",
        "  if verbose:\r\n",
        "    print(\"adding eps to diagonal and taking inverse\")\r\n",
        "  sigma_xx +=epsilon * np.eye(numx)\r\n",
        "  sigma_yy +=epsilon * np.eye(numy)\r\n",
        "  inv_xx = np.linalg.pinv(sigma_xx)\r\n",
        "  inv_yy = np.linalg.pinv(sigma_yy)\r\n",
        "\r\n",
        "  if verbose:\r\n",
        "    print(\"taking square root\")\r\n",
        "  invsqrt_xx = positivedef_matrix_sqrt(inv_xx)\r\n",
        "  invsqrt_yy = positivedef_matrix_sqrt(inv_yy)\r\n",
        "\r\n",
        "  if verbose:\r\n",
        "    print(\"dot products...\")\r\n",
        "  arr_x = np.dot(sigma_yx, invsqrt_xx)\r\n",
        "  arr_x = np.dot(inv_yy, arr_x)\r\n",
        "  arr_x = np.dot(invsqrt_xx, np.dot(sigma_xy, arr_x))\r\n",
        "  arr_y = np.dot(sigma_xy, invsqrt_yy)\r\n",
        "  arr_y = np.dot(inv_xx, arr_y)\r\n",
        "  arr_y = np.dot(invsqrt_yy, np.dot(sigma_yx, arr_y))\r\n",
        "\r\n",
        "  if verbose:\r\n",
        "    print(\"trying to take final svd\")\r\n",
        "  arr_x_stable = arr_x + epsilon * np.eye(arr_x.shape[0])\r\n",
        "  arr_y_stable = arr_y + epsilon * np.eye(arr_y.shape[0])\r\n",
        "  try:\r\n",
        "      ux, sx, vx = np.linalg.svd(arr_x_stable)\r\n",
        "      uy, sy, vy = np.linalg.svd(arr_y_stable)\r\n",
        "  except:\r\n",
        "      return [0, 0, 0], [0, 0, 0], 0, 0, 0, 0\r\n",
        "  sx = np.sqrt(np.abs(sx))\r\n",
        "  sy = np.sqrt(np.abs(sy))\r\n",
        "  if verbose:\r\n",
        "    print(\"computed everything!\")\r\n",
        "\r\n",
        "  return [ux, sx, vx], [uy, sy, vy], invsqrt_xx, invsqrt_yy, x_idxs, y_idxs\r\n",
        "\r\n",
        "\r\n",
        "def sum_threshold(array, threshold):\r\n",
        "  assert (threshold >= 0) and (threshold <= 1), \"print incorrect threshold\"\r\n",
        "\r\n",
        "  for i in range(len(array)):\r\n",
        "    if np.sum(array[:i]) / np.sum(array) >= threshold:\r\n",
        "      return i\r\n",
        "\r\n",
        "\r\n",
        "def create_zero_dict(compute_dirns, dimension):\r\n",
        "  return_dict = {}\r\n",
        "  return_dict[\"mean\"] = (np.asarray(0), np.asarray(0))\r\n",
        "  return_dict[\"sum\"] = (np.asarray(0), np.asarray(0))\r\n",
        "  return_dict[\"cca_coef1\"] = np.asarray(0)\r\n",
        "  return_dict[\"cca_coef2\"] = np.asarray(0)\r\n",
        "  return_dict[\"idx1\"] = 0\r\n",
        "  return_dict[\"idx2\"] = 0\r\n",
        "\r\n",
        "  if compute_dirns:\r\n",
        "    return_dict[\"cca_dirns1\"] = np.zeros((1, dimension))\r\n",
        "    return_dict[\"cca_dirns2\"] = np.zeros((1, dimension))\r\n",
        "\r\n",
        "  return return_dict\r\n",
        "\r\n",
        "\r\n",
        "def get_cca_similarity(acts1, acts2, threshold=0.98, compute_dirns=True, verbose=True):\r\n",
        "  # assert dimensionality equal\r\n",
        "  assert acts1.shape[1] == acts2.shape[1], \"dimensions don't match\"\r\n",
        "  # check that acts1, acts2 are transposition\r\n",
        "  assert acts1.shape[0] < acts1.shape[1], (\"input must be number of neurons by datapoints\")\r\n",
        "  return_dict = {}\r\n",
        "\r\n",
        "  # compute covariance with numpy function for extra stability\r\n",
        "  numx = acts1.shape[0]\r\n",
        "\r\n",
        "  covariance = np.cov(acts1, acts2)\r\n",
        "  sigmaxx = covariance[:numx, :numx]\r\n",
        "  sigmaxy = covariance[:numx, numx:]\r\n",
        "  sigmayx = covariance[numx:, :numx]\r\n",
        "  sigmayy = covariance[numx:, numx:]\r\n",
        "\r\n",
        "  # rescale covariance to make cca computation more stable\r\n",
        "  xmax = np.max(np.abs(sigmaxx))\r\n",
        "  ymax = np.max(np.abs(sigmayy))\r\n",
        "  sigmaxx /= xmax\r\n",
        "  sigmayy /= ymax\r\n",
        "  sigmaxy /= np.sqrt(xmax * ymax)\r\n",
        "  sigmayx /= np.sqrt(xmax * ymax)\r\n",
        "\r\n",
        "  ([_, sx, vx], [_, sy, vy], invsqrt_xx, invsqrt_yy, x_idxs,\r\n",
        "   y_idxs) = compute_ccas(sigmaxx, sigmaxy, sigmayx, sigmayy,\r\n",
        "                          verbose)\r\n",
        "\r\n",
        "  # if x_idxs or y_idxs is all false, return_dict has zero entries\r\n",
        "  if (not np.any(x_idxs)) or (not np.any(y_idxs)):\r\n",
        "    return create_zero_dict(compute_dirns, acts1.shape[1])\r\n",
        "\r\n",
        "  if compute_dirns:\r\n",
        "    # orthonormal directions that are CCA directions\r\n",
        "    cca_dirns1 = np.dot(vx, np.dot(invsqrt_xx, acts1[x_idxs]))\r\n",
        "    cca_dirns2 = np.dot(vy, np.dot(invsqrt_yy, acts2[y_idxs]))\r\n",
        "\r\n",
        "  # get rid of trailing zeros in the cca coefficients\r\n",
        "  idx1 = sum_threshold(sx, threshold)\r\n",
        "  idx2 = sum_threshold(sy, threshold)\r\n",
        "\r\n",
        "  return_dict[\"neuron_coeffs1\"] = np.dot(vx, invsqrt_xx)\r\n",
        "  return_dict[\"neuron_coeffs2\"] = np.dot(vy, invsqrt_yy)\r\n",
        "  return_dict[\"cca_coef1\"] = sx\r\n",
        "  return_dict[\"cca_coef2\"] = sy\r\n",
        "  return_dict[\"x_idxs\"] = x_idxs\r\n",
        "  return_dict[\"y_idxs\"] = y_idxs\r\n",
        "  # summary statistics\r\n",
        "  return_dict[\"mean\"] = (np.mean(sx[:idx1]), np.mean(sy[:idx2]))\r\n",
        "  return_dict[\"sum\"] = (np.sum(sx), np.sum(sy))\r\n",
        "\r\n",
        "  if compute_dirns:\r\n",
        "    return_dict[\"cca_dirns1\"] = cca_dirns1\r\n",
        "    return_dict[\"cca_dirns2\"] = cca_dirns2\r\n",
        "\r\n",
        "  return return_dict\r\n",
        "\r\n",
        "\r\n",
        "def robust_cca_similarity(acts1, acts2, threshold=0.98, compute_dirns=True, verbose=False):\r\n",
        "  for trial in range(num_cca_trials):\r\n",
        "    try:\r\n",
        "      return_dict = get_cca_similarity(acts1, acts2, threshold, compute_dirns, verbose=verbose)\r\n",
        "    except np.LinAlgError:\r\n",
        "      acts1 = acts1 * 1e-1 + np.random.normal(size=acts1.shape) * epsilon\r\n",
        "      acts2 = acts2 * 1e-1 + np.random.normal(size=acts1.shape) * epsilon\r\n",
        "      if trial + 1 == num_cca_trials:\r\n",
        "        raise\r\n",
        "\r\n",
        "  return return_dict"
      ],
      "execution_count": 4,
      "outputs": []
    },
    {
      "cell_type": "code",
      "metadata": {
        "id": "AVYq7q_nV2GP"
      },
      "source": [
        "def get_svcca_across_algorithm_stability(z_dict, algorithms, threshold=0.98):\r\n",
        "    output_list = []\r\n",
        "    for i in range(0, len(algorithms)):\r\n",
        "        algorithm_a = algorithms[i]\r\n",
        "        for j in range(0, len(algorithms)):\r\n",
        "            algorithm_b = algorithms[j]\r\n",
        "            compile_list = [algorithm_a, algorithm_b]\r\n",
        "            result = robust_cca_similarity(z_dict[algorithm_a], z_dict[algorithm_b], verbose=False, threshold=threshold)\r\n",
        "            compile_list += [np.mean(result[\"mean\"])]\r\n",
        "            output_list.append(compile_list)\r\n",
        "\r\n",
        "    # Convert output to pandas dataframe\r\n",
        "    out_cols = [\r\n",
        "        \"algorithm_1\",\r\n",
        "        \"algorithm_2\",\r\n",
        "        \"svcca_mean_similarity\",\r\n",
        "    ]\r\n",
        "    return pd.DataFrame(output_list, columns=out_cols)"
      ],
      "execution_count": 5,
      "outputs": []
    },
    {
      "cell_type": "code",
      "metadata": {
        "id": "vCMp0K5nSaS_"
      },
      "source": [
        "f1 = open('/content/drive/MyDrive/aacb_project/datasets/z_dict_vae.p', 'rb')\r\n",
        "vae_z_dict = pkl.load(f1)\r\n",
        "f1.close()\r\n",
        "\r\n",
        "f2 = open('/content/drive/MyDrive/aacb_project/datasets/z_dict_dae.p', 'rb')\r\n",
        "dae_z_dict = pkl.load(f2)\r\n",
        "f2.close()\r\n",
        "\r\n",
        "f3 = open('/content/drive/MyDrive/aacb_project/datasets/z_dict_pca_ica_nmf.p', 'rb')\r\n",
        "pca_ica_nmf_z_dict = pkl.load(f3)\r\n",
        "f3.close()"
      ],
      "execution_count": 6,
      "outputs": []
    },
    {
      "cell_type": "code",
      "metadata": {
        "id": "ektYnLnPwThO"
      },
      "source": [
        "z_dict = {}\r\n",
        "for k in k_list:\r\n",
        "  z_dict[k] = {'vae': vae_z_dict[k], 'dae': dae_z_dict[k], 'pca': pca_ica_nmf_z_dict[k]['pca'], \r\n",
        "                  'ica': pca_ica_nmf_z_dict[k]['ica'], 'nmf': pca_ica_nmf_z_dict[k]['nmf']}"
      ],
      "execution_count": 7,
      "outputs": []
    },
    {
      "cell_type": "code",
      "metadata": {
        "colab": {
          "base_uri": "https://localhost:8080/"
        },
        "id": "Bc7sOQB-X5Ql",
        "outputId": "51e0a607-04bb-4ba0-d647-640b4db97cf4"
      },
      "source": [
        "large_svcca_results_list = []\r\n",
        "for z in k_list:\r\n",
        "    print(\"Calculating... for dimension {}\".format(z))\r\n",
        "    # Perform across algorithm SVCCA\r\n",
        "    svcca_out_df = (get_svcca_across_algorithm_stability(z_dict=z_dict[z], algorithms=model_list))\r\n",
        "    \r\n",
        "    # Append info to the output dataframe\r\n",
        "    svcca_out_df = svcca_out_df.assign(z_dim=z)\r\n",
        "\r\n",
        "    large_svcca_results_list.append(svcca_out_df)"
      ],
      "execution_count": 8,
      "outputs": [
        {
          "output_type": "stream",
          "text": [
            "Calculating... for dimension 2\n",
            "Calculating... for dimension 3\n",
            "Calculating... for dimension 4\n",
            "Calculating... for dimension 5\n",
            "Calculating... for dimension 6\n",
            "Calculating... for dimension 7\n",
            "Calculating... for dimension 8\n",
            "Calculating... for dimension 9\n",
            "Calculating... for dimension 10\n",
            "Calculating... for dimension 12\n",
            "Calculating... for dimension 14\n",
            "Calculating... for dimension 16\n",
            "Calculating... for dimension 18\n",
            "Calculating... for dimension 20\n",
            "Calculating... for dimension 25\n",
            "Calculating... for dimension 30\n",
            "Calculating... for dimension 35\n",
            "Calculating... for dimension 40\n",
            "Calculating... for dimension 45\n",
            "Calculating... for dimension 50\n",
            "Calculating... for dimension 60\n",
            "Calculating... for dimension 78\n",
            "Calculating... for dimension 80\n",
            "Calculating... for dimension 90\n",
            "Calculating... for dimension 100\n",
            "Calculating... for dimension 125\n",
            "Calculating... for dimension 150\n"
          ],
          "name": "stdout"
        }
      ]
    },
    {
      "cell_type": "code",
      "metadata": {
        "colab": {
          "base_uri": "https://localhost:8080/",
          "height": 355
        },
        "id": "DYvcxhYyZXWL",
        "outputId": "5fb8fd5c-890f-4079-fb54-5b6ae7c5a830"
      },
      "source": [
        "svcca_results_df = pd.concat(large_svcca_results_list).reset_index(drop=True)\r\n",
        "svcca_results_df.columns = ['algorithm_1', 'algorithm_2', 'svcca_mean_similarity', 'z_dim']\r\n",
        "svcca_results_df.head(10)"
      ],
      "execution_count": 9,
      "outputs": [
        {
          "output_type": "execute_result",
          "data": {
            "text/html": [
              "<div>\n",
              "<style scoped>\n",
              "    .dataframe tbody tr th:only-of-type {\n",
              "        vertical-align: middle;\n",
              "    }\n",
              "\n",
              "    .dataframe tbody tr th {\n",
              "        vertical-align: top;\n",
              "    }\n",
              "\n",
              "    .dataframe thead th {\n",
              "        text-align: right;\n",
              "    }\n",
              "</style>\n",
              "<table border=\"1\" class=\"dataframe\">\n",
              "  <thead>\n",
              "    <tr style=\"text-align: right;\">\n",
              "      <th></th>\n",
              "      <th>algorithm_1</th>\n",
              "      <th>algorithm_2</th>\n",
              "      <th>svcca_mean_similarity</th>\n",
              "      <th>z_dim</th>\n",
              "    </tr>\n",
              "  </thead>\n",
              "  <tbody>\n",
              "    <tr>\n",
              "      <th>0</th>\n",
              "      <td>pca</td>\n",
              "      <td>pca</td>\n",
              "      <td>0.999999</td>\n",
              "      <td>2</td>\n",
              "    </tr>\n",
              "    <tr>\n",
              "      <th>1</th>\n",
              "      <td>pca</td>\n",
              "      <td>ica</td>\n",
              "      <td>0.999999</td>\n",
              "      <td>2</td>\n",
              "    </tr>\n",
              "    <tr>\n",
              "      <th>2</th>\n",
              "      <td>pca</td>\n",
              "      <td>nmf</td>\n",
              "      <td>0.529325</td>\n",
              "      <td>2</td>\n",
              "    </tr>\n",
              "    <tr>\n",
              "      <th>3</th>\n",
              "      <td>pca</td>\n",
              "      <td>vae</td>\n",
              "      <td>0.972385</td>\n",
              "      <td>2</td>\n",
              "    </tr>\n",
              "    <tr>\n",
              "      <th>4</th>\n",
              "      <td>pca</td>\n",
              "      <td>dae</td>\n",
              "      <td>0.912187</td>\n",
              "      <td>2</td>\n",
              "    </tr>\n",
              "    <tr>\n",
              "      <th>5</th>\n",
              "      <td>ica</td>\n",
              "      <td>pca</td>\n",
              "      <td>0.999999</td>\n",
              "      <td>2</td>\n",
              "    </tr>\n",
              "    <tr>\n",
              "      <th>6</th>\n",
              "      <td>ica</td>\n",
              "      <td>ica</td>\n",
              "      <td>0.999999</td>\n",
              "      <td>2</td>\n",
              "    </tr>\n",
              "    <tr>\n",
              "      <th>7</th>\n",
              "      <td>ica</td>\n",
              "      <td>nmf</td>\n",
              "      <td>0.529325</td>\n",
              "      <td>2</td>\n",
              "    </tr>\n",
              "    <tr>\n",
              "      <th>8</th>\n",
              "      <td>ica</td>\n",
              "      <td>vae</td>\n",
              "      <td>0.972385</td>\n",
              "      <td>2</td>\n",
              "    </tr>\n",
              "    <tr>\n",
              "      <th>9</th>\n",
              "      <td>ica</td>\n",
              "      <td>dae</td>\n",
              "      <td>0.912187</td>\n",
              "      <td>2</td>\n",
              "    </tr>\n",
              "  </tbody>\n",
              "</table>\n",
              "</div>"
            ],
            "text/plain": [
              "  algorithm_1 algorithm_2  svcca_mean_similarity  z_dim\n",
              "0         pca         pca               0.999999      2\n",
              "1         pca         ica               0.999999      2\n",
              "2         pca         nmf               0.529325      2\n",
              "3         pca         vae               0.972385      2\n",
              "4         pca         dae               0.912187      2\n",
              "5         ica         pca               0.999999      2\n",
              "6         ica         ica               0.999999      2\n",
              "7         ica         nmf               0.529325      2\n",
              "8         ica         vae               0.972385      2\n",
              "9         ica         dae               0.912187      2"
            ]
          },
          "metadata": {
            "tags": []
          },
          "execution_count": 9
        }
      ]
    },
    {
      "cell_type": "code",
      "metadata": {
        "colab": {
          "base_uri": "https://localhost:8080/",
          "height": 985
        },
        "id": "f2mkUwup2GBP",
        "outputId": "577bd0d0-b37a-4472-b3bb-5c740e0d267b"
      },
      "source": [
        "num_models = len(model_list)\r\n",
        "\r\n",
        "fig, axs = plt.subplots(num_models, num_models, figsize=(15,15))\r\n",
        "x = k_list[:]\r\n",
        "\r\n",
        "for i in range(num_models):\r\n",
        "  alg1 = model_list[i]\r\n",
        "  for j in range(num_models):\r\n",
        "    alg2 = model_list[j]\r\n",
        "    y = svcca_results_df[svcca_results_df[\"algorithm_1\"] == alg1]\r\n",
        "    y = y[y[\"algorithm_2\"] == alg2][\"svcca_mean_similarity\"].values\r\n",
        "    axs[i, j].set_ylim(0,1)\r\n",
        "    axs[i, j].scatter(x, y)\r\n",
        "    axs[i, j].set_title('{}-{}'.format(alg1.upper(), alg2.upper()))\r\n",
        "    axs[i, j].grid()\r\n",
        "\r\n",
        "for ax in axs.flat:\r\n",
        "    ax.set(xlabel='Number of latent dimensions', ylabel='SVCCA Mean Similarity')\r\n",
        "\r\n",
        "# Hide x labels and tick labels for top plots and y ticks for right plots.\r\n",
        "for ax in axs.flat:\r\n",
        "    ax.label_outer()\r\n",
        "\r\n",
        "plt.suptitle('Stability across algorithms')\r\n",
        "plt.savefig('/content/drive/MyDrive/aacb_project/images/stability_across_algorithms.png')"
      ],
      "execution_count": 10,
      "outputs": [
        {
          "output_type": "display_data",
          "data": {
            "image/png": "[encoded data removed]",
            "text/plain": [
              "<Figure size 1080x1080 with 25 Axes>"
            ]
          },
          "metadata": {
            "tags": [],
            "needs_background": "light"
          }
        }
      ]
    },
    {
      "cell_type": "code",
      "metadata": {
        "id": "-2-CgU6w93Z9"
      },
      "source": [
        ""
      ],
      "execution_count": null,
      "outputs": []
    }
  ]
}