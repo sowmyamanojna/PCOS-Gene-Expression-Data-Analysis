{
  "nbformat": 4,
  "nbformat_minor": 0,
  "metadata": {
    "kernelspec": {
      "display_name": "Python [conda env:biobombe]",
      "language": "python",
      "name": "conda-env-biobombe-py"
    },
    "language_info": {
      "codemirror_mode": {
        "name": "ipython",
        "version": 3
      },
      "file_extension": ".py",
      "mimetype": "text/x-python",
      "name": "python",
      "nbconvert_exporter": "python",
      "pygments_lexer": "ipython3",
      "version": "3.6.7"
    },
    "colab": {
      "name": "integrate-compression-hetnet.ipynb",
      "provenance": [],
      "collapsed_sections": [],
      "toc_visible": true,
      "include_colab_link": true
    }
  },
  "cells": [
    {
      "cell_type": "markdown",
      "metadata": {
        "id": "view-in-github",
        "colab_type": "text"
      },
      "source": [
        "<a href=\"https://colab.research.google.com/github/sowmyamanojna/CS6024-Algorithmic-Approaches-to-Computational-Biology-Project/blob/master/codes/integrate_compression_hetnet.ipynb\" target=\"_parent\"><img src=\"https://colab.research.google.com/assets/colab-badge.svg\" alt=\"Open In Colab\"/></a>"
      ]
    },
    {
      "cell_type": "markdown",
      "metadata": {
        "id": "ATSsuvVFpAQF"
      },
      "source": [
        "# Create a hetnet of genesets for automatic gene expression compression interpretation\n",
        "\n",
        "This script was modified from https://github.com/dhimmel/integrate.\n",
        "\n",
        "The script creates a hetnet as described in the eLIFE publication _\"Systematic integration of biomedical knowledge prioritizes drugs for repurposing\"_ by [Himmelstein et al. 2017](https://doi.org/10.7554/eLife.26726)\n",
        "\n",
        "## Datasets\n",
        "\n",
        "1. [MSigDb](https://doi.org/10.1073/pnas.0506580102 \"Gene set enrichment analysis: A knowledge-based approach for interpreting genome-wide expression profiles\") - Curated genesets that represent various biological processes\n",
        "2. [xCell](https://doi.org/10.1186/s13059-017-1349-1, \"xCell: digitally portraying the tissue cellular heterogeneity landscape\") - Curated genesets that describe profiles of different cell-types"
      ]
    },
    {
      "cell_type": "code",
      "metadata": {
        "colab": {
          "base_uri": "https://localhost:8080/"
        },
        "id": "Cj6Kh8OtpAQK",
        "outputId": "a14f905c-a076-467d-a455-d1ee6c5be929"
      },
      "source": [
        "! pip install hetio\n",
        "\n",
        "import os\n",
        "import csv\n",
        "import numpy as np\n",
        "import pandas as pd\n",
        "import seaborn as sns\n",
        "\n",
        "import hetio.hetnet\n",
        "import hetio.readwrite\n",
        "import hetio.stats"
      ],
      "execution_count": 1,
      "outputs": [
        {
          "output_type": "stream",
          "text": [
            "Requirement already satisfied: hetio in /usr/local/lib/python3.6/dist-packages (0.2.11)\n",
            "Requirement already satisfied: regex in /usr/local/lib/python3.6/dist-packages (from hetio) (2019.12.20)\n"
          ],
          "name": "stdout"
        },
        {
          "output_type": "stream",
          "text": [
            "/usr/local/lib/python3.6/dist-packages/hetio/__init__.py:11: FutureWarning: \n",
            "PACKAGE HAS BEEN RELOCATED:\n",
            "v0.2.11 is the last release before the hetio package is renamed to hetnetpy.\n",
            "Consider switching to the hetnetpy package or specifying hetio<=0.2.10 to silence this warning.\n",
            "Future releases and development will only occur for the hetnetpy package.\n",
            "\n",
            "  warnings.warn(message, FutureWarning)\n"
          ],
          "name": "stderr"
        }
      ]
    },
    {
      "cell_type": "code",
      "metadata": {
        "id": "UQ3hxGx9pAQL"
      },
      "source": [
        "%matplotlib inline"
      ],
      "execution_count": 2,
      "outputs": []
    },
    {
      "cell_type": "code",
      "metadata": {
        "colab": {
          "base_uri": "https://localhost:8080/"
        },
        "id": "ogXgPdczpF8_",
        "outputId": "3c1abc8e-f4be-4c3d-ae51-5e15426e3c1e"
      },
      "source": [
        "from google.colab import drive\n",
        "drive.mount(\"/content/drive/\")"
      ],
      "execution_count": 3,
      "outputs": [
        {
          "output_type": "stream",
          "text": [
            "Drive already mounted at /content/drive/; to attempt to forcibly remount, call drive.mount(\"/content/drive/\", force_remount=True).\n"
          ],
          "name": "stdout"
        }
      ]
    },
    {
      "cell_type": "markdown",
      "metadata": {
        "id": "sFuy-WFqpAQN"
      },
      "source": [
        "## Define the metagraph and instantiate the graph"
      ]
    },
    {
      "cell_type": "code",
      "metadata": {
        "id": "j9m61z5CpAQN"
      },
      "source": [
        "kind_to_abbev = {\n",
        "    \n",
        "    # metanodes\n",
        "    'Gene': 'G',\n",
        "\n",
        "    # MSigDB Nodes\n",
        "    'Hallmarks': 'H',\n",
        "    'Positional-Gene-Sets': 'C1',\n",
        "    'Curated-Gene-Sets-CPG': 'C2CPG',\n",
        "    'Curated-Gene-Sets-REACTOME': 'C2CPREACTOME',\n",
        "    'Motif-Gene-Sets-MIR': 'C3MIR',\n",
        "    'Motif-Gene-Sets-TFT': 'C3TFT',\n",
        "    'Computational-Gene-Sets-CGN': 'C4CGN',\n",
        "    'Computational-Gene-Sets-CM': 'C4CM',\n",
        "    'GO-Gene-Sets-BP': 'C5BP',\n",
        "    'GO-Gene-Sets-CC': 'C5CC',\n",
        "    'GO-Gene-Sets-MF': 'C5MF',\n",
        "    'Oncogenic-Gene-Sets': 'C6',\n",
        "    'Immunologic-Gene-Sets': 'C7',\n",
        "    \n",
        "    # xCell Nodes\n",
        "    'xCell-Cell-Type': 'XCELL',\n",
        "    \n",
        "    # metaedges\n",
        "    'participates': 'p',\n",
        "}\n",
        "\n",
        "metaedge_tuples = [\n",
        "    # MSigDB metaedges\n",
        "    ('Gene', 'Hallmarks', 'participates', 'both'),\n",
        "    ('Gene', 'Positional-Gene-Sets', 'participates', 'both'),\n",
        "    ('Gene', 'Curated-Gene-Sets-CPG', 'participates', 'both'),\n",
        "    ('Gene', 'Curated-Gene-Sets-REACTOME', 'participates', 'both'),\n",
        "    ('Gene', 'Motif-Gene-Sets-MIR', 'participates', 'both'),\n",
        "    ('Gene', 'Motif-Gene-Sets-TFT', 'participates', 'both'),\n",
        "    ('Gene', 'Computational-Gene-Sets-CGN', 'participates', 'both'),\n",
        "    ('Gene', 'Computational-Gene-Sets-CM', 'participates', 'both'),\n",
        "    ('Gene', 'GO-Gene-Sets-BP', 'participates', 'both'),\n",
        "    ('Gene', 'GO-Gene-Sets-CC', 'participates', 'both'),\n",
        "    ('Gene', 'GO-Gene-Sets-MF', 'participates', 'both'),\n",
        "    ('Gene', 'Oncogenic-Gene-Sets', 'participates', 'both'),\n",
        "    ('Gene', 'Immunologic-Gene-Sets', 'participates', 'both'),\n",
        "    \n",
        "    # xCell metaedges\n",
        "    ('Gene', 'xCell-Cell-Type', 'participates', 'both'),\n",
        "]"
      ],
      "execution_count": 4,
      "outputs": []
    },
    {
      "cell_type": "code",
      "metadata": {
        "id": "7gHj-z_mpAQP"
      },
      "source": [
        "# Initialize the graph\n",
        "metagraph = hetio.hetnet.MetaGraph.from_edge_tuples(metaedge_tuples, kind_to_abbev)\n",
        "graph = hetio.hetnet.Graph(metagraph)"
      ],
      "execution_count": 5,
      "outputs": []
    },
    {
      "cell_type": "markdown",
      "metadata": {
        "id": "AEy0Sj0MpAQR"
      },
      "source": [
        "## Gene Nodes\n",
        "Adding the `unique_mapping_ids` here, for making it more relate to our project."
      ]
    },
    {
      "cell_type": "code",
      "metadata": {
        "colab": {
          "base_uri": "https://localhost:8080/"
        },
        "id": "JQ4ecsd6qAWB",
        "outputId": "6100090a-6077-4a42-b5bc-2c402ea95072"
      },
      "source": [
        "data = pd.read_csv(\"/content/drive/MyDrive/aacb_project/datasets/common_normalized.csv\", index_col=0)\n",
        "columns = data.columns[1:-1]\n",
        "columns = list(columns)\n",
        "pcos_ids = []\n",
        "for i in columns:\n",
        "    if len(i.split(\"_\")) == 1 and int(i) not in pcos_ids:\n",
        "        pcos_ids.append(int(i))\n",
        "    else:\n",
        "        for j in i.split(\"_\"):\n",
        "            if int(j) not in pcos_ids:\n",
        "                pcos_ids.append(int(j))\n",
        "\n",
        "print(len(pcos_ids))"
      ],
      "execution_count": 6,
      "outputs": [
        {
          "output_type": "stream",
          "text": [
            "1681\n"
          ],
          "name": "stdout"
        }
      ]
    },
    {
      "cell_type": "code",
      "metadata": {
        "colab": {
          "base_uri": "https://localhost:8080/",
          "height": 684
        },
        "id": "FmHueKbypAQS",
        "outputId": "4d6d911e-1a48-40f5-83f5-f05f6445b398"
      },
      "source": [
        "# Load curated gene names from versioned resource \n",
        "commit = '721204091a96e55de6dcad165d6d8265e67e2a48'\n",
        "url = 'https://raw.githubusercontent.com/cognoma/genes/{}/data/genes.tsv'.format(commit)\n",
        "gene_df = pd.read_table(url)\n",
        "\n",
        "# Only consider protein-coding genes\n",
        "# gene_df = (\n",
        "#     gene_df.query(\"gene_type == 'protein-coding'\")\n",
        "# )\n",
        "\n",
        "coding_genes = set(gene_df['entrez_gene_id'].astype(int))\n",
        "print(gene_df.shape)\n",
        "gene_df"
      ],
      "execution_count": 7,
      "outputs": [
        {
          "output_type": "stream",
          "text": [
            "(60139, 7)\n"
          ],
          "name": "stdout"
        },
        {
          "output_type": "execute_result",
          "data": {
            "text/html": [
              "<div>\n",
              "<style scoped>\n",
              "    .dataframe tbody tr th:only-of-type {\n",
              "        vertical-align: middle;\n",
              "    }\n",
              "\n",
              "    .dataframe tbody tr th {\n",
              "        vertical-align: top;\n",
              "    }\n",
              "\n",
              "    .dataframe thead th {\n",
              "        text-align: right;\n",
              "    }\n",
              "</style>\n",
              "<table border=\"1\" class=\"dataframe\">\n",
              "  <thead>\n",
              "    <tr style=\"text-align: right;\">\n",
              "      <th></th>\n",
              "      <th>entrez_gene_id</th>\n",
              "      <th>symbol</th>\n",
              "      <th>description</th>\n",
              "      <th>chromosome</th>\n",
              "      <th>gene_type</th>\n",
              "      <th>synonyms</th>\n",
              "      <th>aliases</th>\n",
              "    </tr>\n",
              "  </thead>\n",
              "  <tbody>\n",
              "    <tr>\n",
              "      <th>0</th>\n",
              "      <td>1</td>\n",
              "      <td>A1BG</td>\n",
              "      <td>alpha-1-B glycoprotein</td>\n",
              "      <td>19</td>\n",
              "      <td>protein-coding</td>\n",
              "      <td>A1B|ABG|GAB|HYST2477</td>\n",
              "      <td>alpha-1B-glycoprotein|HEL-S-163pA|epididymis s...</td>\n",
              "    </tr>\n",
              "    <tr>\n",
              "      <th>1</th>\n",
              "      <td>2</td>\n",
              "      <td>A2M</td>\n",
              "      <td>alpha-2-macroglobulin</td>\n",
              "      <td>12</td>\n",
              "      <td>protein-coding</td>\n",
              "      <td>A2MD|CPAMD5|FWP007|S863-7</td>\n",
              "      <td>alpha-2-macroglobulin|C3 and PZP-like alpha-2-...</td>\n",
              "    </tr>\n",
              "    <tr>\n",
              "      <th>2</th>\n",
              "      <td>3</td>\n",
              "      <td>A2MP1</td>\n",
              "      <td>alpha-2-macroglobulin pseudogene 1</td>\n",
              "      <td>12</td>\n",
              "      <td>pseudo</td>\n",
              "      <td>A2MP</td>\n",
              "      <td>pregnancy-zone protein pseudogene</td>\n",
              "    </tr>\n",
              "    <tr>\n",
              "      <th>3</th>\n",
              "      <td>9</td>\n",
              "      <td>NAT1</td>\n",
              "      <td>N-acetyltransferase 1</td>\n",
              "      <td>8</td>\n",
              "      <td>protein-coding</td>\n",
              "      <td>AAC1|MNAT|NAT-1|NATI</td>\n",
              "      <td>arylamine N-acetyltransferase 1|N-acetyltransf...</td>\n",
              "    </tr>\n",
              "    <tr>\n",
              "      <th>4</th>\n",
              "      <td>10</td>\n",
              "      <td>NAT2</td>\n",
              "      <td>N-acetyltransferase 2</td>\n",
              "      <td>8</td>\n",
              "      <td>protein-coding</td>\n",
              "      <td>AAC2|NAT-2|PNAT</td>\n",
              "      <td>arylamine N-acetyltransferase 2|N-acetyltransf...</td>\n",
              "    </tr>\n",
              "    <tr>\n",
              "      <th>...</th>\n",
              "      <td>...</td>\n",
              "      <td>...</td>\n",
              "      <td>...</td>\n",
              "      <td>...</td>\n",
              "      <td>...</td>\n",
              "      <td>...</td>\n",
              "      <td>...</td>\n",
              "    </tr>\n",
              "    <tr>\n",
              "      <th>60134</th>\n",
              "      <td>108684029</td>\n",
              "      <td>DUPXQ25</td>\n",
              "      <td>Xq25 duplication syndrome</td>\n",
              "      <td>X</td>\n",
              "      <td>unknown</td>\n",
              "      <td>NaN</td>\n",
              "      <td>NaN</td>\n",
              "    </tr>\n",
              "    <tr>\n",
              "      <th>60135</th>\n",
              "      <td>108720147</td>\n",
              "      <td>HIPSTR</td>\n",
              "      <td>Heterogeneously expressed from the Intronic Pl...</td>\n",
              "      <td>NaN</td>\n",
              "      <td>protein-coding</td>\n",
              "      <td>NaN</td>\n",
              "      <td>NaN</td>\n",
              "    </tr>\n",
              "    <tr>\n",
              "      <th>60136</th>\n",
              "      <td>108783645</td>\n",
              "      <td>LOC108783645</td>\n",
              "      <td>HFE antisense RNA</td>\n",
              "      <td>6</td>\n",
              "      <td>ncRNA</td>\n",
              "      <td>NaN</td>\n",
              "      <td>NaN</td>\n",
              "    </tr>\n",
              "    <tr>\n",
              "      <th>60137</th>\n",
              "      <td>108783646</td>\n",
              "      <td>DINO</td>\n",
              "      <td>DNA damage, p53 is stabilized and p53-responsive</td>\n",
              "      <td>6</td>\n",
              "      <td>ncRNA</td>\n",
              "      <td>NaN</td>\n",
              "      <td>NaN</td>\n",
              "    </tr>\n",
              "    <tr>\n",
              "      <th>60138</th>\n",
              "      <td>108783654</td>\n",
              "      <td>LOC108783654</td>\n",
              "      <td>uncharacterized LOC108783654</td>\n",
              "      <td>17</td>\n",
              "      <td>ncRNA</td>\n",
              "      <td>NaN</td>\n",
              "      <td>NaN</td>\n",
              "    </tr>\n",
              "  </tbody>\n",
              "</table>\n",
              "<p>60139 rows × 7 columns</p>\n",
              "</div>"
            ],
            "text/plain": [
              "       entrez_gene_id  ...                                            aliases\n",
              "0                   1  ...  alpha-1B-glycoprotein|HEL-S-163pA|epididymis s...\n",
              "1                   2  ...  alpha-2-macroglobulin|C3 and PZP-like alpha-2-...\n",
              "2                   3  ...                  pregnancy-zone protein pseudogene\n",
              "3                   9  ...  arylamine N-acetyltransferase 1|N-acetyltransf...\n",
              "4                  10  ...  arylamine N-acetyltransferase 2|N-acetyltransf...\n",
              "...               ...  ...                                                ...\n",
              "60134       108684029  ...                                                NaN\n",
              "60135       108720147  ...                                                NaN\n",
              "60136       108783645  ...                                                NaN\n",
              "60137       108783646  ...                                                NaN\n",
              "60138       108783654  ...                                                NaN\n",
              "\n",
              "[60139 rows x 7 columns]"
            ]
          },
          "metadata": {
            "tags": []
          },
          "execution_count": 7
        }
      ]
    },
    {
      "cell_type": "code",
      "metadata": {
        "id": "gT2nZaHZpAQV"
      },
      "source": [
        "# Load gene updater\n",
        "url = 'https://raw.githubusercontent.com/cognoma/genes/{}/data/updater.tsv'.format(commit)\n",
        "updater_df = pd.read_table(url)\n",
        "old_to_new_entrez = dict(zip(updater_df.old_entrez_gene_id,\n",
        "                             updater_df.new_entrez_gene_id))"
      ],
      "execution_count": 8,
      "outputs": []
    },
    {
      "cell_type": "code",
      "metadata": {
        "colab": {
          "base_uri": "https://localhost:8080/"
        },
        "id": "SVZSPJG5rS5v",
        "outputId": "676b9f25-65fb-4181-f163-cf6c831e05ba"
      },
      "source": [
        "for j,i in enumerate(old_to_new_entrez):\n",
        "    print(i, old_to_new_entrez[i], type(i))\n",
        "    if j>10:\n",
        "        break\n",
        "\n",
        "to_new = list(old_to_new_entrez.keys())"
      ],
      "execution_count": 9,
      "outputs": [
        {
          "output_type": "stream",
          "text": [
            "8 7003 <class 'int'>\n",
            "42 51596 <class 'int'>\n",
            "44 1261 <class 'int'>\n",
            "45 54714 <class 'int'>\n",
            "57 7291 <class 'int'>\n",
            "61 643309 <class 'int'>\n",
            "76 648740 <class 'int'>\n",
            "77 100462767 <class 'int'>\n",
            "96 79839 <class 'int'>\n",
            "99 348 <class 'int'>\n",
            "110 196883 <class 'int'>\n",
            "121 120 <class 'int'>\n"
          ],
          "name": "stdout"
        }
      ]
    },
    {
      "cell_type": "code",
      "metadata": {
        "id": "ub82s03-r3Nw"
      },
      "source": [
        "for i in old_to_new_entrez:\n",
        "    pos = np.where(gene_df[\"entrez_gene_id\"] == i)[0]\n",
        "    if pos.shape[0] > 0:\n",
        "        print(pos)"
      ],
      "execution_count": 10,
      "outputs": []
    },
    {
      "cell_type": "code",
      "metadata": {
        "colab": {
          "base_uri": "https://localhost:8080/"
        },
        "id": "NGHQG5k0sqbS",
        "outputId": "855ea605-27b1-4e95-aca1-e12331f6c3fc"
      },
      "source": [
        "not_present = []\n",
        "new_change = []\n",
        "present = []\n",
        "\n",
        "for i in pcos_ids:\n",
        "    if i not in gene_df[\"entrez_gene_id\"]:\n",
        "        not_present.append(i)\n",
        "    elif i in to_new:\n",
        "        new_change.append(i)\n",
        "    elif i in gene_df[\"entrez_gene_id\"]:\n",
        "        present.append(i)\n",
        "\n",
        "print(len(not_present))\n",
        "print(len(new_change))\n",
        "print(len(present))"
      ],
      "execution_count": 11,
      "outputs": [
        {
          "output_type": "stream",
          "text": [
            "346\n",
            "0\n",
            "1335\n"
          ],
          "name": "stdout"
        }
      ]
    },
    {
      "cell_type": "code",
      "metadata": {
        "colab": {
          "base_uri": "https://localhost:8080/",
          "height": 276
        },
        "id": "CbTGcizs1Dit",
        "outputId": "c5741fe7-ba0d-4905-a80f-d9c1e84f072f"
      },
      "source": [
        "display(gene_df.head(2))\n",
        "df = gene_df.T\n",
        "df.columns = df.loc[\"entrez_gene_id\"]\n",
        "df = df[1:]\n",
        "\n",
        "# Taking only those entries that is present in PCOS\n",
        "df_new = df[present]\n",
        "df_new = df_new.T.reset_index()\n",
        "display(df_new.head(2))"
      ],
      "execution_count": 12,
      "outputs": [
        {
          "output_type": "display_data",
          "data": {
            "text/html": [
              "<div>\n",
              "<style scoped>\n",
              "    .dataframe tbody tr th:only-of-type {\n",
              "        vertical-align: middle;\n",
              "    }\n",
              "\n",
              "    .dataframe tbody tr th {\n",
              "        vertical-align: top;\n",
              "    }\n",
              "\n",
              "    .dataframe thead th {\n",
              "        text-align: right;\n",
              "    }\n",
              "</style>\n",
              "<table border=\"1\" class=\"dataframe\">\n",
              "  <thead>\n",
              "    <tr style=\"text-align: right;\">\n",
              "      <th></th>\n",
              "      <th>entrez_gene_id</th>\n",
              "      <th>symbol</th>\n",
              "      <th>description</th>\n",
              "      <th>chromosome</th>\n",
              "      <th>gene_type</th>\n",
              "      <th>synonyms</th>\n",
              "      <th>aliases</th>\n",
              "    </tr>\n",
              "  </thead>\n",
              "  <tbody>\n",
              "    <tr>\n",
              "      <th>0</th>\n",
              "      <td>1</td>\n",
              "      <td>A1BG</td>\n",
              "      <td>alpha-1-B glycoprotein</td>\n",
              "      <td>19</td>\n",
              "      <td>protein-coding</td>\n",
              "      <td>A1B|ABG|GAB|HYST2477</td>\n",
              "      <td>alpha-1B-glycoprotein|HEL-S-163pA|epididymis s...</td>\n",
              "    </tr>\n",
              "    <tr>\n",
              "      <th>1</th>\n",
              "      <td>2</td>\n",
              "      <td>A2M</td>\n",
              "      <td>alpha-2-macroglobulin</td>\n",
              "      <td>12</td>\n",
              "      <td>protein-coding</td>\n",
              "      <td>A2MD|CPAMD5|FWP007|S863-7</td>\n",
              "      <td>alpha-2-macroglobulin|C3 and PZP-like alpha-2-...</td>\n",
              "    </tr>\n",
              "  </tbody>\n",
              "</table>\n",
              "</div>"
            ],
            "text/plain": [
              "   entrez_gene_id  ...                                            aliases\n",
              "0               1  ...  alpha-1B-glycoprotein|HEL-S-163pA|epididymis s...\n",
              "1               2  ...  alpha-2-macroglobulin|C3 and PZP-like alpha-2-...\n",
              "\n",
              "[2 rows x 7 columns]"
            ]
          },
          "metadata": {
            "tags": []
          }
        },
        {
          "output_type": "display_data",
          "data": {
            "text/html": [
              "<div>\n",
              "<style scoped>\n",
              "    .dataframe tbody tr th:only-of-type {\n",
              "        vertical-align: middle;\n",
              "    }\n",
              "\n",
              "    .dataframe tbody tr th {\n",
              "        vertical-align: top;\n",
              "    }\n",
              "\n",
              "    .dataframe thead th {\n",
              "        text-align: right;\n",
              "    }\n",
              "</style>\n",
              "<table border=\"1\" class=\"dataframe\">\n",
              "  <thead>\n",
              "    <tr style=\"text-align: right;\">\n",
              "      <th></th>\n",
              "      <th>entrez_gene_id</th>\n",
              "      <th>symbol</th>\n",
              "      <th>description</th>\n",
              "      <th>chromosome</th>\n",
              "      <th>gene_type</th>\n",
              "      <th>synonyms</th>\n",
              "      <th>aliases</th>\n",
              "    </tr>\n",
              "  </thead>\n",
              "  <tbody>\n",
              "    <tr>\n",
              "      <th>0</th>\n",
              "      <td>27</td>\n",
              "      <td>ABL2</td>\n",
              "      <td>ABL proto-oncogene 2, non-receptor tyrosine ki...</td>\n",
              "      <td>1</td>\n",
              "      <td>protein-coding</td>\n",
              "      <td>ABLL|ARG</td>\n",
              "      <td>Abelson tyrosine-protein kinase 2|abelson-rela...</td>\n",
              "    </tr>\n",
              "    <tr>\n",
              "      <th>1</th>\n",
              "      <td>36</td>\n",
              "      <td>ACADSB</td>\n",
              "      <td>acyl-CoA dehydrogenase, short/branched chain</td>\n",
              "      <td>10</td>\n",
              "      <td>protein-coding</td>\n",
              "      <td>2-MEBCAD|ACAD7|SBCAD</td>\n",
              "      <td>short/branched chain specific acyl-CoA dehydro...</td>\n",
              "    </tr>\n",
              "  </tbody>\n",
              "</table>\n",
              "</div>"
            ],
            "text/plain": [
              "   entrez_gene_id  ...                                            aliases\n",
              "0              27  ...  Abelson tyrosine-protein kinase 2|abelson-rela...\n",
              "1              36  ...  short/branched chain specific acyl-CoA dehydro...\n",
              "\n",
              "[2 rows x 7 columns]"
            ]
          },
          "metadata": {
            "tags": []
          }
        }
      ]
    },
    {
      "cell_type": "markdown",
      "metadata": {
        "id": "4Q0hbjvRpAQS"
      },
      "source": [
        "## Add genes as nodes to the graph\n",
        "\n",
        "Use the gene-symbol identifier for easier interpretation"
      ]
    },
    {
      "cell_type": "code",
      "metadata": {
        "colab": {
          "base_uri": "https://localhost:8080/"
        },
        "id": "l-PCVq4gpAQU",
        "outputId": "bd8e07d3-5e90-4432-b62f-53573055db6d"
      },
      "source": [
        "%%time\n",
        "for i, row in df_new.iterrows():\n",
        "    # Build dictionary of descriptive elements for each gene\n",
        "    meta_data = {\n",
        "        'description': row['description'],\n",
        "        'source': 'Entrez Gene',\n",
        "        'url': 'http://identifiers.org/ncbigene/{}'.format(row['entrez_gene_id']),\n",
        "        'license': 'CC0 1.0',\n",
        "    }\n",
        "    \n",
        "    if pd.notnull(row['chromosome']):\n",
        "        meta_data['chromosome'] = row['chromosome']\n",
        "\n",
        "    # Add genes to graph\n",
        "    graph.add_node(kind='Gene', identifier=int(row['entrez_gene_id']), name=row['symbol'],\n",
        "                   data=meta_data)"
      ],
      "execution_count": 13,
      "outputs": [
        {
          "output_type": "stream",
          "text": [
            "CPU times: user 162 ms, sys: 320 µs, total: 162 ms\n",
            "Wall time: 162 ms\n"
          ],
          "name": "stdout"
        }
      ]
    },
    {
      "cell_type": "markdown",
      "metadata": {
        "collapsed": true,
        "id": "lC5ZJdTSpAQW"
      },
      "source": [
        "## Add gene set nodes and associated genes as edges\n",
        "\n",
        "Add each MSigDB collection as distinct nodes with a `participates` edge for representative gene sets and corresponding membership."
      ]
    },
    {
      "cell_type": "code",
      "metadata": {
        "id": "iGJObN-5pAQW"
      },
      "source": [
        "def add_node_to_graph(current_graph, collection_file, collection_kind,\n",
        "                      collection_source, gene_list, min_geneset_size=4,\n",
        "                      max_geneset_size=1000, license='CC BY 4.0'):\n",
        "    \"\"\"\n",
        "    Add nodes and edges to current graph based on geneset memembership of collection\n",
        "    \n",
        "    Arguments:\n",
        "    current_graph - a hetnet object to add node-edge info to\n",
        "    collection_file - location of msigdb file\n",
        "    collection_kind - the kind of node already initialized in the graph\n",
        "    collection_source - alternative ID for collection\n",
        "    gene_list - a list of genes to consider when building the graph\n",
        "    min_geneset_size - filter out a given gene set if it has fewer genes\n",
        "    max_geneset_size - filter out a given gene set if it has more genes\n",
        "    license - given license associated with node\n",
        "    \n",
        "    Output:\n",
        "    Adds to current graph; Returns the amount of filtered genesets\n",
        "    \"\"\"\n",
        "    \n",
        "    # Build meta data dictionary to store node info\n",
        "    meta_data = {'license': license, 'source': collection_source}\n",
        "    \n",
        "    # Open the .gmt file and process each geneset\n",
        "    filtered_genesets = []\n",
        "    with open(collection_file, 'r') as collection_fh:\n",
        "        collection_reader = csv.reader(collection_fh, delimiter='\\t')\n",
        "\n",
        "        for row in collection_reader:\n",
        "            # Get geneset and and metadata info\n",
        "            geneset_name = row[0]\n",
        "            meta_data['url'] = row[1]\n",
        "            \n",
        "            # Process geneset membership\n",
        "            genes = row[2:]\n",
        "\n",
        "            # Update entrez_gene_id\n",
        "            genes = set(old_to_new_entrez[x] if x in old_to_new_entrez else x for x in genes)\n",
        "            \n",
        "            # The genes must exist in curated resource\n",
        "            genes = [int(x) for x in genes if int(x) in gene_list]\n",
        "\n",
        "            # Filter geneset if its too big or small\n",
        "            if min_geneset_size > len(genes) or len(genes) > max_geneset_size:\n",
        "                filtered_genesets.append(geneset_name)\n",
        "                continue\n",
        "                \n",
        "            # Add the genesetname as a node (based on collection) to the graph\n",
        "            current_graph.add_node(kind=collection_kind,\n",
        "                                   identifier=geneset_name,\n",
        "                                   data=meta_data)\n",
        "            # Loop through all genes and add to the graph it should be considered\n",
        "            for gene in genes:\n",
        "                source_id = ('Gene', gene)\n",
        "                target_id = (collection_kind, geneset_name)\n",
        "                edge_data = meta_data.copy()\n",
        "                current_graph.add_edge(source_id, target_id, 'participates',\n",
        "                                       'both', edge_data)\n",
        "\n",
        "    return filtered_genesets"
      ],
      "execution_count": 14,
      "outputs": []
    },
    {
      "cell_type": "code",
      "metadata": {
        "id": "hap8kSeEpAQW"
      },
      "source": [
        "hetnet_build = {\n",
        "    # Format: `Collection Source`: [`Collection File`, `Collection Kind`]\n",
        "\n",
        "    # MSigDB\n",
        "    'MSigDB-H': ['h.all.v6.1.entrez.gmt', 'Hallmarks'],\n",
        "    'MSigDB-C1': ['c1.all.v6.1.entrez.gmt', 'Positional-Gene-Sets'],\n",
        "    'MSigDB-C2-CPG': ['c2.cgp.v6.1.entrez.gmt', 'Curated-Gene-Sets-CPG'],\n",
        "    'MSigDB-C2-Reactome': ['c2.cp.reactome.v6.1.entrez.gmt', 'Curated-Gene-Sets-REACTOME'],\n",
        "    'MSigDB-C3-MIR': ['c3.mir.v6.1.entrez.gmt', 'Motif-Gene-Sets-MIR'],\n",
        "    'MSigDB-C3-TFT': ['c3.tft.v6.1.entrez.gmt', 'Motif-Gene-Sets-TFT'],\n",
        "    'MSigDB-C4-CGN': ['c4.cgn.v6.1.entrez.gmt', 'Computational-Gene-Sets-CGN'],\n",
        "    'MSigDB-C4-CM': ['c4.cm.v6.1.entrez.gmt', 'Computational-Gene-Sets-CM'],\n",
        "    'MSigDB-C5-BP': ['c5.bp.v6.1.entrez.gmt', 'GO-Gene-Sets-BP'],\n",
        "    'MSigDB-C5-CC': ['c5.cc.v6.1.entrez.gmt', 'GO-Gene-Sets-CC'],\n",
        "    'MSigDB-C5-MF': ['c5.mf.v6.1.entrez.gmt', 'GO-Gene-Sets-MF'],\n",
        "    'MSigDB-C6': ['c6.all.v6.1.entrez.gmt', 'Oncogenic-Gene-Sets'],\n",
        "    'MSigDB-C7': ['c7.all.v6.1.entrez.gmt', 'Immunologic-Gene-Sets'],\n",
        "    \n",
        "    # xCell\n",
        "    'xCell-X': ['xcell_all_entrez.gmt', 'xCell-Cell-Type'],\n",
        "\n",
        "}"
      ],
      "execution_count": 15,
      "outputs": []
    },
    {
      "cell_type": "code",
      "metadata": {
        "colab": {
          "base_uri": "https://localhost:8080/"
        },
        "id": "udIGgqjppAQX",
        "outputId": "0b957a03-26e3-4ebc-da39-a57e808b2f76"
      },
      "source": [
        "%%time\n",
        "# Add all collections genesets to hetnet\n",
        "filtered = {}\n",
        "for collection_source, collection_info in hetnet_build.items():\n",
        "    print(collection_source)\n",
        "    path, collection_kind = collection_info\n",
        "    collection_file = os.path.join('/content/drive/MyDrive/aacb_project/data', path)\n",
        "    filtered[collection_kind] = add_node_to_graph(current_graph=graph,\n",
        "                                                  collection_file=collection_file,\n",
        "                                                  collection_kind=collection_kind,\n",
        "                                                  collection_source=collection_source,\n",
        "                                                  gene_list=present)\n",
        "# The change here being gene_list = present\n",
        "# from gene_list=coding_genes"
      ],
      "execution_count": 16,
      "outputs": [
        {
          "output_type": "stream",
          "text": [
            "MSigDB-H\n",
            "MSigDB-C1\n",
            "MSigDB-C2-CPG\n",
            "MSigDB-C2-Reactome\n",
            "MSigDB-C3-MIR\n",
            "MSigDB-C3-TFT\n",
            "MSigDB-C4-CGN\n",
            "MSigDB-C4-CM\n",
            "MSigDB-C5-BP\n",
            "MSigDB-C5-CC\n",
            "MSigDB-C5-MF\n",
            "MSigDB-C6\n",
            "MSigDB-C7\n",
            "xCell-X\n",
            "CPU times: user 36.1 s, sys: 143 ms, total: 36.3 s\n",
            "Wall time: 36.9 s\n"
          ],
          "name": "stdout"
        }
      ]
    },
    {
      "cell_type": "markdown",
      "metadata": {
        "id": "BPEVSY34pAQY"
      },
      "source": [
        "## Network visualizations and stats"
      ]
    },
    {
      "cell_type": "code",
      "metadata": {
        "id": "jGhLzindpAQY"
      },
      "source": [
        "# Export node degree tables\n",
        "node_degree_file = os.path.join('/content/drive/MyDrive/aacb_project/results', 'interpret_node_degrees.xlsx')\n",
        "hetio.stats.degrees_to_excel(graph, node_degree_file)"
      ],
      "execution_count": 18,
      "outputs": []
    },
    {
      "cell_type": "code",
      "metadata": {
        "colab": {
          "base_uri": "https://localhost:8080/",
          "height": 520
        },
        "id": "mHAwW6XrpAQZ",
        "outputId": "10b5217e-df47-4bba-f8b5-3a4bda493614"
      },
      "source": [
        "# Summary of metanodes and cooresponding nodes\n",
        "metanode_df = hetio.stats.get_metanode_df(graph)\n",
        "\n",
        "metanode_file = os.path.join('/content/drive/MyDrive/aacb_project/results', 'interpret_metanode_summary.tsv')\n",
        "metanode_df.to_csv(metanode_file, sep='\\t', index=False)\n",
        "metanode_df"
      ],
      "execution_count": 20,
      "outputs": [
        {
          "output_type": "execute_result",
          "data": {
            "text/html": [
              "<div>\n",
              "<style scoped>\n",
              "    .dataframe tbody tr th:only-of-type {\n",
              "        vertical-align: middle;\n",
              "    }\n",
              "\n",
              "    .dataframe tbody tr th {\n",
              "        vertical-align: top;\n",
              "    }\n",
              "\n",
              "    .dataframe thead th {\n",
              "        text-align: right;\n",
              "    }\n",
              "</style>\n",
              "<table border=\"1\" class=\"dataframe\">\n",
              "  <thead>\n",
              "    <tr style=\"text-align: right;\">\n",
              "      <th></th>\n",
              "      <th>metanode</th>\n",
              "      <th>abbreviation</th>\n",
              "      <th>metaedges</th>\n",
              "      <th>nodes</th>\n",
              "      <th>unconnected_nodes</th>\n",
              "    </tr>\n",
              "  </thead>\n",
              "  <tbody>\n",
              "    <tr>\n",
              "      <th>7</th>\n",
              "      <td>Computational-Gene-Sets-CGN</td>\n",
              "      <td>C4CGN</td>\n",
              "      <td>1</td>\n",
              "      <td>338</td>\n",
              "      <td>0</td>\n",
              "    </tr>\n",
              "    <tr>\n",
              "      <th>8</th>\n",
              "      <td>Computational-Gene-Sets-CM</td>\n",
              "      <td>C4CM</td>\n",
              "      <td>1</td>\n",
              "      <td>238</td>\n",
              "      <td>0</td>\n",
              "    </tr>\n",
              "    <tr>\n",
              "      <th>3</th>\n",
              "      <td>Curated-Gene-Sets-CPG</td>\n",
              "      <td>C2CPG</td>\n",
              "      <td>1</td>\n",
              "      <td>1937</td>\n",
              "      <td>0</td>\n",
              "    </tr>\n",
              "    <tr>\n",
              "      <th>4</th>\n",
              "      <td>Curated-Gene-Sets-REACTOME</td>\n",
              "      <td>C2CPREACTOME</td>\n",
              "      <td>1</td>\n",
              "      <td>284</td>\n",
              "      <td>0</td>\n",
              "    </tr>\n",
              "    <tr>\n",
              "      <th>9</th>\n",
              "      <td>GO-Gene-Sets-BP</td>\n",
              "      <td>C5BP</td>\n",
              "      <td>1</td>\n",
              "      <td>2207</td>\n",
              "      <td>0</td>\n",
              "    </tr>\n",
              "    <tr>\n",
              "      <th>10</th>\n",
              "      <td>GO-Gene-Sets-CC</td>\n",
              "      <td>C5CC</td>\n",
              "      <td>1</td>\n",
              "      <td>314</td>\n",
              "      <td>0</td>\n",
              "    </tr>\n",
              "    <tr>\n",
              "      <th>11</th>\n",
              "      <td>GO-Gene-Sets-MF</td>\n",
              "      <td>C5MF</td>\n",
              "      <td>1</td>\n",
              "      <td>414</td>\n",
              "      <td>0</td>\n",
              "    </tr>\n",
              "    <tr>\n",
              "      <th>0</th>\n",
              "      <td>Gene</td>\n",
              "      <td>G</td>\n",
              "      <td>14</td>\n",
              "      <td>1335</td>\n",
              "      <td>0</td>\n",
              "    </tr>\n",
              "    <tr>\n",
              "      <th>1</th>\n",
              "      <td>Hallmarks</td>\n",
              "      <td>H</td>\n",
              "      <td>1</td>\n",
              "      <td>45</td>\n",
              "      <td>0</td>\n",
              "    </tr>\n",
              "    <tr>\n",
              "      <th>13</th>\n",
              "      <td>Immunologic-Gene-Sets</td>\n",
              "      <td>C7</td>\n",
              "      <td>1</td>\n",
              "      <td>4868</td>\n",
              "      <td>0</td>\n",
              "    </tr>\n",
              "    <tr>\n",
              "      <th>5</th>\n",
              "      <td>Motif-Gene-Sets-MIR</td>\n",
              "      <td>C3MIR</td>\n",
              "      <td>1</td>\n",
              "      <td>194</td>\n",
              "      <td>0</td>\n",
              "    </tr>\n",
              "    <tr>\n",
              "      <th>6</th>\n",
              "      <td>Motif-Gene-Sets-TFT</td>\n",
              "      <td>C3TFT</td>\n",
              "      <td>1</td>\n",
              "      <td>596</td>\n",
              "      <td>0</td>\n",
              "    </tr>\n",
              "    <tr>\n",
              "      <th>12</th>\n",
              "      <td>Oncogenic-Gene-Sets</td>\n",
              "      <td>C6</td>\n",
              "      <td>1</td>\n",
              "      <td>182</td>\n",
              "      <td>0</td>\n",
              "    </tr>\n",
              "    <tr>\n",
              "      <th>2</th>\n",
              "      <td>Positional-Gene-Sets</td>\n",
              "      <td>C1</td>\n",
              "      <td>1</td>\n",
              "      <td>92</td>\n",
              "      <td>0</td>\n",
              "    </tr>\n",
              "    <tr>\n",
              "      <th>14</th>\n",
              "      <td>xCell-Cell-Type</td>\n",
              "      <td>XCELL</td>\n",
              "      <td>1</td>\n",
              "      <td>170</td>\n",
              "      <td>0</td>\n",
              "    </tr>\n",
              "  </tbody>\n",
              "</table>\n",
              "</div>"
            ],
            "text/plain": [
              "                       metanode  abbreviation  ...  nodes  unconnected_nodes\n",
              "7   Computational-Gene-Sets-CGN         C4CGN  ...    338                  0\n",
              "8    Computational-Gene-Sets-CM          C4CM  ...    238                  0\n",
              "3         Curated-Gene-Sets-CPG         C2CPG  ...   1937                  0\n",
              "4    Curated-Gene-Sets-REACTOME  C2CPREACTOME  ...    284                  0\n",
              "9               GO-Gene-Sets-BP          C5BP  ...   2207                  0\n",
              "10              GO-Gene-Sets-CC          C5CC  ...    314                  0\n",
              "11              GO-Gene-Sets-MF          C5MF  ...    414                  0\n",
              "0                          Gene             G  ...   1335                  0\n",
              "1                     Hallmarks             H  ...     45                  0\n",
              "13        Immunologic-Gene-Sets            C7  ...   4868                  0\n",
              "5           Motif-Gene-Sets-MIR         C3MIR  ...    194                  0\n",
              "6           Motif-Gene-Sets-TFT         C3TFT  ...    596                  0\n",
              "12          Oncogenic-Gene-Sets            C6  ...    182                  0\n",
              "2          Positional-Gene-Sets            C1  ...     92                  0\n",
              "14              xCell-Cell-Type         XCELL  ...    170                  0\n",
              "\n",
              "[15 rows x 5 columns]"
            ]
          },
          "metadata": {
            "tags": []
          },
          "execution_count": 20
        }
      ]
    },
    {
      "cell_type": "code",
      "metadata": {
        "colab": {
          "base_uri": "https://localhost:8080/",
          "height": 520
        },
        "id": "t5rfr7bypAQZ",
        "outputId": "d7d3de13-3cad-4707-f11f-c826da7fcc9d"
      },
      "source": [
        "# Summary of metaedges and cooresponding edges\n",
        "metaedge_df = hetio.stats.get_metaedge_df(graph)\n",
        "\n",
        "rows = list()\n",
        "for metaedge, edges in graph.get_metaedge_to_edges(exclude_inverts=True).items():\n",
        "    rows.append({'metaedge': str(metaedge)})\n",
        "\n",
        "metaedge_file = os.path.join('/content/drive/MyDrive/aacb_project/results', 'interpret_metaedges.tsv')\n",
        "metaedge_df = metaedge_df.merge(pd.DataFrame(rows))\n",
        "\n",
        "sum_total = metaedge_df.sum()\n",
        "sum_total.metaedge = 'Total'\n",
        "sum_total.abbreviation = ''\n",
        "\n",
        "metaedge_df = (\n",
        "    pd.concat([metaedge_df.T, sum_total], axis='columns')\n",
        "    .transpose()\n",
        "    .reset_index(drop=True)\n",
        ")\n",
        "# Number of edges in the network\n",
        "metaedge_df.edges.sum()\n",
        "\n",
        "metaedge_df.to_csv(metaedge_file, sep='\\t', index=False)\n",
        "metaedge_df"
      ],
      "execution_count": 22,
      "outputs": [
        {
          "output_type": "execute_result",
          "data": {
            "text/html": [
              "<div>\n",
              "<style scoped>\n",
              "    .dataframe tbody tr th:only-of-type {\n",
              "        vertical-align: middle;\n",
              "    }\n",
              "\n",
              "    .dataframe tbody tr th {\n",
              "        vertical-align: top;\n",
              "    }\n",
              "\n",
              "    .dataframe thead th {\n",
              "        text-align: right;\n",
              "    }\n",
              "</style>\n",
              "<table border=\"1\" class=\"dataframe\">\n",
              "  <thead>\n",
              "    <tr style=\"text-align: right;\">\n",
              "      <th></th>\n",
              "      <th>metaedge</th>\n",
              "      <th>abbreviation</th>\n",
              "      <th>edges</th>\n",
              "      <th>source_nodes</th>\n",
              "      <th>target_nodes</th>\n",
              "    </tr>\n",
              "  </thead>\n",
              "  <tbody>\n",
              "    <tr>\n",
              "      <th>0</th>\n",
              "      <td>Gene - participates - Computational-Gene-Sets-CGN</td>\n",
              "      <td>GpC4CGN</td>\n",
              "      <td>4909</td>\n",
              "      <td>492</td>\n",
              "      <td>338</td>\n",
              "    </tr>\n",
              "    <tr>\n",
              "      <th>1</th>\n",
              "      <td>Gene - participates - Computational-Gene-Sets-CM</td>\n",
              "      <td>GpC4CM</td>\n",
              "      <td>4043</td>\n",
              "      <td>766</td>\n",
              "      <td>238</td>\n",
              "    </tr>\n",
              "    <tr>\n",
              "      <th>2</th>\n",
              "      <td>Gene - participates - Curated-Gene-Sets-CPG</td>\n",
              "      <td>GpC2CPG</td>\n",
              "      <td>35712</td>\n",
              "      <td>1333</td>\n",
              "      <td>1937</td>\n",
              "    </tr>\n",
              "    <tr>\n",
              "      <th>3</th>\n",
              "      <td>Gene - participates - Curated-Gene-Sets-REACTOME</td>\n",
              "      <td>GpC2CPREACTOME</td>\n",
              "      <td>2884</td>\n",
              "      <td>492</td>\n",
              "      <td>284</td>\n",
              "    </tr>\n",
              "    <tr>\n",
              "      <th>4</th>\n",
              "      <td>Gene - participates - GO-Gene-Sets-BP</td>\n",
              "      <td>GpC5BP</td>\n",
              "      <td>43739</td>\n",
              "      <td>1216</td>\n",
              "      <td>2207</td>\n",
              "    </tr>\n",
              "    <tr>\n",
              "      <th>5</th>\n",
              "      <td>Gene - participates - GO-Gene-Sets-CC</td>\n",
              "      <td>GpC5CC</td>\n",
              "      <td>7960</td>\n",
              "      <td>1004</td>\n",
              "      <td>314</td>\n",
              "    </tr>\n",
              "    <tr>\n",
              "      <th>6</th>\n",
              "      <td>Gene - participates - GO-Gene-Sets-MF</td>\n",
              "      <td>GpC5MF</td>\n",
              "      <td>7963</td>\n",
              "      <td>1129</td>\n",
              "      <td>414</td>\n",
              "    </tr>\n",
              "    <tr>\n",
              "      <th>7</th>\n",
              "      <td>Gene - participates - Hallmarks</td>\n",
              "      <td>GpH</td>\n",
              "      <td>718</td>\n",
              "      <td>449</td>\n",
              "      <td>45</td>\n",
              "    </tr>\n",
              "    <tr>\n",
              "      <th>8</th>\n",
              "      <td>Gene - participates - Immunologic-Gene-Sets</td>\n",
              "      <td>GpC7</td>\n",
              "      <td>88785</td>\n",
              "      <td>1334</td>\n",
              "      <td>4868</td>\n",
              "    </tr>\n",
              "    <tr>\n",
              "      <th>9</th>\n",
              "      <td>Gene - participates - Motif-Gene-Sets-MIR</td>\n",
              "      <td>GpC3MIR</td>\n",
              "      <td>4143</td>\n",
              "      <td>741</td>\n",
              "      <td>194</td>\n",
              "    </tr>\n",
              "    <tr>\n",
              "      <th>10</th>\n",
              "      <td>Gene - participates - Motif-Gene-Sets-TFT</td>\n",
              "      <td>GpC3TFT</td>\n",
              "      <td>17344</td>\n",
              "      <td>1065</td>\n",
              "      <td>596</td>\n",
              "    </tr>\n",
              "    <tr>\n",
              "      <th>11</th>\n",
              "      <td>Gene - participates - Oncogenic-Gene-Sets</td>\n",
              "      <td>GpC6</td>\n",
              "      <td>2836</td>\n",
              "      <td>963</td>\n",
              "      <td>182</td>\n",
              "    </tr>\n",
              "    <tr>\n",
              "      <th>12</th>\n",
              "      <td>Gene - participates - Positional-Gene-Sets</td>\n",
              "      <td>GpC1</td>\n",
              "      <td>1277</td>\n",
              "      <td>1267</td>\n",
              "      <td>92</td>\n",
              "    </tr>\n",
              "    <tr>\n",
              "      <th>13</th>\n",
              "      <td>Gene - participates - xCell-Cell-Type</td>\n",
              "      <td>GpXCELL</td>\n",
              "      <td>1771</td>\n",
              "      <td>516</td>\n",
              "      <td>170</td>\n",
              "    </tr>\n",
              "    <tr>\n",
              "      <th>14</th>\n",
              "      <td>Total</td>\n",
              "      <td></td>\n",
              "      <td>224084</td>\n",
              "      <td>12767</td>\n",
              "      <td>11879</td>\n",
              "    </tr>\n",
              "  </tbody>\n",
              "</table>\n",
              "</div>"
            ],
            "text/plain": [
              "                                             metaedge  ... target_nodes\n",
              "0   Gene - participates - Computational-Gene-Sets-CGN  ...          338\n",
              "1    Gene - participates - Computational-Gene-Sets-CM  ...          238\n",
              "2         Gene - participates - Curated-Gene-Sets-CPG  ...         1937\n",
              "3    Gene - participates - Curated-Gene-Sets-REACTOME  ...          284\n",
              "4               Gene - participates - GO-Gene-Sets-BP  ...         2207\n",
              "5               Gene - participates - GO-Gene-Sets-CC  ...          314\n",
              "6               Gene - participates - GO-Gene-Sets-MF  ...          414\n",
              "7                     Gene - participates - Hallmarks  ...           45\n",
              "8         Gene - participates - Immunologic-Gene-Sets  ...         4868\n",
              "9           Gene - participates - Motif-Gene-Sets-MIR  ...          194\n",
              "10          Gene - participates - Motif-Gene-Sets-TFT  ...          596\n",
              "11          Gene - participates - Oncogenic-Gene-Sets  ...          182\n",
              "12         Gene - participates - Positional-Gene-Sets  ...           92\n",
              "13              Gene - participates - xCell-Cell-Type  ...          170\n",
              "14                                              Total  ...        11879\n",
              "\n",
              "[15 rows x 5 columns]"
            ]
          },
          "metadata": {
            "tags": []
          },
          "execution_count": 22
        }
      ]
    },
    {
      "cell_type": "code",
      "metadata": {
        "colab": {
          "base_uri": "https://localhost:8080/",
          "height": 1000
        },
        "id": "9XHn74AypAQZ",
        "outputId": "0c7b93a9-9d70-4bf3-ddcd-c97797b085b1"
      },
      "source": [
        "# Summary of different styles for representing each metaedge\n",
        "metaedge_style_file = os.path.join('/content/drive/MyDrive/aacb_project/results', 'interpret_metaedge_styles.tsv')\n",
        "metaedge_style_df = hetio.stats.get_metaedge_style_df(metagraph)\n",
        "metaedge_style_df.to_csv(metaedge_style_file, sep='\\t', index=False)\n",
        "metaedge_style_df"
      ],
      "execution_count": 23,
      "outputs": [
        {
          "output_type": "execute_result",
          "data": {
            "text/html": [
              "<div>\n",
              "<style scoped>\n",
              "    .dataframe tbody tr th:only-of-type {\n",
              "        vertical-align: middle;\n",
              "    }\n",
              "\n",
              "    .dataframe tbody tr th {\n",
              "        vertical-align: top;\n",
              "    }\n",
              "\n",
              "    .dataframe thead th {\n",
              "        text-align: right;\n",
              "    }\n",
              "</style>\n",
              "<table border=\"1\" class=\"dataframe\">\n",
              "  <thead>\n",
              "    <tr style=\"text-align: right;\">\n",
              "      <th></th>\n",
              "      <th>metaedge</th>\n",
              "      <th>unicode_metaedge</th>\n",
              "      <th>standard_metaedge</th>\n",
              "      <th>abbreviation</th>\n",
              "      <th>standard_abbreviation</th>\n",
              "      <th>source</th>\n",
              "      <th>target</th>\n",
              "      <th>inverted</th>\n",
              "    </tr>\n",
              "  </thead>\n",
              "  <tbody>\n",
              "    <tr>\n",
              "      <th>13</th>\n",
              "      <td>Computational-Gene-Sets-CGN - participates - Gene</td>\n",
              "      <td>Computational-Gene-Sets-CGN–participates–Gene</td>\n",
              "      <td>Gene - participates - Computational-Gene-Sets-CGN</td>\n",
              "      <td>C4CGNpG</td>\n",
              "      <td>GpC4CGN</td>\n",
              "      <td>Computational-Gene-Sets-CGN</td>\n",
              "      <td>Gene</td>\n",
              "      <td>1</td>\n",
              "    </tr>\n",
              "    <tr>\n",
              "      <th>15</th>\n",
              "      <td>Computational-Gene-Sets-CM - participates - Gene</td>\n",
              "      <td>Computational-Gene-Sets-CM–participates–Gene</td>\n",
              "      <td>Gene - participates - Computational-Gene-Sets-CM</td>\n",
              "      <td>C4CMpG</td>\n",
              "      <td>GpC4CM</td>\n",
              "      <td>Computational-Gene-Sets-CM</td>\n",
              "      <td>Gene</td>\n",
              "      <td>1</td>\n",
              "    </tr>\n",
              "    <tr>\n",
              "      <th>5</th>\n",
              "      <td>Curated-Gene-Sets-CPG - participates - Gene</td>\n",
              "      <td>Curated-Gene-Sets-CPG–participates–Gene</td>\n",
              "      <td>Gene - participates - Curated-Gene-Sets-CPG</td>\n",
              "      <td>C2CPGpG</td>\n",
              "      <td>GpC2CPG</td>\n",
              "      <td>Curated-Gene-Sets-CPG</td>\n",
              "      <td>Gene</td>\n",
              "      <td>1</td>\n",
              "    </tr>\n",
              "    <tr>\n",
              "      <th>7</th>\n",
              "      <td>Curated-Gene-Sets-REACTOME - participates - Gene</td>\n",
              "      <td>Curated-Gene-Sets-REACTOME–participates–Gene</td>\n",
              "      <td>Gene - participates - Curated-Gene-Sets-REACTOME</td>\n",
              "      <td>C2CPREACTOMEpG</td>\n",
              "      <td>GpC2CPREACTOME</td>\n",
              "      <td>Curated-Gene-Sets-REACTOME</td>\n",
              "      <td>Gene</td>\n",
              "      <td>1</td>\n",
              "    </tr>\n",
              "    <tr>\n",
              "      <th>17</th>\n",
              "      <td>GO-Gene-Sets-BP - participates - Gene</td>\n",
              "      <td>GO-Gene-Sets-BP–participates–Gene</td>\n",
              "      <td>Gene - participates - GO-Gene-Sets-BP</td>\n",
              "      <td>C5BPpG</td>\n",
              "      <td>GpC5BP</td>\n",
              "      <td>GO-Gene-Sets-BP</td>\n",
              "      <td>Gene</td>\n",
              "      <td>1</td>\n",
              "    </tr>\n",
              "    <tr>\n",
              "      <th>19</th>\n",
              "      <td>GO-Gene-Sets-CC - participates - Gene</td>\n",
              "      <td>GO-Gene-Sets-CC–participates–Gene</td>\n",
              "      <td>Gene - participates - GO-Gene-Sets-CC</td>\n",
              "      <td>C5CCpG</td>\n",
              "      <td>GpC5CC</td>\n",
              "      <td>GO-Gene-Sets-CC</td>\n",
              "      <td>Gene</td>\n",
              "      <td>1</td>\n",
              "    </tr>\n",
              "    <tr>\n",
              "      <th>21</th>\n",
              "      <td>GO-Gene-Sets-MF - participates - Gene</td>\n",
              "      <td>GO-Gene-Sets-MF–participates–Gene</td>\n",
              "      <td>Gene - participates - GO-Gene-Sets-MF</td>\n",
              "      <td>C5MFpG</td>\n",
              "      <td>GpC5MF</td>\n",
              "      <td>GO-Gene-Sets-MF</td>\n",
              "      <td>Gene</td>\n",
              "      <td>1</td>\n",
              "    </tr>\n",
              "    <tr>\n",
              "      <th>12</th>\n",
              "      <td>Gene - participates - Computational-Gene-Sets-CGN</td>\n",
              "      <td>Gene–participates–Computational-Gene-Sets-CGN</td>\n",
              "      <td>Gene - participates - Computational-Gene-Sets-CGN</td>\n",
              "      <td>GpC4CGN</td>\n",
              "      <td>GpC4CGN</td>\n",
              "      <td>Gene</td>\n",
              "      <td>Computational-Gene-Sets-CGN</td>\n",
              "      <td>0</td>\n",
              "    </tr>\n",
              "    <tr>\n",
              "      <th>14</th>\n",
              "      <td>Gene - participates - Computational-Gene-Sets-CM</td>\n",
              "      <td>Gene–participates–Computational-Gene-Sets-CM</td>\n",
              "      <td>Gene - participates - Computational-Gene-Sets-CM</td>\n",
              "      <td>GpC4CM</td>\n",
              "      <td>GpC4CM</td>\n",
              "      <td>Gene</td>\n",
              "      <td>Computational-Gene-Sets-CM</td>\n",
              "      <td>0</td>\n",
              "    </tr>\n",
              "    <tr>\n",
              "      <th>4</th>\n",
              "      <td>Gene - participates - Curated-Gene-Sets-CPG</td>\n",
              "      <td>Gene–participates–Curated-Gene-Sets-CPG</td>\n",
              "      <td>Gene - participates - Curated-Gene-Sets-CPG</td>\n",
              "      <td>GpC2CPG</td>\n",
              "      <td>GpC2CPG</td>\n",
              "      <td>Gene</td>\n",
              "      <td>Curated-Gene-Sets-CPG</td>\n",
              "      <td>0</td>\n",
              "    </tr>\n",
              "    <tr>\n",
              "      <th>6</th>\n",
              "      <td>Gene - participates - Curated-Gene-Sets-REACTOME</td>\n",
              "      <td>Gene–participates–Curated-Gene-Sets-REACTOME</td>\n",
              "      <td>Gene - participates - Curated-Gene-Sets-REACTOME</td>\n",
              "      <td>GpC2CPREACTOME</td>\n",
              "      <td>GpC2CPREACTOME</td>\n",
              "      <td>Gene</td>\n",
              "      <td>Curated-Gene-Sets-REACTOME</td>\n",
              "      <td>0</td>\n",
              "    </tr>\n",
              "    <tr>\n",
              "      <th>16</th>\n",
              "      <td>Gene - participates - GO-Gene-Sets-BP</td>\n",
              "      <td>Gene–participates–GO-Gene-Sets-BP</td>\n",
              "      <td>Gene - participates - GO-Gene-Sets-BP</td>\n",
              "      <td>GpC5BP</td>\n",
              "      <td>GpC5BP</td>\n",
              "      <td>Gene</td>\n",
              "      <td>GO-Gene-Sets-BP</td>\n",
              "      <td>0</td>\n",
              "    </tr>\n",
              "    <tr>\n",
              "      <th>18</th>\n",
              "      <td>Gene - participates - GO-Gene-Sets-CC</td>\n",
              "      <td>Gene–participates–GO-Gene-Sets-CC</td>\n",
              "      <td>Gene - participates - GO-Gene-Sets-CC</td>\n",
              "      <td>GpC5CC</td>\n",
              "      <td>GpC5CC</td>\n",
              "      <td>Gene</td>\n",
              "      <td>GO-Gene-Sets-CC</td>\n",
              "      <td>0</td>\n",
              "    </tr>\n",
              "    <tr>\n",
              "      <th>20</th>\n",
              "      <td>Gene - participates - GO-Gene-Sets-MF</td>\n",
              "      <td>Gene–participates–GO-Gene-Sets-MF</td>\n",
              "      <td>Gene - participates - GO-Gene-Sets-MF</td>\n",
              "      <td>GpC5MF</td>\n",
              "      <td>GpC5MF</td>\n",
              "      <td>Gene</td>\n",
              "      <td>GO-Gene-Sets-MF</td>\n",
              "      <td>0</td>\n",
              "    </tr>\n",
              "    <tr>\n",
              "      <th>0</th>\n",
              "      <td>Gene - participates - Hallmarks</td>\n",
              "      <td>Gene–participates–Hallmarks</td>\n",
              "      <td>Gene - participates - Hallmarks</td>\n",
              "      <td>GpH</td>\n",
              "      <td>GpH</td>\n",
              "      <td>Gene</td>\n",
              "      <td>Hallmarks</td>\n",
              "      <td>0</td>\n",
              "    </tr>\n",
              "    <tr>\n",
              "      <th>24</th>\n",
              "      <td>Gene - participates - Immunologic-Gene-Sets</td>\n",
              "      <td>Gene–participates–Immunologic-Gene-Sets</td>\n",
              "      <td>Gene - participates - Immunologic-Gene-Sets</td>\n",
              "      <td>GpC7</td>\n",
              "      <td>GpC7</td>\n",
              "      <td>Gene</td>\n",
              "      <td>Immunologic-Gene-Sets</td>\n",
              "      <td>0</td>\n",
              "    </tr>\n",
              "    <tr>\n",
              "      <th>8</th>\n",
              "      <td>Gene - participates - Motif-Gene-Sets-MIR</td>\n",
              "      <td>Gene–participates–Motif-Gene-Sets-MIR</td>\n",
              "      <td>Gene - participates - Motif-Gene-Sets-MIR</td>\n",
              "      <td>GpC3MIR</td>\n",
              "      <td>GpC3MIR</td>\n",
              "      <td>Gene</td>\n",
              "      <td>Motif-Gene-Sets-MIR</td>\n",
              "      <td>0</td>\n",
              "    </tr>\n",
              "    <tr>\n",
              "      <th>10</th>\n",
              "      <td>Gene - participates - Motif-Gene-Sets-TFT</td>\n",
              "      <td>Gene–participates–Motif-Gene-Sets-TFT</td>\n",
              "      <td>Gene - participates - Motif-Gene-Sets-TFT</td>\n",
              "      <td>GpC3TFT</td>\n",
              "      <td>GpC3TFT</td>\n",
              "      <td>Gene</td>\n",
              "      <td>Motif-Gene-Sets-TFT</td>\n",
              "      <td>0</td>\n",
              "    </tr>\n",
              "    <tr>\n",
              "      <th>22</th>\n",
              "      <td>Gene - participates - Oncogenic-Gene-Sets</td>\n",
              "      <td>Gene–participates–Oncogenic-Gene-Sets</td>\n",
              "      <td>Gene - participates - Oncogenic-Gene-Sets</td>\n",
              "      <td>GpC6</td>\n",
              "      <td>GpC6</td>\n",
              "      <td>Gene</td>\n",
              "      <td>Oncogenic-Gene-Sets</td>\n",
              "      <td>0</td>\n",
              "    </tr>\n",
              "    <tr>\n",
              "      <th>2</th>\n",
              "      <td>Gene - participates - Positional-Gene-Sets</td>\n",
              "      <td>Gene–participates–Positional-Gene-Sets</td>\n",
              "      <td>Gene - participates - Positional-Gene-Sets</td>\n",
              "      <td>GpC1</td>\n",
              "      <td>GpC1</td>\n",
              "      <td>Gene</td>\n",
              "      <td>Positional-Gene-Sets</td>\n",
              "      <td>0</td>\n",
              "    </tr>\n",
              "    <tr>\n",
              "      <th>26</th>\n",
              "      <td>Gene - participates - xCell-Cell-Type</td>\n",
              "      <td>Gene–participates–xCell-Cell-Type</td>\n",
              "      <td>Gene - participates - xCell-Cell-Type</td>\n",
              "      <td>GpXCELL</td>\n",
              "      <td>GpXCELL</td>\n",
              "      <td>Gene</td>\n",
              "      <td>xCell-Cell-Type</td>\n",
              "      <td>0</td>\n",
              "    </tr>\n",
              "    <tr>\n",
              "      <th>1</th>\n",
              "      <td>Hallmarks - participates - Gene</td>\n",
              "      <td>Hallmarks–participates–Gene</td>\n",
              "      <td>Gene - participates - Hallmarks</td>\n",
              "      <td>HpG</td>\n",
              "      <td>GpH</td>\n",
              "      <td>Hallmarks</td>\n",
              "      <td>Gene</td>\n",
              "      <td>1</td>\n",
              "    </tr>\n",
              "    <tr>\n",
              "      <th>25</th>\n",
              "      <td>Immunologic-Gene-Sets - participates - Gene</td>\n",
              "      <td>Immunologic-Gene-Sets–participates–Gene</td>\n",
              "      <td>Gene - participates - Immunologic-Gene-Sets</td>\n",
              "      <td>C7pG</td>\n",
              "      <td>GpC7</td>\n",
              "      <td>Immunologic-Gene-Sets</td>\n",
              "      <td>Gene</td>\n",
              "      <td>1</td>\n",
              "    </tr>\n",
              "    <tr>\n",
              "      <th>9</th>\n",
              "      <td>Motif-Gene-Sets-MIR - participates - Gene</td>\n",
              "      <td>Motif-Gene-Sets-MIR–participates–Gene</td>\n",
              "      <td>Gene - participates - Motif-Gene-Sets-MIR</td>\n",
              "      <td>C3MIRpG</td>\n",
              "      <td>GpC3MIR</td>\n",
              "      <td>Motif-Gene-Sets-MIR</td>\n",
              "      <td>Gene</td>\n",
              "      <td>1</td>\n",
              "    </tr>\n",
              "    <tr>\n",
              "      <th>11</th>\n",
              "      <td>Motif-Gene-Sets-TFT - participates - Gene</td>\n",
              "      <td>Motif-Gene-Sets-TFT–participates–Gene</td>\n",
              "      <td>Gene - participates - Motif-Gene-Sets-TFT</td>\n",
              "      <td>C3TFTpG</td>\n",
              "      <td>GpC3TFT</td>\n",
              "      <td>Motif-Gene-Sets-TFT</td>\n",
              "      <td>Gene</td>\n",
              "      <td>1</td>\n",
              "    </tr>\n",
              "    <tr>\n",
              "      <th>23</th>\n",
              "      <td>Oncogenic-Gene-Sets - participates - Gene</td>\n",
              "      <td>Oncogenic-Gene-Sets–participates–Gene</td>\n",
              "      <td>Gene - participates - Oncogenic-Gene-Sets</td>\n",
              "      <td>C6pG</td>\n",
              "      <td>GpC6</td>\n",
              "      <td>Oncogenic-Gene-Sets</td>\n",
              "      <td>Gene</td>\n",
              "      <td>1</td>\n",
              "    </tr>\n",
              "    <tr>\n",
              "      <th>3</th>\n",
              "      <td>Positional-Gene-Sets - participates - Gene</td>\n",
              "      <td>Positional-Gene-Sets–participates–Gene</td>\n",
              "      <td>Gene - participates - Positional-Gene-Sets</td>\n",
              "      <td>C1pG</td>\n",
              "      <td>GpC1</td>\n",
              "      <td>Positional-Gene-Sets</td>\n",
              "      <td>Gene</td>\n",
              "      <td>1</td>\n",
              "    </tr>\n",
              "    <tr>\n",
              "      <th>27</th>\n",
              "      <td>xCell-Cell-Type - participates - Gene</td>\n",
              "      <td>xCell-Cell-Type–participates–Gene</td>\n",
              "      <td>Gene - participates - xCell-Cell-Type</td>\n",
              "      <td>XCELLpG</td>\n",
              "      <td>GpXCELL</td>\n",
              "      <td>xCell-Cell-Type</td>\n",
              "      <td>Gene</td>\n",
              "      <td>1</td>\n",
              "    </tr>\n",
              "  </tbody>\n",
              "</table>\n",
              "</div>"
            ],
            "text/plain": [
              "                                             metaedge  ... inverted\n",
              "13  Computational-Gene-Sets-CGN - participates - Gene  ...        1\n",
              "15   Computational-Gene-Sets-CM - participates - Gene  ...        1\n",
              "5         Curated-Gene-Sets-CPG - participates - Gene  ...        1\n",
              "7    Curated-Gene-Sets-REACTOME - participates - Gene  ...        1\n",
              "17              GO-Gene-Sets-BP - participates - Gene  ...        1\n",
              "19              GO-Gene-Sets-CC - participates - Gene  ...        1\n",
              "21              GO-Gene-Sets-MF - participates - Gene  ...        1\n",
              "12  Gene - participates - Computational-Gene-Sets-CGN  ...        0\n",
              "14   Gene - participates - Computational-Gene-Sets-CM  ...        0\n",
              "4         Gene - participates - Curated-Gene-Sets-CPG  ...        0\n",
              "6    Gene - participates - Curated-Gene-Sets-REACTOME  ...        0\n",
              "16              Gene - participates - GO-Gene-Sets-BP  ...        0\n",
              "18              Gene - participates - GO-Gene-Sets-CC  ...        0\n",
              "20              Gene - participates - GO-Gene-Sets-MF  ...        0\n",
              "0                     Gene - participates - Hallmarks  ...        0\n",
              "24        Gene - participates - Immunologic-Gene-Sets  ...        0\n",
              "8           Gene - participates - Motif-Gene-Sets-MIR  ...        0\n",
              "10          Gene - participates - Motif-Gene-Sets-TFT  ...        0\n",
              "22          Gene - participates - Oncogenic-Gene-Sets  ...        0\n",
              "2          Gene - participates - Positional-Gene-Sets  ...        0\n",
              "26              Gene - participates - xCell-Cell-Type  ...        0\n",
              "1                     Hallmarks - participates - Gene  ...        1\n",
              "25        Immunologic-Gene-Sets - participates - Gene  ...        1\n",
              "9           Motif-Gene-Sets-MIR - participates - Gene  ...        1\n",
              "11          Motif-Gene-Sets-TFT - participates - Gene  ...        1\n",
              "23          Oncogenic-Gene-Sets - participates - Gene  ...        1\n",
              "3          Positional-Gene-Sets - participates - Gene  ...        1\n",
              "27              xCell-Cell-Type - participates - Gene  ...        1\n",
              "\n",
              "[28 rows x 8 columns]"
            ]
          },
          "metadata": {
            "tags": []
          },
          "execution_count": 23
        }
      ]
    },
    {
      "cell_type": "code",
      "metadata": {
        "colab": {
          "base_uri": "https://localhost:8080/"
        },
        "id": "LzVHp8yspAQa",
        "outputId": "158d60cf-49e1-45ce-b632-b55cde3b8182"
      },
      "source": [
        "# How many genesets were filtered per collection?\n",
        "{x: len(y) for x, y in filtered.items()}"
      ],
      "execution_count": 24,
      "outputs": [
        {
          "output_type": "execute_result",
          "data": {
            "text/plain": [
              "{'Computational-Gene-Sets-CGN': 89,\n",
              " 'Computational-Gene-Sets-CM': 193,\n",
              " 'Curated-Gene-Sets-CPG': 1472,\n",
              " 'Curated-Gene-Sets-REACTOME': 390,\n",
              " 'GO-Gene-Sets-BP': 2229,\n",
              " 'GO-Gene-Sets-CC': 266,\n",
              " 'GO-Gene-Sets-MF': 487,\n",
              " 'Hallmarks': 5,\n",
              " 'Immunologic-Gene-Sets': 4,\n",
              " 'Motif-Gene-Sets-MIR': 27,\n",
              " 'Motif-Gene-Sets-TFT': 19,\n",
              " 'Oncogenic-Gene-Sets': 7,\n",
              " 'Positional-Gene-Sets': 234,\n",
              " 'xCell-Cell-Type': 319}"
            ]
          },
          "metadata": {
            "tags": []
          },
          "execution_count": 24
        }
      ]
    },
    {
      "cell_type": "markdown",
      "metadata": {
        "collapsed": true,
        "id": "RX4JKBMVpAQa"
      },
      "source": [
        "## Save graph"
      ]
    },
    {
      "cell_type": "code",
      "metadata": {
        "colab": {
          "base_uri": "https://localhost:8080/"
        },
        "id": "HbC7kxowpAQb",
        "outputId": "f97fc57a-1439-4ff3-c315-ff9717a30f79"
      },
      "source": [
        "%%time\n",
        "# Write nodes to a table\n",
        "nodes_file = os.path.join('/content/drive/MyDrive/aacb_project/hetnets', 'interpret_nodes.tsv')\n",
        "hetio.readwrite.write_nodetable(graph, nodes_file)\n",
        "\n",
        "# Write edges to a table\n",
        "edges_file = os.path.join('/content/drive/MyDrive/aacb_project/hetnets', 'interpret_edges.sif.gz')\n",
        "hetio.readwrite.write_sif(graph, edges_file)"
      ],
      "execution_count": 25,
      "outputs": [
        {
          "output_type": "stream",
          "text": [
            "CPU times: user 1.61 s, sys: 2.87 ms, total: 1.61 s\n",
            "Wall time: 1.63 s\n"
          ],
          "name": "stdout"
        }
      ]
    },
    {
      "cell_type": "code",
      "metadata": {
        "colab": {
          "base_uri": "https://localhost:8080/"
        },
        "id": "X-M-E3XVpAQb",
        "outputId": "25802f02-65db-4544-d4f8-e2d758cb64c9"
      },
      "source": [
        "%%time\n",
        "# Write metagraph as json\n",
        "metagraph_file = os.path.join('/content/drive/MyDrive/aacb_project/hetnets', 'interpret_metagraph.json')\n",
        "hetio.readwrite.write_metagraph(metagraph, metagraph_file)"
      ],
      "execution_count": 26,
      "outputs": [
        {
          "output_type": "stream",
          "text": [
            "CPU times: user 1.16 ms, sys: 7 µs, total: 1.17 ms\n",
            "Wall time: 6.05 ms\n"
          ],
          "name": "stdout"
        }
      ]
    },
    {
      "cell_type": "code",
      "metadata": {
        "colab": {
          "base_uri": "https://localhost:8080/"
        },
        "id": "Yg3mNg6upAQc",
        "outputId": "a918ec92-2cde-4aac-f100-51f3f49ac68e"
      },
      "source": [
        "%%time\n",
        "# Write graph as json\n",
        "hetnet_json_path = os.path.join('/content/drive/MyDrive/aacb_project/hetnets', 'interpret_hetnet.json.bz2')\n",
        "hetio.readwrite.write_graph(graph, hetnet_json_path)"
      ],
      "execution_count": 27,
      "outputs": [
        {
          "output_type": "stream",
          "text": [
            "CPU times: user 25.6 s, sys: 80.4 ms, total: 25.7 s\n",
            "Wall time: 25.7 s\n"
          ],
          "name": "stdout"
        }
      ]
    },
    {
      "cell_type": "code",
      "metadata": {
        "colab": {
          "base_uri": "https://localhost:8080/"
        },
        "id": "g0rCAYKxpAQd",
        "outputId": "10d21558-aa85-4a53-c9d7-7825081e1e31"
      },
      "source": [
        "! sha256sum '/content/drive/MyDrive/aacb_project/hetnets/interpret_hetnet.json.bz2'"
      ],
      "execution_count": 28,
      "outputs": [
        {
          "output_type": "stream",
          "text": [
            "0e85273530eff498d07f54cb3987eb9e3cf2415f4204a88a5f5e9d1c4cace894  /content/drive/MyDrive/aacb_project/hetnets/interpret_hetnet.json.bz2\n"
          ],
          "name": "stdout"
        }
      ]
    },
    {
      "cell_type": "markdown",
      "metadata": {
        "id": "p9drPluLpAQe"
      },
      "source": [
        "## Visualize hetnet node and edge counts"
      ]
    },
    {
      "cell_type": "code",
      "metadata": {
        "colab": {
          "base_uri": "https://localhost:8080/",
          "height": 410
        },
        "id": "SZMLX22kpAQe",
        "outputId": "17a8d7c1-b137-4df0-9f73-7e2f1280656d"
      },
      "source": [
        "ax = sns.barplot(x='metanode', y='nodes', data=metanode_df.sort_values('nodes'))\n",
        "for tick in ax.get_xticklabels():\n",
        "    tick.set_rotation(90)\n",
        "ax.set_xlabel(''); ax.set_ylabel('nodes');"
      ],
      "execution_count": 29,
      "outputs": [
        {
          "output_type": "display_data",
          "data": {
            "image/png": "[encoded data removed]",
            "text/plain": [
              "<Figure size 432x288 with 1 Axes>"
            ]
          },
          "metadata": {
            "tags": [],
            "needs_background": "light"
          }
        }
      ]
    },
    {
      "cell_type": "code",
      "metadata": {
        "scrolled": false,
        "colab": {
          "base_uri": "https://localhost:8080/",
          "height": 515
        },
        "id": "MNX02Fa1pAQe",
        "outputId": "ced4f124-2fd6-4532-eeed-d6c3e02c3f29"
      },
      "source": [
        "ax = sns.barplot(x='metaedge', y='edges', data=metaedge_df.sort_values('edges'))\n",
        "for tick in ax.get_xticklabels():\n",
        "    tick.set_rotation(90)\n",
        "ax.set_xlabel(''); ax.set_ylabel('edges');"
      ],
      "execution_count": 30,
      "outputs": [
        {
          "output_type": "display_data",
          "data": {
            "image/png": "[encoded data removed]",
            "text/plain": [
              "<Figure size 432x288 with 1 Axes>"
            ]
          },
          "metadata": {
            "tags": [],
            "needs_background": "light"
          }
        }
      ]
    },
    {
      "cell_type": "code",
      "metadata": {
        "id": "3FYJe7Gp9MdV"
      },
      "source": [
        ""
      ],
      "execution_count": null,
      "outputs": []
    }
  ]
}