{
 "cells": [
  {
   "cell_type": "code",
   "execution_count": 1,
   "metadata": {},
   "outputs": [],
   "source": [
    "import warnings\n",
    "warnings.filterwarnings(\"ignore\")\n",
    "\n",
    "import missingno\n",
    "import numpy as np\n",
    "import pandas as pd\n",
    "import seaborn as sns\n",
    "import matplotlib.pyplot as plt\n",
    "from missingpy import MissForest"
   ]
  },
  {
   "cell_type": "code",
   "execution_count": 2,
   "metadata": {},
   "outputs": [],
   "source": [
    "file_names = [\"GDS4987\", \"GDS4399\", \"GDS4133\", \"GDS4132\", \"GDS3841\", \"GDS3104\", \"GDS2084\", \"GDS1051\", \"GDS1050\"]\n",
    "file_names.sort()"
   ]
  },
  {
   "cell_type": "code",
   "execution_count": 3,
   "metadata": {},
   "outputs": [
    {
     "name": "stdout",
     "output_type": "stream",
     "text": [
      "Shape: (26, 24981); Addition: 13\n",
      "Shape: (41, 24981); Addition: 15\n",
      "Shape: (70, 24981); Addition: 29\n",
      "Shape: (93, 24981); Addition: 23\n",
      "Shape: (113, 24981); Addition: 20\n",
      "Shape: (136, 24981); Addition: 23\n",
      "Shape: (146, 24981); Addition: 10\n",
      "Shape: (175, 24981); Addition: 29\n"
     ]
    }
   ],
   "source": [
    "for i,model in enumerate(file_names):\n",
    "    if i == 0:\n",
    "        df = pd.read_csv(\"../datasets/\"+model+\"_normalized.csv\")\n",
    "    else:\n",
    "        temp = pd.read_csv(\"../datasets/\"+model+\"_normalized.csv\")\n",
    "        df = df.append(temp, ignore_index=True)\n",
    "        print(\"Shape: \", df.shape, \"; Addition: \", temp.shape[0], sep=\"\")\n",
    "        \n",
    "df.to_csv(\"../datasets/consolidated_normalized.csv\")"
   ]
  },
  {
   "cell_type": "code",
   "execution_count": 4,
   "metadata": {},
   "outputs": [
    {
     "name": "stdout",
     "output_type": "stream",
     "text": [
      "<class 'pandas.core.frame.DataFrame'>\n",
      "RangeIndex: 175 entries, 0 to 174\n",
      "Columns: 24981 entries, sample_id to PCOS\n",
      "dtypes: float64(24979), int64(1), object(1)\n",
      "memory usage: 33.4+ MB\n"
     ]
    }
   ],
   "source": [
    "df.info()"
   ]
  },
  {
   "cell_type": "code",
   "execution_count": 5,
   "metadata": {},
   "outputs": [
    {
     "name": "stdout",
     "output_type": "stream",
     "text": [
      "Number of columns dropped: 1555\n",
      "Categorical Variables: [23424]\n"
     ]
    }
   ],
   "source": [
    "# Drop columns that have all null values\n",
    "all_null_values = [i for i in df.columns[1:] if df[i].isnull().all()]\n",
    "df.drop(all_null_values, axis=1, inplace=True)\n",
    "\n",
    "# Preprocessing\n",
    "df[\"PCOS\"] = df[\"PCOS\"].astype('category')\n",
    "cat_pos = list(np.where(df[df.columns[1:]].dtypes=='category')[0])\n",
    "\n",
    "print(\"Number of columns dropped:\", len(all_null_values))\n",
    "print(\"Categorical Variables:\", cat_pos)"
   ]
  },
  {
   "cell_type": "code",
   "execution_count": null,
   "metadata": {},
   "outputs": [],
   "source": [
    "X = df[df.columns[1:]].to_numpy()\n",
    "imputer = MissForest(random_state=42)\n",
    "df_imputed = imputer.fit_transform(X, cat_vars=cat_pos)\n",
    "df_imputed = pd.DataFrame(df_imputed, columns=df.columns)"
   ]
  },
  {
   "cell_type": "code",
   "execution_count": null,
   "metadata": {},
   "outputs": [],
   "source": [
    "df_imputed.to_csv(\"../datasets/imputed_data.csv\")"
   ]
  },
  {
   "cell_type": "code",
   "execution_count": null,
   "metadata": {},
   "outputs": [],
   "source": []
  }
 ],
 "metadata": {
  "kernelspec": {
   "display_name": "Python 3",
   "language": "python",
   "name": "python3"
  },
  "language_info": {
   "codemirror_mode": {
    "name": "ipython",
    "version": 3
   },
   "file_extension": ".py",
   "mimetype": "text/x-python",
   "name": "python",
   "nbconvert_exporter": "python",
   "pygments_lexer": "ipython3",
   "version": "3.8.5"
  }
 },
 "nbformat": 4,
 "nbformat_minor": 4
}
