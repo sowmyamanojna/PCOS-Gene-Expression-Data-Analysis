{
 "cells": [
  {
   "cell_type": "markdown",
   "metadata": {
    "colab_type": "text",
    "id": "view-in-github"
   },
   "source": [
    "<a href=\"https://colab.research.google.com/github/sowmyamanojna/CS6024-Algorithmic-Approaches-to-Computational-Biology-Project/blob/master/dae_tf.ipynb\" target=\"_parent\"><img src=\"https://colab.research.google.com/assets/colab-badge.svg\" alt=\"Open In Colab\"/></a>"
   ]
  },
  {
   "cell_type": "code",
   "execution_count": null,
   "metadata": {
    "id": "L93r0BORCtju"
   },
   "outputs": [],
   "source": [
    "import matplotlib.pyplot as plt\n",
    "import numpy as np\n",
    "import pandas as pd\n",
    "import tensorflow as tf\n",
    "\n",
    "from sklearn.metrics import accuracy_score, precision_score, recall_score\n",
    "from sklearn.model_selection import train_test_split\n",
    "from tensorflow.keras import layers, losses\n",
    "from tensorflow.keras.models import Model\n",
    "\n",
    "import os\n",
    "import seaborn as sns\n",
    "import io"
   ]
  },
  {
   "cell_type": "code",
   "execution_count": null,
   "metadata": {
    "id": "sU2Ac7gBCxh6"
   },
   "outputs": [],
   "source": [
    "%matplotlib inline\n",
    "plt.style.use('seaborn-notebook')\n",
    "sns.set(style=\"white\", color_codes=True)\n",
    "sns.set_context(\"paper\", rc={\"font.size\":14,\"axes.titlesize\":15,\"axes.labelsize\":20,'xtick.labelsize':14, 'ytick.labelsize':14})"
   ]
  },
  {
   "cell_type": "code",
   "execution_count": null,
   "metadata": {
    "id": "UogfLX39DPXQ"
   },
   "outputs": [],
   "source": [
    "np.random.seed(123)"
   ]
  },
  {
   "cell_type": "code",
   "execution_count": null,
   "metadata": {
    "id": "Tpt3mQBaDRT1"
   },
   "outputs": [],
   "source": [
    "pcos_df = pd.read_csv('common_normalized.csv')\n",
    "pcos_df = pcos_df.drop(['sample_id'], axis=1)\n",
    "# Split 10% test set randomly\n",
    "test_set_percent = 0.1\n",
    "pcos_test_df = pcos_df.sample(frac=test_set_percent)\n",
    "pcos_train_df = pcos_df.drop(pcos_test_df.index)\n",
    "print(pcos_train_df.head(2))\n",
    "print(pcos_test_df.head(2))\n",
    "print(pcos_train_df.shape)\n",
    "print(pcos_test_df.shape)"
   ]
  },
  {
   "cell_type": "code",
   "execution_count": null,
   "metadata": {
    "id": "XUGrPwc3DTDz"
   },
   "outputs": [],
   "source": [
    "class Autoencoder(Model):\n",
    "  def __init__(self, latent_dim, original_dim):\n",
    "    super(Autoencoder, self).__init__()\n",
    "    self.latent_dim = latent_dim   \n",
    "    self.encoder = tf.keras.Sequential([layers.Dense(latent_dim, activation='relu')])\n",
    "    self.decoder = tf.keras.Sequential([layers.Dense(original_dim, activation='sigmoid')])\n",
    "\n",
    "  def call(self, x):\n",
    "    encoded = self.encoder(x)\n",
    "    decoded = self.decoder(encoded)\n",
    "    return decoded"
   ]
  },
  {
   "cell_type": "code",
   "execution_count": null,
   "metadata": {
    "id": "xKrWFLBUIWnb"
   },
   "outputs": [],
   "source": [
    "original_dim = pcos_df.shape[1]\n",
    "latent_dim = 100\n",
    "epochs = 10"
   ]
  },
  {
   "cell_type": "code",
   "execution_count": null,
   "metadata": {
    "id": "FoANX2ILIWZg"
   },
   "outputs": [],
   "source": [
    "autoencoder = Autoencoder(latent_dim, original_dim) "
   ]
  },
  {
   "cell_type": "code",
   "execution_count": null,
   "metadata": {
    "id": "C8hD73uNDiDL"
   },
   "outputs": [],
   "source": [
    "autoencoder.compile(optimizer='adam', loss=losses.MeanSquaredError())"
   ]
  },
  {
   "cell_type": "code",
   "execution_count": null,
   "metadata": {
    "id": "SzpjRcCuDlYO"
   },
   "outputs": [],
   "source": [
    "hist = autoencoder.fit(pcos_train_df, pcos_train_df,\n",
    "                epochs=epochs,\n",
    "                shuffle=True,\n",
    "                batch_size=4,\n",
    "                validation_data=(pcos_test_df, pcos_test_df))"
   ]
  },
  {
   "cell_type": "code",
   "execution_count": null,
   "metadata": {
    "id": "DlEkgXYMDw2o"
   },
   "outputs": [],
   "source": [
    "# Visualize training performance\n",
    "history_df = pd.DataFrame(hist.history)\n",
    "ax = history_df.plot()\n",
    "ax.set_xlabel('Epochs')\n",
    "ax.set_ylabel('DAE Loss')\n",
    "fig = ax.get_figure()\n",
    "fig.savefig(\"hist_plot_file.png\")"
   ]
  },
  {
   "cell_type": "code",
   "execution_count": null,
   "metadata": {
    "id": "uS9HoyREFD0B"
   },
   "outputs": [],
   "source": [
    "pcos_df = pd.read_csv('common_normalized.csv')\n",
    "pcos_df = pcos_df.drop(['sample_id'], axis=1)\n",
    "# Split 10% test set randomly\n",
    "test_set_percent = 0.1\n",
    "pcos_test_df = pcos_df.sample(frac=test_set_percent)\n",
    "pcos_train_df = pcos_df.drop(pcos_test_df.index)\n",
    "print(pcos_train_df.head(2))\n",
    "print(pcos_test_df.head(2))"
   ]
  },
  {
   "cell_type": "code",
   "execution_count": null,
   "metadata": {
    "id": "D4mL5EyAL99r"
   },
   "outputs": [],
   "source": [
    "pcos_train = pcos_train_df.to_numpy()\n",
    "pcos_test = pcos_test_df.to_numpy()\n",
    "print(pcos_train.shape)\n",
    "print(pcos_test.shape)\n",
    "pcos_train = pcos_train.reshape(157, 1669, 1)\n",
    "pcos_test = pcos_test.reshape(18, 1669, 1)\n",
    "print(pcos_train.shape)\n",
    "print(pcos_test.shape)\n",
    "\n",
    "# Adding random noise to the data\n",
    "noise_factor = 0.2\n",
    "pcos_train_noisy = pcos_train + noise_factor * tf.random.normal(shape=pcos_train.shape) \n",
    "pcos_test_noisy = pcos_test + noise_factor * tf.random.normal(shape=pcos_test.shape) \n",
    "\n",
    "pcos_train_noisy = tf.clip_by_value(pcos_train_noisy, clip_value_min=0., clip_value_max=1.)\n",
    "pcos_test_noisy = tf.clip_by_value(pcos_test_noisy, clip_value_min=0., clip_value_max=1.)"
   ]
  },
  {
   "cell_type": "code",
   "execution_count": null,
   "metadata": {
    "id": "69v4NpyNMTZt"
   },
   "outputs": [],
   "source": [
    "class Denoise(Model):\n",
    "  def __init__(self):\n",
    "    super(Denoise, self).__init__()    \n",
    "    self.encoder = tf.keras.Sequential([layers.Dense(latent_dim, activation='relu')])\n",
    "    self.decoder = tf.keras.Sequential([layers.Dense(original_dim, activation='sigmoid')])\n",
    "    \n",
    "  def call(self, x):\n",
    "    encoded = self.encoder(x)\n",
    "    decoded = self.decoder(encoded)\n",
    "    return decoded"
   ]
  },
  {
   "cell_type": "code",
   "execution_count": null,
   "metadata": {
    "id": "PlHAX2IbPXo9"
   },
   "outputs": [],
   "source": [
    "dae = Denoise()\n",
    "dae.compile(optimizer='adam', loss=losses.MeanSquaredError())"
   ]
  },
  {
   "cell_type": "code",
   "execution_count": null,
   "metadata": {
    "id": "KEWQoxBiPc0s"
   },
   "outputs": [],
   "source": [
    "hist = dae.fit(pcos_train_noisy, pcos_train,\n",
    "                epochs=epochs,\n",
    "                shuffle=True,\n",
    "                batch_size=4,\n",
    "                validation_data=(pcos_test_noisy, pcos_test))"
   ]
  },
  {
   "cell_type": "code",
   "execution_count": null,
   "metadata": {
    "id": "w_TVAm8zPnqf"
   },
   "outputs": [],
   "source": [
    "# Visualize training performance\n",
    "history_df = pd.DataFrame(hist.history)\n",
    "ax = history_df.plot()\n",
    "ax.set_xlabel('Epochs')\n",
    "ax.set_ylabel('DAE Loss')\n",
    "fig = ax.get_figure()\n",
    "fig.savefig(\"hist_plot_file_dae.png\")"
   ]
  },
  {
   "cell_type": "code",
   "execution_count": null,
   "metadata": {
    "id": "PMiSRS8aSWYy"
   },
   "outputs": [],
   "source": [
    "print(dae.encoder.summary())\n",
    "print(dae.decoder.summary())"
   ]
  },
  {
   "cell_type": "code",
   "execution_count": null,
   "metadata": {
    "id": "13tJAYz2Zkx-"
   },
   "outputs": [],
   "source": [
    "encoded_imgs = dae.encoder(pcos_test).numpy()\n",
    "decoded_imgs = dae.decoder(encoded_imgs).numpy()"
   ]
  },
  {
   "cell_type": "code",
   "execution_count": null,
   "metadata": {
    "id": "jqgYsBHnZxIV"
   },
   "outputs": [],
   "source": [
    "print(encoded_imgs.shape)"
   ]
  },
  {
   "cell_type": "code",
   "execution_count": null,
   "metadata": {
    "id": "FVNzzCeBZ40a"
   },
   "outputs": [],
   "source": [
    "plt.figure(figsize=(6, 6))\n",
    "plt.scatter(encoded_imgs[:][:][0], encoded_imgs[:][:][1])\n",
    "plt.xlabel('Latent Feature 1')\n",
    "plt.ylabel('Latent Feature 2')\n",
    "plt.savefig('node_activation_2_latent.png')"
   ]
  },
  {
   "cell_type": "code",
   "execution_count": null,
   "metadata": {
    "id": "vFXq94BeaRBF"
   },
   "outputs": [],
   "source": []
  }
 ],
 "metadata": {
  "colab": {
   "authorship_tag": "ABX9TyMO7OlE/4DvqyeA6UQBPKXv",
   "include_colab_link": true,
   "name": "dae-tf.ipynb",
   "provenance": []
  },
  "kernelspec": {
   "display_name": "Python 3",
   "language": "python",
   "name": "python3"
  },
  "language_info": {
   "codemirror_mode": {
    "name": "ipython",
    "version": 3
   },
   "file_extension": ".py",
   "mimetype": "text/x-python",
   "name": "python",
   "nbconvert_exporter": "python",
   "pygments_lexer": "ipython3",
   "version": "3.8.5"
  }
 },
 "nbformat": 4,
 "nbformat_minor": 1
}
