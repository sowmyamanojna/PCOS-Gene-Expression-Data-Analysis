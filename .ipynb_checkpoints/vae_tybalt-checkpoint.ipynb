{
 "cells": [
  {
   "cell_type": "markdown",
   "metadata": {
    "colab_type": "text",
    "id": "view-in-github"
   },
   "source": [
    "<a href=\"https://colab.research.google.com/github/sowmyamanojna/CS6024-Algorithmic-Approaches-to-Computational-Biology-Project/blob/master/vae_tybalt.ipynb\" target=\"_parent\"><img src=\"https://colab.research.google.com/assets/colab-badge.svg\" alt=\"Open In Colab\"/></a>"
   ]
  },
  {
   "cell_type": "code",
   "execution_count": 27,
   "metadata": {
    "id": "8DMiziQtgk38"
   },
   "outputs": [],
   "source": [
    "import os\n",
    "import numpy as np\n",
    "import pandas as pd\n",
    "import matplotlib.pyplot as plt\n",
    "import seaborn as sns\n",
    "import io\n",
    "\n",
    "import keras\n",
    "import tensorflow as tf\n",
    "from keras.models import Model, Sequential\n",
    "from keras.layers import Input, Dense, Lambda, Layer, Activation\n",
    "from keras.layers.normalization import BatchNormalization\n",
    "from keras.models import Model\n",
    "from keras import backend as K\n",
    "from keras import metrics, optimizers\n",
    "from keras.callbacks import Callback\n",
    "from tensorflow.keras import losses\n",
    "\n",
    "import pydot\n",
    "import graphviz\n",
    "from keras.utils import plot_model\n",
    "from IPython.display import SVG\n",
    "from keras.utils.vis_utils import model_to_dot\n",
    "\n",
    "import plotly.express as px\n",
    "from sklearn.decomposition import PCA\n",
    "from sklearn.model_selection import train_test_split"
   ]
  },
  {
   "cell_type": "code",
   "execution_count": 2,
   "metadata": {
    "id": "YmkR0amNhErD"
   },
   "outputs": [],
   "source": [
    "%matplotlib inline\n",
    "plt.style.use('seaborn-notebook')\n",
    "sns.set(style=\"white\", color_codes=True)\n",
    "sns.set_context(\"paper\", rc={\"font.size\":14,\"axes.titlesize\":15,\"axes.labelsize\":20,'xtick.labelsize':14, 'ytick.labelsize':14})"
   ]
  },
  {
   "cell_type": "code",
   "execution_count": 32,
   "metadata": {
    "id": "WQUPJ2QyhHPd"
   },
   "outputs": [],
   "source": [
    "# Function for reparameterization trick to make model differentiable\n",
    "def sampling(args):\n",
    "    \n",
    "    import tensorflow as tf\n",
    "    # Function with args required for Keras Lambda function\n",
    "    z_mean, z_log_var = args\n",
    "\n",
    "    # Draw epsilon of the same shape from a standard normal distribution\n",
    "    epsilon = K.random_normal(shape=tf.shape(z_mean), mean=0.,\n",
    "                              stddev=epsilon_std)\n",
    "    \n",
    "    # The latent vector is non-deterministic and differentiable\n",
    "    # in respect to z_mean and z_log_var\n",
    "    z = z_mean + K.exp(z_log_var / 2) * epsilon\n",
    "    return z\n",
    "\n",
    "class VariationalLayer(Layer):\n",
    "    \"\"\"\n",
    "    Define a custom layer that learns and performs the training\n",
    "    \"\"\"\n",
    "    def __init__(self, var_layer, mean_layer, original_dim, beta, loss,\n",
    "                 **kwargs):\n",
    "        # https://keras.io/layers/writing-your-own-keras-layers/\n",
    "        self.is_placeholder = True\n",
    "        self.var_layer = var_layer\n",
    "        self.mean_layer = mean_layer\n",
    "        self.original_dim = original_dim\n",
    "        self.beta = beta\n",
    "        self.loss = loss\n",
    "        super(VariationalLayer, self).__init__(**kwargs)\n",
    "\n",
    "    def vae_loss(self, x_input, x_decoded):\n",
    "        if self.loss == 'binary_crossentropy':\n",
    "            recon_loss = self.original_dim * \\\n",
    "                         metrics.binary_crossentropy(x_input, x_decoded)\n",
    "        elif self.loss == 'mse':\n",
    "            recon_loss = self.original_dim * \\\n",
    "                         metrics.mean_squared_error(x_input, x_decoded)\n",
    "\n",
    "        kl_loss = - 0.5 * K.sum(1 + self.var_layer -\n",
    "                                K.square(self.mean_layer) -\n",
    "                                K.exp(self.var_layer), axis=-1)\n",
    "\n",
    "        return K.mean(recon_loss + (K.get_value(self.beta) * kl_loss))\n",
    "\n",
    "    def call(self, inputs):\n",
    "        x, x_decoded = inputs\n",
    "        loss = self.vae_loss(x, x_decoded)\n",
    "        self.add_loss(loss, inputs=inputs)\n",
    "        # We won't actually use the output.\n",
    "        return x\n",
    "\n",
    "class CustomVariationalLayer(Layer):\n",
    "    \"\"\"\n",
    "    Define a custom layer that learns and performs the training\n",
    "    This function is borrowed from:\n",
    "    https://github.com/fchollet/keras/blob/master/examples/variational_autoencoder.py\n",
    "    \"\"\"\n",
    "    def __init__(self, **kwargs):\n",
    "        # https://keras.io/layers/writing-your-own-keras-layers/\n",
    "        self.is_placeholder = True\n",
    "        super(CustomVariationalLayer, self).__init__(**kwargs)\n",
    "\n",
    "    def vae_loss(self, x_input, x_decoded):\n",
    "        reconstruction_loss = original_dim * metrics.binary_crossentropy(x_input, x_decoded)\n",
    "        kl_loss = - 0.5 * K.sum(1 + z_log_var_encoded - K.square(z_mean_encoded) - \n",
    "                                K.exp(z_log_var_encoded), axis=-1)\n",
    "        return K.mean(reconstruction_loss + (K.get_value(beta) * kl_loss))\n",
    "\n",
    "    def call(self, inputs):\n",
    "        x = inputs[0]\n",
    "        x_decoded = inputs[1]\n",
    "        loss = self.vae_loss(x, x_decoded)\n",
    "        self.add_loss(loss, inputs=inputs)\n",
    "        # We won't actually use the output.\n",
    "        return x\n",
    "\n",
    "class WarmUpCallback(Callback):\n",
    "    def __init__(self, beta, kappa):\n",
    "        self.beta = beta\n",
    "        self.kappa = kappa\n",
    "    # Behavior on each epoch\n",
    "    def on_epoch_end(self, epoch, logs={}):\n",
    "        if K.get_value(self.beta) <= 1:\n",
    "            K.set_value(self.beta, K.get_value(self.beta) + self.kappa)\n",
    "\n",
    "def get_model_summary(model):\n",
    "    stream = io.StringIO()\n",
    "    model.summary(print_fn=lambda x: stream.write(x + '\\n'))\n",
    "    summary_string = stream.getvalue()\n",
    "    stream.close()\n",
    "    return summary_string"
   ]
  },
  {
   "cell_type": "code",
   "execution_count": 4,
   "metadata": {
    "id": "FXAlLr7DhZ92"
   },
   "outputs": [],
   "source": [
    "np.random.seed(123)"
   ]
  },
  {
   "cell_type": "code",
   "execution_count": 5,
   "metadata": {
    "id": "l4cAazMFi2Er"
   },
   "outputs": [
    {
     "data": {
      "text/html": [
       "<div>\n",
       "<style scoped>\n",
       "    .dataframe tbody tr th:only-of-type {\n",
       "        vertical-align: middle;\n",
       "    }\n",
       "\n",
       "    .dataframe tbody tr th {\n",
       "        vertical-align: top;\n",
       "    }\n",
       "\n",
       "    .dataframe thead th {\n",
       "        text-align: right;\n",
       "    }\n",
       "</style>\n",
       "<table border=\"1\" class=\"dataframe\">\n",
       "  <thead>\n",
       "    <tr style=\"text-align: right;\">\n",
       "      <th></th>\n",
       "      <th>27</th>\n",
       "      <th>36</th>\n",
       "      <th>59</th>\n",
       "      <th>87</th>\n",
       "      <th>94</th>\n",
       "      <th>105</th>\n",
       "      <th>153</th>\n",
       "      <th>164</th>\n",
       "      <th>159</th>\n",
       "      <th>5936_100526737</th>\n",
       "      <th>...</th>\n",
       "      <th>254359</th>\n",
       "      <th>254531</th>\n",
       "      <th>100132341</th>\n",
       "      <th>100287932_100652748</th>\n",
       "      <th>387893</th>\n",
       "      <th>388336</th>\n",
       "      <th>259266</th>\n",
       "      <th>317762</th>\n",
       "      <th>261726</th>\n",
       "      <th>PCOS</th>\n",
       "    </tr>\n",
       "  </thead>\n",
       "  <tbody>\n",
       "    <tr>\n",
       "      <th>0</th>\n",
       "      <td>0.693258</td>\n",
       "      <td>0.125461</td>\n",
       "      <td>0.336077</td>\n",
       "      <td>0.044463</td>\n",
       "      <td>0.267819</td>\n",
       "      <td>0.467742</td>\n",
       "      <td>0.490196</td>\n",
       "      <td>0.370576</td>\n",
       "      <td>0.008907</td>\n",
       "      <td>0.906437</td>\n",
       "      <td>...</td>\n",
       "      <td>0.39619</td>\n",
       "      <td>1.000000</td>\n",
       "      <td>0.412466</td>\n",
       "      <td>0.601428</td>\n",
       "      <td>0.000000</td>\n",
       "      <td>0.312354</td>\n",
       "      <td>0.198387</td>\n",
       "      <td>0.77081</td>\n",
       "      <td>0.120213</td>\n",
       "      <td>1</td>\n",
       "    </tr>\n",
       "    <tr>\n",
       "      <th>1</th>\n",
       "      <td>0.214607</td>\n",
       "      <td>0.487085</td>\n",
       "      <td>0.589704</td>\n",
       "      <td>0.104294</td>\n",
       "      <td>0.000000</td>\n",
       "      <td>0.106452</td>\n",
       "      <td>0.000000</td>\n",
       "      <td>0.476058</td>\n",
       "      <td>0.631829</td>\n",
       "      <td>0.356537</td>\n",
       "      <td>...</td>\n",
       "      <td>0.56419</td>\n",
       "      <td>0.497418</td>\n",
       "      <td>0.325390</td>\n",
       "      <td>0.850926</td>\n",
       "      <td>0.356499</td>\n",
       "      <td>0.173660</td>\n",
       "      <td>0.430645</td>\n",
       "      <td>0.00000</td>\n",
       "      <td>1.000000</td>\n",
       "      <td>1</td>\n",
       "    </tr>\n",
       "  </tbody>\n",
       "</table>\n",
       "<p>2 rows × 1668 columns</p>\n",
       "</div>"
      ],
      "text/plain": [
       "         27        36        59        87        94       105       153  \\\n",
       "0  0.693258  0.125461  0.336077  0.044463  0.267819  0.467742  0.490196   \n",
       "1  0.214607  0.487085  0.589704  0.104294  0.000000  0.106452  0.000000   \n",
       "\n",
       "        164       159  5936_100526737  ...   254359    254531  100132341  \\\n",
       "0  0.370576  0.008907        0.906437  ...  0.39619  1.000000   0.412466   \n",
       "1  0.476058  0.631829        0.356537  ...  0.56419  0.497418   0.325390   \n",
       "\n",
       "   100287932_100652748    387893    388336    259266   317762    261726  PCOS  \n",
       "0             0.601428  0.000000  0.312354  0.198387  0.77081  0.120213     1  \n",
       "1             0.850926  0.356499  0.173660  0.430645  0.00000  1.000000     1  \n",
       "\n",
       "[2 rows x 1668 columns]"
      ]
     },
     "metadata": {},
     "output_type": "display_data"
    },
    {
     "data": {
      "text/html": [
       "<div>\n",
       "<style scoped>\n",
       "    .dataframe tbody tr th:only-of-type {\n",
       "        vertical-align: middle;\n",
       "    }\n",
       "\n",
       "    .dataframe tbody tr th {\n",
       "        vertical-align: top;\n",
       "    }\n",
       "\n",
       "    .dataframe thead th {\n",
       "        text-align: right;\n",
       "    }\n",
       "</style>\n",
       "<table border=\"1\" class=\"dataframe\">\n",
       "  <thead>\n",
       "    <tr style=\"text-align: right;\">\n",
       "      <th></th>\n",
       "      <th>27</th>\n",
       "      <th>36</th>\n",
       "      <th>59</th>\n",
       "      <th>87</th>\n",
       "      <th>94</th>\n",
       "      <th>105</th>\n",
       "      <th>153</th>\n",
       "      <th>164</th>\n",
       "      <th>159</th>\n",
       "      <th>5936_100526737</th>\n",
       "      <th>...</th>\n",
       "      <th>254359</th>\n",
       "      <th>254531</th>\n",
       "      <th>100132341</th>\n",
       "      <th>100287932_100652748</th>\n",
       "      <th>387893</th>\n",
       "      <th>388336</th>\n",
       "      <th>259266</th>\n",
       "      <th>317762</th>\n",
       "      <th>261726</th>\n",
       "      <th>PCOS</th>\n",
       "    </tr>\n",
       "  </thead>\n",
       "  <tbody>\n",
       "    <tr>\n",
       "      <th>134</th>\n",
       "      <td>0.919128</td>\n",
       "      <td>0.408681</td>\n",
       "      <td>0.226442</td>\n",
       "      <td>0.793847</td>\n",
       "      <td>1.000000</td>\n",
       "      <td>0.720219</td>\n",
       "      <td>0.895342</td>\n",
       "      <td>0.51057</td>\n",
       "      <td>0.649458</td>\n",
       "      <td>0.941325</td>\n",
       "      <td>...</td>\n",
       "      <td>0.927531</td>\n",
       "      <td>0.391937</td>\n",
       "      <td>0.178537</td>\n",
       "      <td>0.180329</td>\n",
       "      <td>0.496522</td>\n",
       "      <td>0.341340</td>\n",
       "      <td>0.281178</td>\n",
       "      <td>0.986584</td>\n",
       "      <td>0.569595</td>\n",
       "      <td>1</td>\n",
       "    </tr>\n",
       "    <tr>\n",
       "      <th>128</th>\n",
       "      <td>0.806907</td>\n",
       "      <td>0.493472</td>\n",
       "      <td>0.613874</td>\n",
       "      <td>0.405176</td>\n",
       "      <td>0.498285</td>\n",
       "      <td>0.491732</td>\n",
       "      <td>0.052640</td>\n",
       "      <td>0.52834</td>\n",
       "      <td>0.181815</td>\n",
       "      <td>0.056033</td>\n",
       "      <td>...</td>\n",
       "      <td>0.660917</td>\n",
       "      <td>0.398161</td>\n",
       "      <td>0.486197</td>\n",
       "      <td>0.656226</td>\n",
       "      <td>0.733858</td>\n",
       "      <td>0.664975</td>\n",
       "      <td>0.345816</td>\n",
       "      <td>0.328268</td>\n",
       "      <td>0.484857</td>\n",
       "      <td>1</td>\n",
       "    </tr>\n",
       "  </tbody>\n",
       "</table>\n",
       "<p>2 rows × 1668 columns</p>\n",
       "</div>"
      ],
      "text/plain": [
       "           27        36        59        87        94       105       153  \\\n",
       "134  0.919128  0.408681  0.226442  0.793847  1.000000  0.720219  0.895342   \n",
       "128  0.806907  0.493472  0.613874  0.405176  0.498285  0.491732  0.052640   \n",
       "\n",
       "         164       159  5936_100526737  ...    254359    254531  100132341  \\\n",
       "134  0.51057  0.649458        0.941325  ...  0.927531  0.391937   0.178537   \n",
       "128  0.52834  0.181815        0.056033  ...  0.660917  0.398161   0.486197   \n",
       "\n",
       "     100287932_100652748    387893    388336    259266    317762    261726  \\\n",
       "134             0.180329  0.496522  0.341340  0.281178  0.986584  0.569595   \n",
       "128             0.656226  0.733858  0.664975  0.345816  0.328268  0.484857   \n",
       "\n",
       "     PCOS  \n",
       "134     1  \n",
       "128     1  \n",
       "\n",
       "[2 rows x 1668 columns]"
      ]
     },
     "metadata": {},
     "output_type": "display_data"
    }
   ],
   "source": [
    "pcos_df = pd.read_csv('datasets/common_normalized.csv', index_col=0)\n",
    "pcos_df = pcos_df.drop(['sample_id'], axis=1)\n",
    "\n",
    "# Split 10% test set randomly\n",
    "test_set_percent = 0.1\n",
    "\n",
    "pcos_test_df = pcos_df.sample(frac=test_set_percent)\n",
    "pcos_train_df = pcos_df.drop(pcos_test_df.index)\n",
    "\n",
    "display(pcos_train_df.head(2))\n",
    "display(pcos_test_df.head(2))"
   ]
  },
  {
   "cell_type": "code",
   "execution_count": 35,
   "metadata": {
    "id": "bDtGXeR6i245"
   },
   "outputs": [],
   "source": [
    "# Set hyper parameters\n",
    "original_dim = pcos_df.shape[1]\n",
    "latent_dim = 2\n",
    "\n",
    "batch_size = 4\n",
    "# epochs = 50\n",
    "epochs = 10\n",
    "learning_rate = 0.0005\n",
    "\n",
    "epsilon_std = 1.0\n",
    "beta = K.variable(0)\n",
    "kappa = 1\n",
    "loss = 'binary_crossentropy'"
   ]
  },
  {
   "cell_type": "code",
   "execution_count": null,
   "metadata": {},
   "outputs": [],
   "source": []
  },
  {
   "cell_type": "code",
   "execution_count": 7,
   "metadata": {
    "id": "S9-5mbSYi5T6"
   },
   "outputs": [],
   "source": [
    "# Input place holder for PCOS data with specific input size\n",
    "pcos_input = Input(shape=(original_dim, ))\n",
    "\n",
    "# Input layer is compressed into a mean and log variance vector of size `latent_dim`\n",
    "# Each layer is initialized with glorot uniform weights and each step (dense connections,\n",
    "# batch norm, and relu activation) are funneled separately\n",
    "# Each vector of length `latent_dim` are connected to the input tensor\n",
    "z_mean_dense_linear = Dense(latent_dim, kernel_initializer='glorot_uniform')(pcos_input)\n",
    "z_mean_dense_batchnorm = BatchNormalization()(z_mean_dense_linear)\n",
    "z_mean_encoded = Activation('relu')(z_mean_dense_batchnorm)\n",
    "\n",
    "z_log_var_dense_linear = Dense(latent_dim, kernel_initializer='glorot_uniform')(pcos_input)\n",
    "z_log_var_dense_batchnorm = BatchNormalization()(z_log_var_dense_linear)\n",
    "z_log_var_encoded = Activation('relu')(z_log_var_dense_batchnorm)\n",
    "\n",
    "# return the encoded and randomly sampled z vector\n",
    "# Takes two keras layers as input to the custom sampling function layer with a `latent_dim` output\n",
    "z = Lambda(sampling, output_shape=(latent_dim, ))([z_mean_encoded, z_log_var_encoded])"
   ]
  },
  {
   "cell_type": "code",
   "execution_count": 8,
   "metadata": {
    "id": "HTHcYEpui7rZ"
   },
   "outputs": [],
   "source": [
    "# The decoding layer is much simpler with a single layer and sigmoid activation\n",
    "decoder_to_reconstruct = Dense(original_dim, kernel_initializer='glorot_uniform', activation='sigmoid')\n",
    "pcos_reconstruct = decoder_to_reconstruct(z)"
   ]
  },
  {
   "cell_type": "code",
   "execution_count": 9,
   "metadata": {
    "id": "sTZypEmsi-JG"
   },
   "outputs": [],
   "source": [
    "adam = optimizers.Adam(lr=learning_rate)\n",
    "vae_layer = CustomVariationalLayer()([pcos_input, pcos_reconstruct])\n",
    "vae = Model(pcos_input, vae_layer)\n",
    "# vae.compile(optimizer=adam, loss=None, loss_weights=[beta])\n",
    "vae.compile(optimizer=adam, loss=losses.BinaryCrossentropy, loss_weights=[beta])\n",
    "\n",
    "vae_model_summary_string = get_model_summary(vae)\n",
    "\n",
    "with open('vae_model.txt', 'a') as f:\n",
    "    f.write(vae_model_summary_string)\n",
    "    f.write('\\n')"
   ]
  },
  {
   "cell_type": "code",
   "execution_count": 10,
   "metadata": {
    "id": "jMEhTp5MjDYX"
   },
   "outputs": [
    {
     "name": "stdout",
     "output_type": "stream",
     "text": [
      "Epoch 1/10\n",
      "40/40 [==============================] - 5s 134ms/step - loss: 0.0000e+00 - val_loss: 0.0000e+00\n",
      "Epoch 2/10\n",
      "40/40 [==============================] - 4s 108ms/step - loss: 0.0000e+00 - val_loss: 0.0000e+00\n",
      "Epoch 3/10\n",
      "40/40 [==============================] - 4s 110ms/step - loss: 0.0000e+00 - val_loss: 0.0000e+00\n",
      "Epoch 4/10\n",
      "40/40 [==============================] - 5s 115ms/step - loss: 0.0000e+00 - val_loss: 0.0000e+00\n",
      "Epoch 5/10\n",
      "40/40 [==============================] - 5s 114ms/step - loss: 0.0000e+00 - val_loss: 0.0000e+00\n",
      "Epoch 6/10\n",
      "40/40 [==============================] - 5s 119ms/step - loss: 0.0000e+00 - val_loss: 0.0000e+00\n",
      "Epoch 7/10\n",
      "40/40 [==============================] - 4s 112ms/step - loss: 0.0000e+00 - val_loss: 0.0000e+00\n",
      "Epoch 8/10\n",
      "40/40 [==============================] - 5s 127ms/step - loss: 0.0000e+00 - val_loss: 0.0000e+00\n",
      "Epoch 9/10\n",
      "40/40 [==============================] - 5s 116ms/step - loss: 0.0000e+00 - val_loss: 0.0000e+00\n",
      "Epoch 10/10\n",
      "40/40 [==============================] - 5s 121ms/step - loss: 0.0000e+00 - val_loss: 0.0000e+00\n"
     ]
    }
   ],
   "source": [
    "tf.config.experimental_run_functions_eagerly(True)\n",
    "hist = vae.fit(np.asarray(pcos_train_df).astype('float32'),\n",
    "               shuffle=True,\n",
    "               epochs=epochs,\n",
    "               batch_size=batch_size,\n",
    "               validation_data=(np.asarray(pcos_test_df).astype('float32'), None),\n",
    "               callbacks=[WarmUpCallback(beta, kappa)])"
   ]
  },
  {
   "cell_type": "code",
   "execution_count": 22,
   "metadata": {
    "id": "zfDA3W-1jG9C"
   },
   "outputs": [
    {
     "data": {
      "text/plain": [
       "<Figure size 576x396 with 0 Axes>"
      ]
     },
     "metadata": {},
     "output_type": "display_data"
    },
    {
     "data": {
      "image/png": "[encoded data removed]",
      "text/plain": [
       "<Figure size 576x396 with 1 Axes>"
      ]
     },
     "metadata": {},
     "output_type": "display_data"
    }
   ],
   "source": [
    "# Visualize training performance\n",
    "history_df = pd.DataFrame(hist.history)\n",
    "plt.figure()\n",
    "ax = history_df.plot()\n",
    "ax.set_xlabel('Epochs')\n",
    "ax.set_ylabel('VAE Loss')\n",
    "fig = ax.get_figure()\n",
    "fig.savefig(\"hist_plot_file.png\")\n",
    "plt.grid()"
   ]
  },
  {
   "cell_type": "code",
   "execution_count": 12,
   "metadata": {
    "id": "pScIcGPjjJ-K"
   },
   "outputs": [],
   "source": [
    "# Model to compress input\n",
    "encoder = Model(pcos_input, z_mean_encoded)"
   ]
  },
  {
   "cell_type": "code",
   "execution_count": 13,
   "metadata": {
    "id": "ISGhZX9ejOC8"
   },
   "outputs": [],
   "source": [
    "# Encode into the hidden/latent representation - and save output\n",
    "encoded_pcos_df = encoder.predict_on_batch(pcos_df)\n",
    "encoded_pcos_df = pd.DataFrame(encoded_pcos_df, index=pcos_df.index)\n",
    "\n",
    "encoded_pcos_df.columns.name = 'sample_id'\n",
    "encoded_pcos_df.columns = encoded_pcos_df.columns + 1\n",
    "encoded_file = 'encoded_pcos_onehidden_warmup_batchnorm.tsv'\n",
    "encoded_pcos_df.to_csv(encoded_file, sep='\\t')"
   ]
  },
  {
   "cell_type": "code",
   "execution_count": 14,
   "metadata": {
    "id": "XyDVfh2xjQeF"
   },
   "outputs": [],
   "source": [
    "# build a generator that can sample from the learned distribution\n",
    "decoder_input = Input(shape=(latent_dim, ))  # can generate from any sampled z vector\n",
    "_x_decoded_mean = decoder_to_reconstruct(decoder_input)\n",
    "decoder = Model(decoder_input, _x_decoded_mean)"
   ]
  },
  {
   "cell_type": "code",
   "execution_count": 15,
   "metadata": {
    "id": "fW_XYsodjSxI"
   },
   "outputs": [],
   "source": [
    "encoder_model_file = 'encoder_onehidden_vae.hdf5'\n",
    "decoder_model_file = 'decoder_onehidden_vae.hdf5'\n",
    "\n",
    "encoder.save(encoder_model_file)\n",
    "decoder.save(decoder_model_file)"
   ]
  },
  {
   "cell_type": "code",
   "execution_count": 16,
   "metadata": {
    "id": "MwmJU51pjUfv"
   },
   "outputs": [],
   "source": [
    "# What are the most and least activated nodes\n",
    "sum_node_activity = encoded_pcos_df.sum(axis=0).sort_values(ascending=False)\n",
    "\n",
    "with open('10_most_and_least_activity_nodes.txt', 'a') as f:\n",
    "  f.write(sum_node_activity.head(10).to_string())\n",
    "  f.write('\\n')\n",
    "  f.write(sum_node_activity.tail(10).to_string())"
   ]
  },
  {
   "cell_type": "code",
   "execution_count": 17,
   "metadata": {
    "id": "FsXQZnuSjWph"
   },
   "outputs": [
    {
     "data": {
      "image/png": "[encoded data removed]",
      "text/plain": [
       "<Figure size 576x396 with 1 Axes>"
      ]
     },
     "metadata": {},
     "output_type": "display_data"
    }
   ],
   "source": [
    "# Histogram of node activity for all 100 latent features\n",
    "sum_node_activity.hist()\n",
    "plt.xlabel('Activation Sum')\n",
    "plt.ylabel('Count')\n",
    "plt.savefig('node_activity_hist.png')"
   ]
  },
  {
   "cell_type": "code",
   "execution_count": 18,
   "metadata": {
    "id": "-qr_zpLUjYnT"
   },
   "outputs": [
    {
     "data": {
      "image/png": "[encoded data removed]",
      "text/plain": [
       "<Figure size 432x432 with 1 Axes>"
      ]
     },
     "metadata": {},
     "output_type": "display_data"
    }
   ],
   "source": [
    "# Example of node activation distribution for the first two latent features\n",
    "plt.figure(figsize=(6, 6))\n",
    "plt.scatter(encoded_pcos_df.iloc[:, 1], encoded_pcos_df.iloc[:, 2])\n",
    "plt.xlabel('Latent Feature 1')\n",
    "plt.ylabel('Latent Feature 2')\n",
    "plt.savefig('node_activation_2_latent.png')"
   ]
  },
  {
   "cell_type": "code",
   "execution_count": 19,
   "metadata": {
    "id": "KWVsn6JOjav0"
   },
   "outputs": [
    {
     "data": {
      "text/html": [
       "<div>\n",
       "<style scoped>\n",
       "    .dataframe tbody tr th:only-of-type {\n",
       "        vertical-align: middle;\n",
       "    }\n",
       "\n",
       "    .dataframe tbody tr th {\n",
       "        vertical-align: top;\n",
       "    }\n",
       "\n",
       "    .dataframe thead th {\n",
       "        text-align: right;\n",
       "    }\n",
       "</style>\n",
       "<table border=\"1\" class=\"dataframe\">\n",
       "  <thead>\n",
       "    <tr style=\"text-align: right;\">\n",
       "      <th></th>\n",
       "      <th>27</th>\n",
       "      <th>36</th>\n",
       "      <th>59</th>\n",
       "      <th>87</th>\n",
       "      <th>94</th>\n",
       "      <th>105</th>\n",
       "      <th>153</th>\n",
       "      <th>164</th>\n",
       "      <th>159</th>\n",
       "      <th>5936_100526737</th>\n",
       "      <th>...</th>\n",
       "      <th>254359</th>\n",
       "      <th>254531</th>\n",
       "      <th>100132341</th>\n",
       "      <th>100287932_100652748</th>\n",
       "      <th>387893</th>\n",
       "      <th>388336</th>\n",
       "      <th>259266</th>\n",
       "      <th>317762</th>\n",
       "      <th>261726</th>\n",
       "      <th>PCOS</th>\n",
       "    </tr>\n",
       "  </thead>\n",
       "  <tbody>\n",
       "    <tr>\n",
       "      <th>0</th>\n",
       "      <td>0.449066</td>\n",
       "      <td>0.493792</td>\n",
       "      <td>0.468927</td>\n",
       "      <td>0.610293</td>\n",
       "      <td>0.490298</td>\n",
       "      <td>0.556576</td>\n",
       "      <td>0.538680</td>\n",
       "      <td>0.424492</td>\n",
       "      <td>0.493736</td>\n",
       "      <td>0.454965</td>\n",
       "      <td>...</td>\n",
       "      <td>0.658568</td>\n",
       "      <td>0.541454</td>\n",
       "      <td>0.553750</td>\n",
       "      <td>0.516871</td>\n",
       "      <td>0.428991</td>\n",
       "      <td>0.42525</td>\n",
       "      <td>0.392693</td>\n",
       "      <td>0.511155</td>\n",
       "      <td>0.477246</td>\n",
       "      <td>0.477770</td>\n",
       "    </tr>\n",
       "    <tr>\n",
       "      <th>1</th>\n",
       "      <td>0.480536</td>\n",
       "      <td>0.483847</td>\n",
       "      <td>0.485015</td>\n",
       "      <td>0.549287</td>\n",
       "      <td>0.488853</td>\n",
       "      <td>0.463269</td>\n",
       "      <td>0.531441</td>\n",
       "      <td>0.470182</td>\n",
       "      <td>0.384164</td>\n",
       "      <td>0.512064</td>\n",
       "      <td>...</td>\n",
       "      <td>0.568609</td>\n",
       "      <td>0.582204</td>\n",
       "      <td>0.625099</td>\n",
       "      <td>0.466384</td>\n",
       "      <td>0.439031</td>\n",
       "      <td>0.42450</td>\n",
       "      <td>0.488347</td>\n",
       "      <td>0.540070</td>\n",
       "      <td>0.400215</td>\n",
       "      <td>0.520253</td>\n",
       "    </tr>\n",
       "  </tbody>\n",
       "</table>\n",
       "<p>2 rows × 1668 columns</p>\n",
       "</div>"
      ],
      "text/plain": [
       "         27        36        59        87        94       105       153  \\\n",
       "0  0.449066  0.493792  0.468927  0.610293  0.490298  0.556576  0.538680   \n",
       "1  0.480536  0.483847  0.485015  0.549287  0.488853  0.463269  0.531441   \n",
       "\n",
       "        164       159  5936_100526737  ...    254359    254531  100132341  \\\n",
       "0  0.424492  0.493736        0.454965  ...  0.658568  0.541454   0.553750   \n",
       "1  0.470182  0.384164        0.512064  ...  0.568609  0.582204   0.625099   \n",
       "\n",
       "   100287932_100652748    387893   388336    259266    317762    261726  \\\n",
       "0             0.516871  0.428991  0.42525  0.392693  0.511155  0.477246   \n",
       "1             0.466384  0.439031  0.42450  0.488347  0.540070  0.400215   \n",
       "\n",
       "       PCOS  \n",
       "0  0.477770  \n",
       "1  0.520253  \n",
       "\n",
       "[2 rows x 1668 columns]"
      ]
     },
     "execution_count": 19,
     "metadata": {},
     "output_type": "execute_result"
    }
   ],
   "source": [
    "# How well does the model reconstruct the input data\n",
    "input_pcos_reconstruct = decoder.predict(np.array(encoded_pcos_df))\n",
    "input_pcos_reconstruct = pd.DataFrame(input_pcos_reconstruct, index=pcos_df.index,\n",
    "                                        columns=pcos_df.columns)\n",
    "input_pcos_reconstruct.head(2)"
   ]
  },
  {
   "cell_type": "code",
   "execution_count": 20,
   "metadata": {
    "id": "0Tv2cV5zjcuq"
   },
   "outputs": [
    {
     "data": {
      "text/html": [
       "<div>\n",
       "<style scoped>\n",
       "    .dataframe tbody tr th:only-of-type {\n",
       "        vertical-align: middle;\n",
       "    }\n",
       "\n",
       "    .dataframe tbody tr th {\n",
       "        vertical-align: top;\n",
       "    }\n",
       "\n",
       "    .dataframe thead th {\n",
       "        text-align: right;\n",
       "    }\n",
       "</style>\n",
       "<table border=\"1\" class=\"dataframe\">\n",
       "  <thead>\n",
       "    <tr style=\"text-align: right;\">\n",
       "      <th></th>\n",
       "      <th>gene mean</th>\n",
       "      <th>gene abs(sum)</th>\n",
       "    </tr>\n",
       "  </thead>\n",
       "  <tbody>\n",
       "    <tr>\n",
       "      <th>PCOS</th>\n",
       "      <td>-0.105640</td>\n",
       "      <td>0.649332</td>\n",
       "    </tr>\n",
       "    <tr>\n",
       "      <th>4629</th>\n",
       "      <td>-0.213442</td>\n",
       "      <td>0.335884</td>\n",
       "    </tr>\n",
       "    <tr>\n",
       "      <th>8835</th>\n",
       "      <td>-0.177820</td>\n",
       "      <td>0.315456</td>\n",
       "    </tr>\n",
       "    <tr>\n",
       "      <th>440193</th>\n",
       "      <td>-0.196969</td>\n",
       "      <td>0.314739</td>\n",
       "    </tr>\n",
       "    <tr>\n",
       "      <th>116285</th>\n",
       "      <td>-0.175459</td>\n",
       "      <td>0.311338</td>\n",
       "    </tr>\n",
       "  </tbody>\n",
       "</table>\n",
       "</div>"
      ],
      "text/plain": [
       "        gene mean  gene abs(sum)\n",
       "PCOS    -0.105640       0.649332\n",
       "4629    -0.213442       0.335884\n",
       "8835    -0.177820       0.315456\n",
       "440193  -0.196969       0.314739\n",
       "116285  -0.175459       0.311338"
      ]
     },
     "execution_count": 20,
     "metadata": {},
     "output_type": "execute_result"
    }
   ],
   "source": [
    "reconstruction_fidelity = pcos_df - input_pcos_reconstruct\n",
    "\n",
    "gene_mean = reconstruction_fidelity.mean(axis=0)\n",
    "gene_abssum = reconstruction_fidelity.abs().sum(axis=0).divide(pcos_df.shape[0])\n",
    "gene_summary = pd.DataFrame([gene_mean, gene_abssum], index=['gene mean', 'gene abs(sum)']).T\n",
    "gene_summary.sort_values(by='gene abs(sum)', ascending=False).head()"
   ]
  },
  {
   "cell_type": "code",
   "execution_count": 21,
   "metadata": {
    "id": "OmIz6r--jfAb"
   },
   "outputs": [
    {
     "data": {
      "image/png": "[encoded data removed]",
      "text/plain": [
       "<Figure size 432x432 with 3 Axes>"
      ]
     },
     "metadata": {},
     "output_type": "display_data"
    }
   ],
   "source": [
    "# Mean of gene reconstruction vs. absolute reconstructed difference per sample\n",
    "g = sns.jointplot('gene mean', 'gene abs(sum)', data=gene_summary)\n",
    "g.savefig('mean_gene_reconstructed_abs.png')"
   ]
  },
  {
   "cell_type": "code",
   "execution_count": null,
   "metadata": {
    "id": "OtMRwOjijhC1"
   },
   "outputs": [],
   "source": []
  },
  {
   "cell_type": "code",
   "execution_count": null,
   "metadata": {
    "id": "FMPzFQsAyN0S"
   },
   "outputs": [],
   "source": []
  }
 ],
 "metadata": {
  "colab": {
   "authorship_tag": "ABX9TyMIRi4D6dcXnjdz3IYy7bEf",
   "collapsed_sections": [],
   "include_colab_link": true,
   "name": "vae-tybalt.ipynb",
   "provenance": []
  },
  "kernelspec": {
   "display_name": "Python 3",
   "language": "python",
   "name": "python3"
  },
  "language_info": {
   "codemirror_mode": {
    "name": "ipython",
    "version": 3
   },
   "file_extension": ".py",
   "mimetype": "text/x-python",
   "name": "python",
   "nbconvert_exporter": "python",
   "pygments_lexer": "ipython3",
   "version": "3.8.5"
  }
 },
 "nbformat": 4,
 "nbformat_minor": 1
}
